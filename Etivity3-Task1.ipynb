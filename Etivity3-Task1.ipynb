{
 "cells": [
  {
   "cell_type": "markdown",
   "metadata": {},
   "source": [
    "# Notebook E-tivity 3 CE4021 Task 1"
   ]
  },
  {
   "cell_type": "markdown",
   "metadata": {},
   "source": [
    "Student name: Aurelie Montfrond"
   ]
  },
  {
   "cell_type": "markdown",
   "metadata": {},
   "source": [
    "Student ID: 22289003"
   ]
  },
  {
   "cell_type": "markdown",
   "metadata": {},
   "source": [
    "<hr style=\\\"border:2px solid gray\\\"> </hr>"
   ]
  },
  {
   "cell_type": "markdown",
   "metadata": {},
   "source": [
    "## Imports"
   ]
  },
  {
   "cell_type": "code",
   "execution_count": 105,
   "metadata": {},
   "outputs": [],
   "source": [
    "import numpy as np\n",
    "import math\n",
    "import random\n",
    "import matplotlib.pyplot as plt"
   ]
  },
  {
   "cell_type": "markdown",
   "metadata": {},
   "source": [
    " If you believe required imports are missing, please contact your moderator."
   ]
  },
  {
   "cell_type": "markdown",
   "metadata": {},
   "source": [
    "<hr style=\\\"border:2px solid gray\\\"> </hr>"
   ]
  },
  {
   "cell_type": "markdown",
   "metadata": {},
   "source": [
    "## Task 1"
   ]
  },
  {
   "cell_type": "markdown",
   "metadata": {},
   "source": [
    "You may add as many cells as you require to complete the task."
   ]
  },
  {
   "cell_type": "markdown",
   "metadata": {},
   "source": [
    "Option Dice: Rolling two 6-sided fair dice with the aim of determining the probability that the sum of the two dice is less than 3 or more than 10."
   ]
  },
  {
   "cell_type": "markdown",
   "metadata": {},
   "source": [
    "I will use a discrete random variable for the random variable and the uniform probability distribution for the probability distribution. I am choosing a discrete random variable because they are countable and finite such as a 6 sided die that has 6 sides each with a countable number 1,2,3,4,5,6. It is not an estimation of a value but indeed a concrete/final value unlike the continious random variable that is used for example within a normal distribution such as a population heights where the values are averages and not exact/finite values. If a person's height is for example 1.70m, it is not their exact height. They might be 1.6999999 m for example or 1.7000011289 m but their height is averaged to the nearest cm. So with a continious probability distribution , we are testing the probabily that values fall into a range of values and not be an exact value. "
   ]
  },
  {
   "cell_type": "markdown",
   "metadata": {},
   "source": [
    "Total outcomes when rolling two 6-sided dices : there are 36 single outcomes that the two dices can come up with and \n",
    "we can find this out by multiplying the total outcomes of the first die which would be 6 as there are six sides each \n",
    "numbered from 1 to 6 (1,2,3,4,5,6) with the total outcomes of the second die which would also be 6 as it's the same 6 \n",
    "sided die as the first die. \n",
    "Total outcomes = 6*6 = 36\n",
    "\n",
    "[1,1], [1,2], [1,3], [1,4], [1,5], [1,6]\n",
    "\n",
    "[2,1], [2,2], [2,3], [2,4], [2,5], [2,6]\n",
    "\n",
    "[3,1], [3,2], [3,3], [3,4], [3,5], [3,6]\n",
    "\n",
    "[4,1], [4,2], [4,3], [4,4], [4,5], [4,6]\n",
    "\n",
    "[5,1], [5,2], [5,3], [5,4], [5,5], [5,6]\n",
    "\n",
    "[6,1], [6,2], [6,3], [6,4], [6,5], [6,6]\n",
    "\n",
    "The total sum of the two dices is 12 so the probability that the sum of the two dices is more than 10 out of the 36 possible outcomes listed above is [5,6], [6,5], [6,6] . So 3/36 chances that the sum will be more than 10.\n",
    "\n",
    "And the probability that the sum of the two dices is less than 3 is [1,1] . So 1/36 chance that the sum will be less than 3.\n",
    "\n",
    "\n",
    "\n",
    "\n",
    "\n"
   ]
  },
  {
   "cell_type": "markdown",
   "metadata": {},
   "source": [
    "The expected value of the random variable is E(X) = x1 + xn/2\n",
    "2+12/2 = 7\n",
    "That is the mean/average value for the sum of the two dices that you would get when trying the experiment over a long period of time\n"
   ]
  },
  {
   "cell_type": "markdown",
   "metadata": {},
   "source": [
    "The standard deviation formula for the sample in this case is :\n",
    "<img src= \"https://mikescalculators.com/wp-content/uploads/2021/05/sample-standard-deviation.png\" />\n",
    "\n",
    "We first need to calculate the mean which is (2+3+4+5+6+7+8+9+10+11+12)/11 = 77/11 = 7 which is the expected value/average as per the above cell.\n",
    "\n",
    "Then we need to substract the mean from each value (so from 2 to 12) and square each result.\n",
    "\n",
    "(2 - 7)2 = (-5)2 = 25, (3 - 7)2 = (-4)2 = 16, (4 - 7)2 = (-3)2 = 9, (5 - 7)2 = (-2)2 = 4, (6 - 7)2 = (-1)2 = 1 ,\n",
    "(7 - 7)2 = (0)2 = 0, (8 - 7)2 = (1)2 = 1, (9 - 7)2 = (2)2 = 4, (10 - 7)2 = (3)2 = 9, (11 - 7)2 = (4)2 = 16 , \n",
    "(12 - 7)2 = (5)2 = 25 \n",
    "\n",
    "We then need to add up all the results and divide by the total of all results -1 just like the total of all values at the beginning for N so 11-1 = 10. 25+16+9+4+1+0+1+4+9+16+25/10 = 110/10 = 11 and then we take the square root of that result 11 which is 3.316\n",
    "\n",
    "The standard deviation for the random variable is 3.316\n"
   ]
  },
  {
   "cell_type": "code",
   "execution_count": 106,
   "metadata": {},
   "outputs": [
    {
     "data": {
      "text/plain": [
       "7.0"
      ]
     },
     "execution_count": 106,
     "metadata": {},
     "output_type": "execute_result"
    }
   ],
   "source": [
    "#Calculating the expected value(mean) and standard deviation of the dataset for the possible sums of two 6 sided dice\n",
    "#using numpy\n",
    "\n",
    "#Creating a numpy 1D array stored in the variable 'dataset' \n",
    "#containing all the possible sums values of two 6 sided dice\n",
    "dataset = np.array([2, 3, 4, 5, 6, 7, 8, 9, 10, 11, 12])\n",
    "\n",
    "#Calculating the expected value(mean) with numpy\n",
    "np.mean(dataset)"
   ]
  },
  {
   "cell_type": "code",
   "execution_count": 107,
   "metadata": {},
   "outputs": [
    {
     "data": {
      "text/plain": [
       "3.1622776601683795"
      ]
     },
     "execution_count": 107,
     "metadata": {},
     "output_type": "execute_result"
    }
   ],
   "source": [
    "#Calculating the standard deviation with numpy.\n",
    "#It is however calculating it using the population standard deviation formula so in this case it is best to calculate\n",
    "#by hand as we need to use the sample standard deviation formula \n",
    "np.std(dataset)"
   ]
  },
  {
   "cell_type": "code",
   "execution_count": 108,
   "metadata": {},
   "outputs": [
    {
     "name": "stdout",
     "output_type": "stream",
     "text": [
      "3.3166247903554\n"
     ]
    }
   ],
   "source": [
    "#However the sample standard deviation formula can be calculated in numpy by calculating the variance \n",
    "#and then taking its square root but it is only working with the added parameter ddof=1 .\n",
    "\n",
    "variance = np.var(dataset, ddof=1)\n",
    "sample = np.sqrt(variance)\n",
    "print(sample)\n"
   ]
  },
  {
   "cell_type": "code",
   "execution_count": 109,
   "metadata": {},
   "outputs": [
    {
     "name": "stdout",
     "output_type": "stream",
     "text": [
      "2\n",
      "4\n",
      "2\n",
      "6\n",
      "4\n",
      "6\n",
      "2\n",
      "6\n",
      "1\n",
      "5\n",
      "\n",
      "2\n",
      "5\n",
      "5\n",
      "5\n",
      "4\n",
      "5\n",
      "2\n",
      "6\n",
      "2\n",
      "5\n",
      "\n",
      "3\n",
      "7\n",
      "9\n",
      "3\n",
      "8\n",
      "6\n",
      "4\n",
      "9\n",
      "6\n",
      "10\n"
     ]
    }
   ],
   "source": [
    "#using the randint() function as part of the random() function to generate a random integer \n",
    "#between 1 and 6 for all the possible outcomes of each die\n",
    "#Creating a function for each die\n",
    "\n",
    "#function for the first die , rolling the first die and generating a random number between 1 and 6\n",
    "def die1():\n",
    "    return random.randint(1,6) #generates random number between 1 and 6\n",
    "#looping through an arbritary range of die roll, in this case 10\n",
    "for i in range(10):\n",
    "#printing the result so 10 results for the 10 rolls\n",
    "    print(die1())\n",
    "\n",
    "#adding a space bewteen the functions\n",
    "print()\n",
    "\n",
    "\n",
    "#function for the second die , rolling the first die and generating a random number between 1 and 6   \n",
    "def die2():\n",
    "    return random.randint(1,6) #generates random number between 1 and 6\n",
    "#looping through an arbritary range of die roll, in this case 10\n",
    "for i in range(10):\n",
    "#printing the result so 10 results for the 10 rolls\n",
    "    print(die2())\n",
    "\n",
    "#adding a space after the last function \n",
    "print()  \n",
    "\n",
    "#looping through a range of die roll, in this case using the for loop on the two functions die1() and die2()\n",
    "#to get their sums 10 times for the 10 rolls of both dice at the same time\n",
    "for i in range(10): \n",
    "#adding the dice together to get the sum for each roll ,both functions are throwing their die at the same time again and\n",
    "#adding them together to get the sum so the sum is different than the two functions alone for die() and die2().\n",
    "    print(die1()+die2())\n",
    "    "
   ]
  },
  {
   "cell_type": "code",
   "execution_count": 110,
   "metadata": {},
   "outputs": [
    {
     "name": "stdout",
     "output_type": "stream",
     "text": [
      "4\n",
      "4\n",
      "5\n",
      "6\n",
      "5\n",
      "3\n",
      "6\n",
      "3\n",
      "2\n",
      "1\n",
      "1\n",
      "3\n",
      "3\n",
      "5\n",
      "2\n",
      "2\n",
      "2\n",
      "5\n",
      "5\n",
      "5\n",
      "\n",
      "3\n",
      "6\n",
      "1\n",
      "2\n",
      "2\n",
      "1\n",
      "1\n",
      "4\n",
      "5\n",
      "1\n",
      "3\n",
      "2\n",
      "5\n",
      "5\n",
      "6\n",
      "4\n",
      "2\n",
      "3\n",
      "5\n",
      "5\n"
     ]
    }
   ],
   "source": [
    "#Outcomes for each die for a number of die roll using a for loop.\n",
    "\n",
    "#Creating a 1D array for all the possible outcomes of a 6 sided die \n",
    "outcomes = [ 1, 2, 3, 4, 5, 6]\n",
    "\n",
    "#function for the first die \n",
    "def die1():\n",
    "    return random.choice(outcomes) #generates random values from the 'outcomes' array.\n",
    "#looping through a range of numbers up to 20 for 20 die rolls in this case\n",
    "for i in range(20):\n",
    "    print(die1())\n",
    "\n",
    "#Adding a space between the functions\n",
    "print()\n",
    "\n",
    "#function for the first die \n",
    "def die2():\n",
    "    return random.choice(outcomes) #generates random values from the 'outcomes' array.\n",
    "#looping through a range of numbers up to 20 for 20 die rolls in this case\n",
    "for i in range(20):\n",
    "    print(die2())\n"
   ]
  },
  {
   "cell_type": "code",
   "execution_count": 111,
   "metadata": {},
   "outputs": [
    {
     "name": "stdout",
     "output_type": "stream",
     "text": [
      "12\n",
      "10\n",
      "11\n",
      "12\n",
      "6\n",
      "9\n",
      "7\n",
      "8\n",
      "7\n",
      "7\n",
      "5\n",
      "6\n",
      "7\n",
      "3\n",
      "12\n",
      "2\n",
      "4\n",
      "5\n",
      "11\n",
      "4\n"
     ]
    }
   ],
   "source": [
    "#Outcome sums of two dice roll using a for loop.\n",
    "\n",
    "#Creating a 1D array for all the possible outcomes for the sums of two 6-sided dice \n",
    "sums = [2, 3, 4, 5, 6, 7, 8, 9, 10, 11, 12]\n",
    "\n",
    "#function for the first die \n",
    "def Twodice():\n",
    "    return random.choice(sums) #generates random values from the 'sums' array.\n",
    "#looping through a range of numbers up to 20 for 20 dice rolls in this case\n",
    "for i in range(20):\n",
    "    print(Twodice())\n",
    "\n",
    " "
   ]
  },
  {
   "cell_type": "code",
   "execution_count": 139,
   "metadata": {},
   "outputs": [
    {
     "data": {
      "image/png": "[encoded data removed]",
      "text/plain": [
       "<Figure size 640x480 with 1 Axes>"
      ]
     },
     "metadata": {},
     "output_type": "display_data"
    }
   ],
   "source": [
    "#Plotting the distribution with the number of bins corresponding to the number of values of the possible sums\n",
    "#of the two dice\n",
    "\n",
    "#Creating a N variable to store the number of rolls of the two dice at the same time\n",
    "#that generates a random integer between two values each time the code is run\n",
    "N = random.randint(1000,100000)\n",
    "#Creating a die1 variable to store a random die throw for the first die\n",
    "die1 = np.random.randint(low=1, high=7, size=N)\n",
    "#Creating a die2 variable to store a random die throw for the second die\n",
    "die2 = np.random.randint(low=1, high=7, size=N)\n",
    "#Looping through the number of rolls of the two dice at the same time\n",
    "for i in range(N): \n",
    "#Adding the two dice together to get the sum\n",
    "    dice = die1 + die2\n",
    "#Plotting the distribution with the number of bins per bars so 11 in total fitting properly with the corresponding values\n",
    "#and the variable dice that contains all the possible sums from 2 to 12.\n",
    "plt.hist(dice, bins=np.arange(2, 14), align=\"left\", rwidth=0.5, color = \"#cc3399\")\n",
    "plt.title(\"Probability distribution for \"+ str(N) + \" rolls\")\n",
    "plt.xlabel(\"Sums of 2 dice\")\n",
    "plt.ylabel(\"Count\")\n",
    "\n",
    "plt.show()\n",
    " "
   ]
  },
  {
   "cell_type": "markdown",
   "metadata": {},
   "source": [
    "## Reflection"
   ]
  },
  {
   "cell_type": "markdown",
   "metadata": {},
   "source": [
    "Write you reflection in below cell."
   ]
  },
  {
   "cell_type": "markdown",
   "metadata": {},
   "source": []
  },
  {
   "cell_type": "code",
   "execution_count": null,
   "metadata": {},
   "outputs": [],
   "source": []
  },
  {
   "cell_type": "code",
   "execution_count": null,
   "metadata": {},
   "outputs": [],
   "source": []
  }
 ],
 "metadata": {
  "kernelspec": {
   "display_name": "Python 3 (ipykernel)",
   "language": "python",
   "name": "python3"
  },
  "language_info": {
   "codemirror_mode": {
    "name": "ipython",
    "version": 3
   },
   "file_extension": ".py",
   "mimetype": "text/x-python",
   "name": "python",
   "nbconvert_exporter": "python",
   "pygments_lexer": "ipython3",
   "version": "3.11.4"
  }
 },
 "nbformat": 4,
 "nbformat_minor": 2
}
