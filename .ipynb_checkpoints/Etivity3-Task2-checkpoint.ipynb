{
 "cells": [
  {
   "cell_type": "markdown",
   "metadata": {},
   "source": [
    "# Notebook E-tivity 3 CE4021 Task 2"
   ]
  },
  {
   "cell_type": "markdown",
   "metadata": {},
   "source": [
    "Student name: Godfrey Jeremiah"
   ]
  },
  {
   "cell_type": "markdown",
   "metadata": {},
   "source": [
    "Student ID: 23310758"
   ]
  },
  {
   "cell_type": "markdown",
   "metadata": {},
   "source": [
    "<hr style=\\\"border:2px solid gray\\\"> </hr>"
   ]
  },
  {
   "cell_type": "markdown",
   "metadata": {},
   "source": [
    "## Imports"
   ]
  },
  {
   "cell_type": "code",
   "execution_count": null,
   "metadata": {},
   "outputs": [],
   "source": [
    "#None"
   ]
  },
  {
   "cell_type": "markdown",
   "metadata": {},
   "source": [
    "If you believe required imports are missing, please contact your moderator."
   ]
  },
  {
   "cell_type": "markdown",
   "metadata": {},
   "source": [
    "<hr style=\\\"border:2px solid gray\\\"> </hr>"
   ]
  },
  {
   "cell_type": "markdown",
   "metadata": {},
   "source": [
    "## Task 2"
   ]
  },
  {
   "cell_type": "markdown",
   "metadata": {},
   "source": [
    "Use the below information to create a Naive Bayes SPAM filter. Test your filter using the messages in new_emails. You may add as many cells as you require to complete the task."
   ]
  },
  {
   "cell_type": "code",
   "execution_count": 1,
   "metadata": {},
   "outputs": [],
   "source": [
    "previous_spam = ['send us your password', 'review our website', 'send your password', 'send us your account']\n",
    "previous_ham = ['Your activity report','benefits physical activity', 'the importance vows']\n",
    "new_emails = {'spam':['renew your password', 'renew your vows'], 'ham':['benefits of our account', 'the importance of physical activity']}"
   ]
  },
  {
   "cell_type": "markdown",
   "metadata": {},
   "source": [
    "### INSTRUCTION"
   ]
  },
  {
   "cell_type": "markdown",
   "metadata": {},
   "source": [
    "Using Etivity3-Task2.ipynb from the Gitlab repository and the dataset contained therein, **create a Naive Bayes Classifier to filter incoming mail for SPAM**.\n",
    "\n",
    "The notebook provides a small dataset of previous 'emails' (please note the absence of punctuation which simplifies the coding challenge somewhat). Previous wanted emails are contained in previous_ham. Previous unwanted emails are contained in previous_spam. \n",
    "\n",
    "**Write code using Bayes' Rule** to determine whether the messages contained in new_emails are HAM or SPAM. Compare the decisions your classifier takes with the label associated with the messages (indicated by the key under which they are stored in the new_emails dictionary. \n",
    "\n",
    "If time permits, add the code required to allow your classifier to learn from the email messages contained in new_emails. Note that this functionality is required to be graded in the _Exemplary category_. \n",
    "\n",
    "**HINTS:**\n",
    "\n",
    "Use functions to divide up the task in smaller components. It is useful to work through the problem by hand to get a handle on what functions would be useful.\n",
    "Choose a suitable threshold of 'spamicity' (or 'spaminess') to distinguish between spam and ham messages in this dataset. \n",
    "\n",
    "**N.B.:**\n",
    "\n",
    "You should not import any module.\n",
    "GIT commit your tested code and push to your remote branch. We do not expect you to complete this task fully by the Post deadline, but we hope that by committing and posting to the forum then, you'll get some valuable feedback on your approach!"
   ]
  },
  {
   "cell_type": "markdown",
   "metadata": {},
   "source": [
    "<hr style=\\\"border:2px solid gray\\\"> </hr>"
   ]
  },
  {
   "cell_type": "markdown",
   "metadata": {},
   "source": [
    "### SOLUTION"
   ]
  },
  {
   "cell_type": "markdown",
   "metadata": {},
   "source": [
    "To create a **Naive Bayes Classifier** for filtering incoming mail for SPAM, we'll follow these steps:\n",
    "\n",
    "1. Calculate the probabilities of spam and ham.\n",
    "2. Calculate the probabilities of each word occurring in spam and ham emails.\n",
    "3. Use Bayes' Rule to classify new emails as spam or ham.\n",
    "4. Compare the classifier's decisions with the labels provided in the new_emails dictionary.\n",
    "5. We'll also include a function to update the classifier's knowledge using the new emails."
   ]
  },
  {
   "cell_type": "code",
   "execution_count": 1,
   "metadata": {},
   "outputs": [
    {
     "name": "stdout",
     "output_type": "stream",
     "text": [
      "Predicted: ham, Actual: spam\n",
      "Predicted: spam, Actual: spam\n",
      "Predicted: ham, Actual: ham\n",
      "Predicted: spam, Actual: ham\n",
      "\n",
      "After updating the classifier:\n",
      "Predicted: ham, Actual: spam\n",
      "Predicted: ham, Actual: spam\n",
      "Predicted: spam, Actual: ham\n",
      "Predicted: spam, Actual: ham\n"
     ]
    }
   ],
   "source": [
    "def calculate_probabilities(previous_spam, previous_ham):\n",
    "    \"\"\"\n",
    "    \n",
    "    \"\"\"\n",
    "    total_spam = len(previous_spam)\n",
    "    total_ham = len(previous_ham)\n",
    "    total_emails = total_spam + total_ham\n",
    "\n",
    "    # Calculate the probabilities of spam and ham\n",
    "    prob_spam = total_spam / total_emails\n",
    "    prob_ham = total_ham / total_emails\n",
    "\n",
    "    return prob_spam, prob_ham\n",
    "\n",
    "def calculate_word_probabilities(previous_spam, previous_ham):\n",
    "    \"\"\"\n",
    "    \n",
    "    \"\"\"\n",
    "    # Create dictionaries to store word probabilities for spam and ham\n",
    "    spam_word_probs = {}\n",
    "    ham_word_probs = {}\n",
    "\n",
    "    # Count the occurrences of each word in spam emails\n",
    "    for email in previous_spam:\n",
    "        words = email.split()\n",
    "        for word in words:\n",
    "            spam_word_probs[word] = spam_word_probs.get(word, 0) + 1\n",
    "\n",
    "    # Count the occurrences of each word in ham emails\n",
    "    for email in previous_ham:\n",
    "        words = email.split()\n",
    "        for word in words:\n",
    "            ham_word_probs[word] = ham_word_probs.get(word, 0) + 1\n",
    "\n",
    "    # Calculate word probabilities for spam and ham\n",
    "    for word in spam_word_probs:\n",
    "        spam_word_probs[word] = (spam_word_probs[word] + 1) / (len(previous_spam) + 2)  # Laplace smoothing\n",
    "    for word in ham_word_probs:\n",
    "        ham_word_probs[word] = (ham_word_probs[word] + 1) / (len(previous_ham) + 2)  # Laplace smoothing\n",
    "\n",
    "    return spam_word_probs, ham_word_probs\n",
    "\n",
    "def classify_email(email, prob_spam, prob_ham, spam_word_probs, ham_word_probs, threshold=0.5):\n",
    "    \"\"\"\n",
    "    \n",
    "    \"\"\"\n",
    "    words = email.split()\n",
    "    prob_spam_given_email = prob_spam\n",
    "    prob_ham_given_email = prob_ham\n",
    "\n",
    "    for word in words:\n",
    "        if word in spam_word_probs:\n",
    "            prob_spam_given_email *= spam_word_probs[word]\n",
    "        if word in ham_word_probs:\n",
    "            prob_ham_given_email *= ham_word_probs[word]\n",
    "\n",
    "    # Use Bayes' Rule to classify the email\n",
    "    spamicity = prob_spam_given_email / (prob_spam_given_email + prob_ham_given_email)\n",
    "\n",
    "    if spamicity > threshold:\n",
    "        return 'spam'\n",
    "    else:\n",
    "        return 'ham'\n",
    "\n",
    "def update_classifier(previous_spam, previous_ham, new_emails):\n",
    "    \"\"\"\n",
    "    \n",
    "    \"\"\"\n",
    "    updated_spam = previous_spam + new_emails['spam']\n",
    "    updated_ham = previous_ham + new_emails['ham']\n",
    "    return updated_spam, updated_ham\n",
    "\n",
    "# Training data\n",
    "previous_spam = ['send us your password', 'review our website', 'send your password', 'send us your account']\n",
    "previous_ham = ['Your activity report','benefits physical activity', 'the importance vows']\n",
    "\n",
    "# New emails\n",
    "new_emails = {'spam': ['renew your password', 'renew your vows'], 'ham': ['benefits of our account', 'the importance of physical activity']}\n",
    "\n",
    "# Initial training\n",
    "prob_spam, prob_ham = calculate_probabilities(previous_spam, previous_ham)\n",
    "spam_word_probs, ham_word_probs = calculate_word_probabilities(previous_spam, previous_ham)\n",
    "\n",
    "# Classify and compare with labels\n",
    "for label, emails in new_emails.items():\n",
    "    for email in emails:\n",
    "        classification = classify_email(email, prob_spam, prob_ham, spam_word_probs, ham_word_probs)\n",
    "        print(f\"Predicted: {classification}, Actual: {label}\")\n",
    "\n",
    "# Update the classifier with new data\n",
    "updated_spam, updated_ham = update_classifier(previous_spam, previous_ham, new_emails)\n",
    "prob_spam, prob_ham = calculate_probabilities(updated_spam, updated_ham)\n",
    "spam_word_probs, ham_word_probs = calculate_word_probabilities(updated_spam, updated_ham)\n",
    "\n",
    "# Re-classify after updating\n",
    "print(\"\\nAfter updating the classifier:\")\n",
    "for label, emails in new_emails.items():\n",
    "    for email in emails:\n",
    "        classification = classify_email(email, prob_spam, prob_ham, spam_word_probs, ham_word_probs)\n",
    "        print(f\"Predicted: {classification}, Actual: {label}\")\n"
   ]
  },
  {
   "cell_type": "markdown",
   "metadata": {},
   "source": [
    "#### Description of solution"
   ]
  },
  {
   "cell_type": "markdown",
   "metadata": {},
   "source": [
    "This first trains the classifier using the initial data, classifies new emails, compares the predictions with the actual labels, and then updates the classifier with the new emails, reclassifies, and prints the results again."
   ]
  },
  {
   "cell_type": "code",
   "execution_count": null,
   "metadata": {},
   "outputs": [],
   "source": []
  },
  {
   "cell_type": "markdown",
   "metadata": {},
   "source": [
    "<hr style=\\\"border:2px solid gray\\\"> </hr>"
   ]
  },
  {
   "cell_type": "markdown",
   "metadata": {},
   "source": [
    "## Reflection"
   ]
  },
  {
   "cell_type": "markdown",
   "metadata": {},
   "source": [
    "Write you reflection in below cell."
   ]
  },
  {
   "cell_type": "markdown",
   "metadata": {},
   "source": []
  },
  {
   "cell_type": "code",
   "execution_count": null,
   "metadata": {},
   "outputs": [],
   "source": []
  },
  {
   "cell_type": "code",
   "execution_count": null,
   "metadata": {},
   "outputs": [],
   "source": []
  }
 ],
 "metadata": {
  "kernelspec": {
   "display_name": "Python 3 (ipykernel)",
   "language": "python",
   "name": "python3"
  },
  "language_info": {
   "codemirror_mode": {
    "name": "ipython",
    "version": 3
   },
   "file_extension": ".py",
   "mimetype": "text/x-python",
   "name": "python",
   "nbconvert_exporter": "python",
   "pygments_lexer": "ipython3",
   "version": "3.11.4"
  }
 },
 "nbformat": 4,
 "nbformat_minor": 2
}
