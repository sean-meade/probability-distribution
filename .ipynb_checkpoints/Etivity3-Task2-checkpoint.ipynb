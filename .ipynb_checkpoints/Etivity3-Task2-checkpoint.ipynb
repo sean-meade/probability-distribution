{
 "cells": [
  {
   "cell_type": "markdown",
   "metadata": {},
   "source": [
    "# Notebook E-tivity 3 CE4021 Task 2"
   ]
  },
  {
   "cell_type": "markdown",
   "metadata": {},
   "source": [
    "Student name: Pierce Currid"
   ]
  },
  {
   "cell_type": "markdown",
   "metadata": {},
   "source": [
    "Student ID: 23260092"
   ]
  },
  {
   "cell_type": "markdown",
   "metadata": {},
   "source": [
    "<hr style=\\\"border:2px solid gray\\\"> </hr>"
   ]
  },
  {
   "cell_type": "markdown",
   "metadata": {},
   "source": [
    "## Imports"
   ]
  },
  {
   "cell_type": "code",
   "execution_count": null,
   "metadata": {},
   "outputs": [],
   "source": [
    "#None"
   ]
  },
  {
   "cell_type": "markdown",
   "metadata": {},
   "source": [
    "If you believe required imports are missing, please contact your moderator."
   ]
  },
  {
   "cell_type": "markdown",
   "metadata": {},
   "source": [
    "<hr style=\\\"border:2px solid gray\\\"> </hr>"
   ]
  },
  {
   "cell_type": "markdown",
   "metadata": {},
   "source": [
    "## Task 2"
   ]
  },
  {
   "cell_type": "markdown",
   "metadata": {},
   "source": [
    "Use the below information to create a Naive Bayes SPAM filter. Test your filter using the messages in new_emails. You may add as many cells as you require to complete the task."
   ]
  },
  {
   "cell_type": "code",
   "execution_count": 66,
   "metadata": {},
   "outputs": [],
   "source": [
    "previous_spam = ['send us your password', 'review our website', 'send your password', 'send us your account']\n",
    "previous_ham = ['Your activity report','benefits physical activity', 'the importance vows']\n",
    "new_emails = {'spam':['renew your password', 'renew your vows'], 'ham':['benefits of our account', 'the importance of physical activity']}"
   ]
  },
  {
   "cell_type": "markdown",
   "metadata": {},
   "source": [
    "#### Theory\n",
    "\n",
    "Bayes theorem and how the equation is built. <br>\n",
    "It is helpful to think in terms of two events – a hypothesis (which can be true or false) and evidence (which can be present or absent).\n",
    "\n",
    "This will ultimately help to build the python implementation for the most important python function in our task - the function that'll determine the probability of whether each single inputted word should be marked as Spam or non-spam\n",
    "\n",
    "Posterior = Prior x (Likelihood over Marginal probability)\n",
    "\n",
    "Posterior <b><i>P(H|E)</i></b>:The probability after the evidence is considered\n",
    "\n",
    "Prior <b><i>P(H)</i></b>:\n",
    "The probability that the hypothesis holds true before any evidence (or new evidence)\n",
    "\n",
    "Likelyhood <b><i>P(E|H)</i></b>: the probability of seeing the evidence, given the hypothesis is true\n",
    "\n",
    "Marginal: <b><i>P(H)P(E|H) + P($\\neg$H)P(E|$\\neg$H)</i></b>: the probability of the evidence, under any circumstances $\\neg$\n",
    "\n",
    "$$P(H|E) = \\frac{P(H)P(E|H)}{>P(H)P(E|H) + P(\\neg H)P(E|\\neg H)}$$\n",
    "\n",
    "\n",
    "Using Bayes theorem to build a spam filter, referencing the algorithm section here: <br>\n",
    "https://courses.cs.washington.edu/courses/cse312/18sp/lectures/naive-bayes/naivebayesnotes.pdf\n",
    "\n",
    "\n",
    "$$P(w | S) = \\frac{|spam\\, emails\\, containing\\, w|+1)} {|spam\\, emails|\\, +\\, 2} $$\n",
    "\n",
    "$$ P(S) = \\frac{|spam\\, emails|} {(|spam\\, emails|\\, +\\, |ham emails|)}$$\n",
    "\n",
    "$$ P(H) = \\frac{|ham\\, emails|} {(|spam\\, emails|\\, +\\, |ham emails|)}$$\n",
    "\n",
    "$$P(S | w1, . . . , xwn) ≈ \\frac{P(S) \\prod_{i=1}^n P(w_i | S)}{P(S) \\prod_{i=1}^n P(w_i | S)\\quad + \\quad P(H) \\prod_{i=1}^n P(w_i | H) }\\$$\n",
    "\n"
   ]
  },
  {
   "cell_type": "markdown",
   "metadata": {},
   "source": [
    "### Python Implementation (so far....)\n",
    "\n",
    "<b>Massage the data:</b><br>\n",
    "We need to build the vocabulary, and look out for the same word in higher/lower case. While looping we'll also lower case.\n",
    "\n",
    "<b>Calculate the priors:</b><br>\n",
    "P(S) = the probability that the email is spam<br>\n",
    "P(H) = the probability that the email is ham<br>\n",
    "\n",
    "<b>Calculate the conditional probabilities: ie, the likelyhood</b><br>\n",
    "P(w|S) = the probability the the word occurs in an email, given its a spam email<br>\n",
    "P(S|w) = the probability that the email is spam, given it contains a certain word<br>"
   ]
  },
  {
   "cell_type": "markdown",
   "metadata": {},
   "source": [
    "### The code (so far....only Priors are coded up)"
   ]
  },
  {
   "cell_type": "code",
   "execution_count": 153,
   "metadata": {},
   "outputs": [],
   "source": [
    "class NBClassifier:\n",
    "    \n",
    "    def __init__(self, spam_mails, ham_mails, new_mails):\n",
    "        self.spam_mails = spam_mails\n",
    "        self.ham_mails = ham_mails\n",
    "        self.new_mails = new_mails\n",
    "        self.unique_spam_words = set()\n",
    "        self.unique_ham_words = set()\n",
    "        self.spam_priors = 0.0\n",
    "        self.ham_priors = 0.0\n",
    "\n",
    "    def build_vocabulary(self):\n",
    "        self.update_unique_words(self.unique_spam_words, self.spam_mails)\n",
    "        self.update_unique_words(self.unique_ham_words, self.ham_mails)\n",
    "        return [self.unique_spam_words, self.unique_ham_words]\n",
    "    \n",
    "    def update_unique_words(self, unique_words, emails):\n",
    "        for email in emails:\n",
    "            content = email.split()\n",
    "            for word in content:\n",
    "                unique_words.add(word.lower())\n",
    "               \n",
    "    \n",
    "    def calculate_priors(self):\n",
    "        \"\"\"calculate P(S) & P(H)\"\"\"\n",
    "        self.spam_priors = len(self.spam_mails)/ (len(self.spam_mails) + len(self.ham_mails))\n",
    "        self.ham_priors = len(self.ham_mails)/ (len(self.spam_mails) + len(self.ham_mails))\n",
    "    \n",
    "        return [self.spam_priors, self.ham_priors]\n",
    "     \n",
    "    def conditional_priors(self):\n",
    "        \"\"\"calculate P(w|S) & P(w|H)\"\"\"\n",
    "        self.build_vocabulary()\n",
    "        \n",
    "        for word in self.unique_spam_words:\n",
    "            count = 0\n",
    "            for email in self.spam_mails:\n",
    "                if email.count(word)>0:\n",
    "                    count+=1\n",
    "            \n",
    "            spaminess = (count+1)/(len(self.spam_mails)+2)\n",
    "            print(word + \" has \" + str(spaminess) + \" spaminess. Count is \" + str(count))"
   ]
  },
  {
   "cell_type": "markdown",
   "metadata": {},
   "source": [
    "### Test the code"
   ]
  },
  {
   "cell_type": "code",
   "execution_count": 154,
   "metadata": {},
   "outputs": [
    {
     "name": "stdout",
     "output_type": "stream",
     "text": [
      "Respective prior probabilities for Spam and Ham before the evidence is: [0.5714285714285714, 0.42857142857142855]\n",
      "account is 0.3333333333333333 count is 1\n",
      "your is 0.6666666666666666 count is 3\n",
      "password is 0.5 count is 2\n",
      "send is 0.6666666666666666 count is 3\n",
      "us is 0.5 count is 2\n",
      "website is 0.3333333333333333 count is 1\n",
      "review is 0.3333333333333333 count is 1\n",
      "our is 0.8333333333333334 count is 4\n"
     ]
    }
   ],
   "source": [
    "test_classifier = NBClassifier(previous_spam, previous_ham, new_emails)\n",
    "print(\"Respective prior probabilities for Spam and Ham before the evidence is: \" + str(test_classifier.calculate_priors()))\n",
    "test_classifier.conditional_priors()"
   ]
  },
  {
   "cell_type": "markdown",
   "metadata": {},
   "source": [
    "<hr style=\\\"border:2px solid gray\\\"> </hr>"
   ]
  },
  {
   "cell_type": "markdown",
   "metadata": {},
   "source": [
    "## Reflection"
   ]
  },
  {
   "cell_type": "markdown",
   "metadata": {},
   "source": [
    "Write you reflection in below cell."
   ]
  },
  {
   "cell_type": "markdown",
   "metadata": {},
   "source": []
  }
 ],
 "metadata": {
  "kernelspec": {
   "display_name": "Python 3 (ipykernel)",
   "language": "python",
   "name": "python3"
  },
  "language_info": {
   "codemirror_mode": {
    "name": "ipython",
    "version": 3
   },
   "file_extension": ".py",
   "mimetype": "text/x-python",
   "name": "python",
   "nbconvert_exporter": "python",
   "pygments_lexer": "ipython3",
   "version": "3.11.4"
  }
 },
 "nbformat": 4,
 "nbformat_minor": 2
}
