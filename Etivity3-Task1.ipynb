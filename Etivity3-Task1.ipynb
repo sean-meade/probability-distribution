{
 "cells": [
  {
   "cell_type": "markdown",
   "metadata": {},
   "source": [
    "# Notebook E-tivity 3 CE4021 Task 1"
   ]
  },
  {
   "cell_type": "markdown",
   "metadata": {},
   "source": [
    "**Student name:** Jason Coleman"
   ]
  },
  {
   "cell_type": "markdown",
   "metadata": {},
   "source": [
    "**Student ID:** 9539719"
   ]
  },
  {
   "cell_type": "markdown",
   "metadata": {},
   "source": [
    "## Imports"
   ]
  },
  {
   "cell_type": "code",
   "execution_count": 71,
   "metadata": {},
   "outputs": [],
   "source": [
    "import numpy as np\n",
    "import math\n",
    "import random\n",
    "import matplotlib.pyplot as plt"
   ]
  },
  {
   "cell_type": "markdown",
   "metadata": {},
   "source": [
    " If you believe required imports are missing, please contact your moderator."
   ]
  },
  {
   "cell_type": "markdown",
   "metadata": {},
   "source": [
    "# Task 1: Option Dice"
   ]
  },
  {
   "cell_type": "markdown",
   "metadata": {},
   "source": [
    "Rolling two 6-sided fair dice with the aim of determining the probability that the sum of the two dice is less than 3 or more than 10.\n",
    "\n",
    "* Briefly explain the type of random variable and probability distribution you will use. The choice of a continuous or a discrete random variable, and the probability distribution (normal, uniform, binomial, ..) should be informed by the type of experiment.\n",
    "\n",
    "* Write Python code to simulate the experiment. The code should run the experiment a sufficient number of times such that you can experimentally approximate the following:\n",
    "\n",
    "* The expected value of your random variable.\n",
    "\n",
    "* The standard deviation of your random variable.\n",
    "\n",
    "* Plot the distribution found in your simulated experiment with an appropriate number of 'bins'\n",
    "\n",
    "**N.B.:**\n",
    "\n",
    "* Structure your notebook as follows:\n",
    "    1. Markdown cell with problem description\n",
    "    2. Markdown cells with expected value and standard deviation of your random variable\n",
    "    3. Cell(s) with experiment\n",
    "    4. Cell(s) with outputs and graphs\n",
    "    5. Commentary comparing calculated values to experimentally obtained values.\n",
    "\n",
    "* You may only use the following modules:\n",
    "    * Random\n",
    "    * Numpy\n",
    "    * A visualisation module such as Matplotlib\n",
    "    * Math\n",
    "\n",
    "* You are not required to perform exception handling.\n",
    "* You are not required to provide tests for your code."
   ]
  },
  {
   "cell_type": "markdown",
   "metadata": {},
   "source": [
    "# Solution"
   ]
  },
  {
   "cell_type": "markdown",
   "metadata": {},
   "source": [
    "I will start by outlining the problem. Roll two 6-sided fair dice and determine the probability that the sum of the two dice is less than 3 or more than 10.\n",
    "\n",
    "| Dice Roll       | Description      | Probability   | Probability |\n",
    "|-----------------|-----------------|---------------|-------------|\n",
    "| <span style=\"font-size:24px;\">&#9856;</span> <span style=\"font-size:24px;\">&#9856;</span> | Snake eyes (&#x4DFE;) | 1/36 | 0.0278      |\n",
    "| <span style=\"font-size:24px;\">&#9860;</span> <span style=\"font-size:24px;\">&#9861;</span> | Yo/Yo-leven      | 1/36 | 0.0278      |\n",
    "| <span style=\"font-size:24px;\">&#9861;</span> <span style=\"font-size:24px;\">&#9860;</span> | Six five, no Jive | 1/36 | 0.0278      |\n",
    "| <span style=\"font-size:24px;\">&#9861;</span> <span style=\"font-size:24px;\">&#9861;</span> | Boxcars/Midnight | 1/36 | 0.0278      |\n",
    "\n",
    "\n",
    "## Structure\n",
    "The structure of the assignement is as follows:\n",
    "\n",
    "* I will calculate the various required elements: probabilities, Expected value of the random variable and std-dev of the Random variable. \n",
    "* Then I will implement python code to roll dice, describe the experiments, summarise the outcomes with tables and plots. \n",
    "* Run the experiments\n",
    "* Reflect on the observations\n",
    "* The Appendix will hold things like mathematical derivations and miscellaneus experiments (outside the scope)"
   ]
  },
  {
   "cell_type": "markdown",
   "metadata": {},
   "source": [
    "## Calculating P(X), E[X] and std-dev for the Random variable"
   ]
  },
  {
   "cell_type": "markdown",
   "metadata": {},
   "source": [
    "When rolling 2d6, each die has 6 possible outcomes: {1, 2, 3, 4, 5, 6}. The sample space for rolling two such dice is the set of all possible ordered pairs of outcomes, one from the first die and one from the second die.\n",
    "\n",
    "There are a total of $6 \\times 6 = 36$ possible ordered pairs in the total sample space.\n",
    "\n",
    "$$\n",
    "S = \\{ (1, 1), (1, 2), (1, 3), (1, 4), (1, 5), (1, 6), \\\\\n",
    "    (2, 1), (2, 2), (2, 3), (2, 4), (2, 5), (2, 6), \\\\\n",
    "    (3, 1), (3, 2), (3, 3), (3, 4), (3, 5), (3, 6), \\\\\n",
    "    (4, 1), (4, 2), (4, 3), (4, 4), (4, 5), (4, 6), \\\\\n",
    "    (5, 1), (5, 2), (5, 3), (5, 4), (5, 5), (5, 6), \\\\\n",
    "    (6, 1), (6, 2), (6, 3), (6, 4), (6, 5), (6, 6) \\}\n",
    "$$\n",
    "\n",
    "But we will only we working with a subset due to the filtering (i.e. $X \\lt 3$ or $X \\gt 10$).\n",
    "\n",
    "**Goal:** Determining the probability that the sum of the two dice is less than 3 or more than 10\n",
    "$$\n",
    "P(X \\lt 3 | X \\gt 10)\n",
    "$$"
   ]
  },
  {
   "cell_type": "markdown",
   "metadata": {},
   "source": [
    "### Probability (when we filter the rolls)\n",
    "The subset of ordered pairs, known as the possible outcomes, that sum to $> 10$ or $< 3$ are:\n",
    "\n",
    "$$\n",
    "S' = \\{ (1, 1), (5, 6), (6, 5), (6, 6) \\}\n",
    "$$\n",
    "\n",
    "\n",
    "To find the probability of rolling an ordered pair that belongs to the subset $S'$, we divide the number of desired outcomes by the total number of possible outcomes when rolling two six-sided dice. \n",
    "\n",
    "The probability of rolling one of the desired outcomes, $P(S')$ is:\n",
    "\n",
    "$$\n",
    "P(S') = \\frac{\\text{No. of desired outcomes}}{\\text{Total Number of Outcomes}}\n",
    "$$\n",
    "\n",
    "$$\n",
    "P(S') = \\frac{4}{36} = \\frac{1}{9} \\approx \\boxed{0.11}\n",
    "$$\n",
    "\n",
    " Another way to look at this is:\n",
    "\n",
    "* Rolling less than 3, rolling a (1,1):\n",
    "\n",
    "\n",
    "$$\n",
    "\\frac{1}{6} \\times \\frac{1}{6} = \\frac{1}{36} = \\boxed{0.0278}\n",
    "$$\n",
    "\n",
    "\n",
    "* Rolling greater than 10: rolling (5,6), (6,5), (6,6)\n",
    "\n",
    "\n",
    "$$\n",
    "(\\frac{1}{6} \\times \\frac{1}{6}) = \\frac{1}{36}\n",
    "$$\n",
    "\n",
    "$$\n",
    "(\\frac{1}{6} \\times \\frac{1}{6}) + (\\frac{1}{6} \\times \\frac{1}{6}) = \\frac{1}{18}\n",
    "$$\n",
    "\n",
    "$$\n",
    "=> \\frac{1}{36} + \\frac{1}{18} = \\frac{1}{12} = \\boxed{0.0834}\n",
    "$$\n",
    "\n",
    "* Probability of rolling a desired outcome is:\n",
    "\n",
    "$$\n",
    "0.0278 + 0.0834 \\approx  \\boxed{0.1112}\n",
    "$$"
   ]
  },
  {
   "cell_type": "markdown",
   "metadata": {},
   "source": [
    "### Mathematical Summary\n",
    "The following table shows the calculations: \n",
    "\n",
    "* At face value, the distribution of 2d6, filtering out X<2 or X>10 is non-uniform. The distribution for an unfiltered 2d6 is not normal but tends towards triangular.\n",
    "* Random Variables, $X$ are numerical values that are assigned to an outcome of an event. We can calculate the probability of the random variable having a particular value ($P(x)$).\n",
    "* Our random variables are discrete (countable and finite).\n",
    "* The possible outcomes are, $\\boxed{S' = \\{ 2, 11, 11, 12 \\}}$ out of a total of 36 possible dice throws.\n",
    "* The probability of rolling one of the desired outcomes is $\\boxed{0.1112}$\n",
    "* The Expected Value is: TODO\n",
    "* The standard deviation, $\\sigma$: TODO$\n",
    "* Depending on how we phrase this, this \"game\" could be termed a `Bernoulli Trial` since we are measuring success (sum < 3 or > 10) or failure so, then the  distribution is `Binomial`. See the Appendix for more details, the game section."
   ]
  },
  {
   "cell_type": "markdown",
   "metadata": {},
   "source": [
    "## Python Implementation\n",
    "The approach I'll take will rely on rolling lots of 2d6 and measuring when the sums of the dice match our conditions. I will want to see if the number of trials I do, impacts how well I match the previous paper-based calculations (see [Law of Large Numbers](https://en.wikipedia.org/wiki/Law_of_large_numbers)). \n",
    "\n",
    "When I write this code, I'm not really thinking about the type of distributions; I just want to run the experiments to see the shapes I get. I can then match it to the theory above."
   ]
  },
  {
   "cell_type": "code",
   "execution_count": 95,
   "metadata": {},
   "outputs": [],
   "source": [
    "def roll_2d6() -> int:\n",
    "    \"\"\"\n",
    "    Simple function to roll 2d6 and return the sum of the two dice.\n",
    "\n",
    "    :return: A sum of random variables representing the event, rolling \n",
    "             a dice (Sum of a single 2d6 dice roll).\n",
    "    \"\"\"\n",
    "\n",
    "    return random.randint(1,6) + random.randint(1,6)"
   ]
  },
  {
   "cell_type": "markdown",
   "metadata": {},
   "source": [
    "## What if we reframe the task as a game\n",
    "It seems like the approach we take depends on how we phrase the problem. You could say that this task relates to a very simple dice game where:\n",
    "\n",
    "* The player has two six-sided dice\n",
    "* You `win` the round if you roll one of the combinations below.\n",
    "* Else, you `lose`.\n",
    "\n",
    "| Dice Roll       | Description      | \n",
    "|-----------------|-----------------|\n",
    "| <span style=\"font-size:24px;\">&#9856;</span> <span style=\"font-size:24px;\">&#9856;</span> | Snake eyes (&#x4DFE;) | \n",
    "| <span style=\"font-size:24px;\">&#9860;</span> <span style=\"font-size:24px;\">&#9861;</span> | Yo/Yo-leven      |\n",
    "| <span style=\"font-size:24px;\">&#9861;</span> <span style=\"font-size:24px;\">&#9860;</span> | Six five, no Jive | \n",
    "| <span style=\"font-size:24px;\">&#9861;</span> <span style=\"font-size:24px;\">&#9861;</span> | Boxcars/Midnight | \n",
    "\n",
    "So, what is the probability of winning the game? \n",
    "\n",
    "There are two outcomes: success or failure. In this case, the distribution for the sum of two die rolls is `non-uniform`. We could consider this a `Bernoulli Trial` since we are measuring success (where sum < 3 or > 10) or failure. "
   ]
  },
  {
   "cell_type": "code",
   "execution_count": 119,
   "metadata": {},
   "outputs": [
    {
     "data": {
      "image/png": "[encoded data removed]",
      "text/plain": [
       "<Figure size 640x480 with 1 Axes>"
      ]
     },
     "metadata": {},
     "output_type": "display_data"
    },
    {
     "data": {
      "image/png": "[encoded data removed]",
      "text/plain": [
       "<Figure size 640x480 with 1 Axes>"
      ]
     },
     "metadata": {},
     "output_type": "display_data"
    }
   ],
   "source": [
    "num_trials = 100_000_000 # Law of large numbers, takes 1.2m to run on an M1 Ultra\n",
    "\n",
    "sums = [roll_2d6() for i in range(num_trials)]\n",
    "\n",
    "#filter sums by sum > 10 or sum < 3\n",
    "# sums = [x for x in sums if x > 10 or x < 3]\n",
    "\n",
    "\n",
    "# . plot as a PMF show mean\n",
    "plt.hist(sums, bins=11, density=True, label=\"PMF\", color='green')\n",
    "plt.title(\"PMF of 2d6\")\n",
    "plt.xlabel(\"Sum of 2d6\")\n",
    "plt.ylabel(\"Probability\")\n",
    "plt.show()\n",
    "\n",
    "# plot as a CDF\n",
    "plt.hist(sums, bins=11, density=True, cumulative=True, label=\"CDF\", color='green')\n",
    "plt.title(\"CDF of 2d6\")\n",
    "plt.xlabel(\"Sum of 2d6\")\n",
    "plt.ylabel(\"Probability\")\n",
    "plt.show()\n"
   ]
  },
  {
   "cell_type": "markdown",
   "metadata": {},
   "source": [
    "## Reflection"
   ]
  },
  {
   "cell_type": "markdown",
   "metadata": {},
   "source": [
    "#### Summary:\n",
    "\n",
    "* The sum of two dice is represented by a discrete random variable which in turn represents the sum of two random variables (each dice roll numerical result is its own random variable).\n",
    "* The probability distribution is unique to the process of summing two dice, with a  filtering condition and doesn't quite fit the standard definitions of uniform,  or normal distributions (for two dice - we can approach a normal dist if we vastly increase the number of iterations - see [here](https://mathworld.wolfram.com/Dice.html)).\n",
    "* The bigger the sample size, the more the actual probabilities tends to approach the expected probabilities.\n",
    "* I actually did this backwards - I used Python to get experimental evidence and then worked on the maths."
   ]
  },
  {
   "cell_type": "markdown",
   "metadata": {},
   "source": [
    "## References:\n",
    "* https://www.youtube.com/watch?v=YXLVjCKVP7U&ab_channel=zedstatistics - PMF, CDF\n",
    "* https://youtu.be/YXLVjCKVP7U?t=397 Probaility vs. Outcome\n",
    "* [mbmlbook](https://mbmlbook.com/MurderMystery.html#concept_def_random_variable)\n",
    "* [Brilliant Random Variable course](https://brilliant.org/courses/probability_ii/introduction-110/random-variables)\n",
    "* [Dice, Mathworld](https://mathworld.wolfram.com/Dice.html)\n",
    "* [Playing Craps](https://mathworld.wolfram.com/Craps.html)\n",
    "* [Law of Large Numbers](https://en.wikipedia.org/wiki/Law_of_large_numbers)\n",
    "* [Random Variables](https://online.stat.psu.edu/stat500/lesson/3/3.1)\n",
    "* [Expected Value and Variance of Discrete Random Variables](https://online.stat.psu.edu/stat500/lesson/3/3.2/3.2.1)"
   ]
  },
  {
   "cell_type": "markdown",
   "metadata": {},
   "source": [
    "## Appendix"
   ]
  },
  {
   "cell_type": "markdown",
   "metadata": {},
   "source": [
    "### Definitions\n",
    "\n",
    "**Random Variable, X**\n",
    "*\"A random variable, $X$ assigns a numerical value to each outcome of a chance event. Random variables are not the same as the event they quantify\"* (see [Brilliant](https://brilliant.org/courses/probability_ii/introduction-110/random-variables)). In our case, each dice roll result is a Random Variable and the sum of the dice rolls is also a Random variable (a compound one).\n",
    "\n",
    "\n",
    "**Sample Space, S**\n",
    "This is the set of all possible outcomes for an event.\n",
    "\n",
    "**Type of Random Variable:**\n",
    "The sum of the two dice represents a single  `discrete random` variable as the dice roll can only lead to positive integers in the range 2-12. \n",
    "\n",
    "**Probability Distribution:**\n",
    "The probability distribution shows the likelihood for each possible value. In some ways, the question determines the distribution.\n",
    "\n",
    "*Notes:* I will use $nd6$ to represent the sum of n d6-sided dice (e.g. 1d6, 2d6).\n",
    "\n",
    "* **Rolling 1d6** - The distribution for a perfectly balanced, single dice roll is `uniform`. Each result is equally likely (i.e. $\\frac{1}{6}$ chance). For this assignment, we are not interested in just 1d6.\n",
    "* **Rolling 2d6** - while the distribution of a fair 1d6 is uniform, the distribution for the sum of two die rolls is `non-uniform` (since there are different chances assigned to getting each sum)."
   ]
  }
 ],
 "metadata": {
  "kernelspec": {
   "display_name": "Python 3",
   "language": "python",
   "name": "python3"
  },
  "language_info": {
   "codemirror_mode": {
    "name": "ipython",
    "version": 3
   },
   "file_extension": ".py",
   "mimetype": "text/x-python",
   "name": "python",
   "nbconvert_exporter": "python",
   "pygments_lexer": "ipython3",
   "version": "3.10.9"
  }
 },
 "nbformat": 4,
 "nbformat_minor": 2
}
