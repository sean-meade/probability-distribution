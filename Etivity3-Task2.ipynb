{
 "cells": [
  {
   "cell_type": "markdown",
   "metadata": {},
   "source": [
    "# Notebook E-tivity 3 CE4021 Task 2"
   ]
  },
  {
   "cell_type": "markdown",
   "metadata": {},
   "source": [
    "Student name: Sean Meade"
   ]
  },
  {
   "cell_type": "markdown",
   "metadata": {},
   "source": [
    "Student ID: 10128921"
   ]
  },
  {
   "cell_type": "markdown",
   "metadata": {},
   "source": [
    "<hr style=\\\"border:2px solid gray\\\"> </hr>"
   ]
  },
  {
   "cell_type": "markdown",
   "metadata": {},
   "source": [
    "## Imports"
   ]
  },
  {
   "cell_type": "code",
   "execution_count": 1,
   "metadata": {},
   "outputs": [],
   "source": [
    "#None"
   ]
  },
  {
   "cell_type": "markdown",
   "metadata": {},
   "source": [
    "If you believe required imports are missing, please contact your moderator."
   ]
  },
  {
   "cell_type": "markdown",
   "metadata": {},
   "source": [
    "<hr style=\\\"border:2px solid gray\\\"> </hr>"
   ]
  },
  {
   "cell_type": "markdown",
   "metadata": {},
   "source": [
    "## Task 2"
   ]
  },
  {
   "cell_type": "markdown",
   "metadata": {},
   "source": [
    "Use the below information to create a Naive Bayes SPAM filter. Test your filter using the messages in new_emails. You may add as many cells as you require to complete the task."
   ]
  },
  {
   "cell_type": "code",
   "execution_count": 2,
   "metadata": {},
   "outputs": [],
   "source": [
    "previous_spam = ['send us your password', 'review our website', 'send your password', 'send us your account']\n",
    "previous_ham = ['Your activity report','benefits physical activity', 'the importance vows']\n",
    "new_emails = {'spam':['renew your password', 'renew your vows'], 'ham':['benefits of our account', 'the importance of physical activity']}"
   ]
  },
  {
   "cell_type": "markdown",
   "metadata": {},
   "source": [
    "First I created a function for making a list of the words from the string that represents an email. "
   ]
  },
  {
   "cell_type": "code",
   "execution_count": 3,
   "metadata": {},
   "outputs": [],
   "source": [
    "def list_of_words_from_email(email):\n",
    "\n",
    "    \"\"\"\n",
    "    Takes in a string email and produces the words of that email as a list of strings.\n",
    "    \"\"\"\n",
    "\n",
    "    # split the email into a list of words\n",
    "    words = email.split()\n",
    "    \n",
    "    return words"
   ]
  },
  {
   "cell_type": "markdown",
   "metadata": {},
   "source": [
    "Then a function that takes in a list of emails and counts the words in it. This is used to find the number of words in the test data for the given spam or ham emails."
   ]
  },
  {
   "cell_type": "code",
   "execution_count": 4,
   "metadata": {},
   "outputs": [],
   "source": [
    "def dict_count_words_in_emails(words, emails):\n",
    "\n",
    "    \"\"\"\n",
    "    Takes in a list or set of words and checks how many words are in the list of emails.\n",
    "    \"\"\"\n",
    "\n",
    "    words_count = {}\n",
    "\n",
    "    # for every word in our training data\n",
    "    for word in words:\n",
    "        # Create an entry in the dictionary\n",
    "        words_count[word.lower()] = 0\n",
    "        # Then loop through the emails\n",
    "        for email in emails:\n",
    "            # if the word is in the email\n",
    "            if word.lower() in email:\n",
    "                # add the word count to its corresponding dictionary entry\n",
    "                words_count[word.lower()] += email.count(word)\n",
    "    \n",
    "    return words_count"
   ]
  },
  {
   "cell_type": "markdown",
   "metadata": {},
   "source": [
    "Next I use the output of the last function to calculate the probability the email is in that category.\n",
    "\n",
    "$$ \\mathbb{P}(word|S) = \\frac{number~of~spam~emails~containing~the~word~+~1}{number~of~spam~emails~+~2} $$\n",
    "\n",
    "$$ \\mathbb{P}(word|H) = \\frac{number~of~ham~emails~containing~the~word~+~1}{number~of~ham~emails~+~2} $$\n",
    "\n",
    "I use Laplace smoothing to account for words in the test emails that are not in the training emails. This is done by adding 1 to the numerator and 2 to the denominator. So instead of an untrained words working out to a probability of zero it will work out at 1 over the number of emails in that category."
   ]
  },
  {
   "cell_type": "code",
   "execution_count": 5,
   "metadata": {},
   "outputs": [],
   "source": [
    "def prob_of_word_in_emails(word_count, emails):\n",
    "\n",
    "    \"\"\"\n",
    "    Calculates the probability of each word given the email is spam or ham.\n",
    "    \"\"\"\n",
    "\n",
    "    # a dictionary that will contain the probabilities for each word for a given category\n",
    "    word_prob = {}\n",
    "    # number of emails\n",
    "    email_count = len(emails)\n",
    "    # using the word and it's count\n",
    "    for word, count in word_count.items():\n",
    "        # calculate the probability that the word is spam or hame\n",
    "        word_prob[word] = (count + 1)/(email_count + 2)\n",
    "    \n",
    "    return word_prob"
   ]
  },
  {
   "cell_type": "markdown",
   "metadata": {},
   "source": [
    "Then work out the probability of an email being spam or ham based on the training data.\n",
    "\n",
    "$$ \\mathbb{P}(S) = \\frac{number~of~spam~emails}{total~number~of~emails} $$\n",
    "$$ \\mathbb{P}(H) = \\frac{number~of~ham~emails}{total~number~of~emails} $$"
   ]
  },
  {
   "cell_type": "code",
   "execution_count": 6,
   "metadata": {},
   "outputs": [],
   "source": [
    "def probability_of_spam_and_ham(spam_emails, ham_emails):\n",
    "    \"\"\"\n",
    "    This function takes the spam and ham emails and returns the probability that an email will be ham or spam based on that\n",
    "    \"\"\"\n",
    "\n",
    "    # a dictionary to hold the returned probabilities\n",
    "    probs = {}\n",
    "\n",
    "    # total number of emails\n",
    "    total_email_count = len(spam_emails) + len(ham_emails)\n",
    "\n",
    "    # then work out the probabilities by the number of emails in the category divided by the total number of emails \n",
    "    probs[\"prob_email_spam\"] = len(spam_emails)/total_email_count\n",
    "    probs[\"prob_email_ham\"] = len(ham_emails)/total_email_count\n",
    "\n",
    "    return probs\n",
    "\n",
    "# Calculate and save the probability an email is spam and ham\n",
    "prob_of_spam_and_ham = probability_of_spam_and_ham(previous_spam, previous_ham)\n",
    "P_S = prob_of_spam_and_ham[\"prob_email_spam\"]\n",
    "P_H = prob_of_spam_and_ham[\"prob_email_ham\"]"
   ]
  },
  {
   "cell_type": "markdown",
   "metadata": {},
   "source": [
    "And as expected the probability of an email being spam plus the probability of an email being ham is equal to 1, because they are the only two possible outcomes."
   ]
  },
  {
   "cell_type": "code",
   "execution_count": 7,
   "metadata": {},
   "outputs": [
    {
     "data": {
      "text/plain": [
       "1.0"
      ]
     },
     "execution_count": 7,
     "metadata": {},
     "output_type": "execute_result"
    }
   ],
   "source": [
    "P_S + P_H"
   ]
  },
  {
   "cell_type": "markdown",
   "metadata": {},
   "source": [
    "This next one uses the list_of_words_from_email function on a list of emails."
   ]
  },
  {
   "cell_type": "code",
   "execution_count": 8,
   "metadata": {},
   "outputs": [],
   "source": [
    "def list_of_words_from_emails(emails):\n",
    "    \"\"\"\n",
    "    takes in a list of strings representing emails and returns a list of all the words\n",
    "    \"\"\"\n",
    "\n",
    "    # a list to contain the returned list of words\n",
    "    words_in_emails = []\n",
    "\n",
    "    # loop through emails\n",
    "    for email in emails:\n",
    "        # split the email into words and add them to returned list\n",
    "        words_in_emails += list_of_words_from_email(email)\n",
    "\n",
    "    return words_in_emails"
   ]
  },
  {
   "cell_type": "markdown",
   "metadata": {},
   "source": [
    "It's important to remove untrained words from the test emails. The words have no weight in the final calculation."
   ]
  },
  {
   "cell_type": "code",
   "execution_count": 9,
   "metadata": {},
   "outputs": [],
   "source": [
    "def remove_untrained_words(email, trained_words):\n",
    "\n",
    "    \"\"\"\n",
    "    Takes in a string representing an email and a list of the words used in training. It returns the list of words in the email that are also in the training data.\n",
    "    \"\"\"\n",
    "\n",
    "    # Set containing the unique words of the email\n",
    "    set_of_email_words = set(list_of_words_from_email(email))\n",
    "\n",
    "    # list that returns the words in both email and trained_words\n",
    "    cross_over_words = []\n",
    "\n",
    "    # for every unique word of the email\n",
    "    for word in set_of_email_words:\n",
    "        # if that for is in the training data\n",
    "        if word in trained_words:\n",
    "            # add that word to the returned list\n",
    "            cross_over_words.append(word.lower())\n",
    "\n",
    "    return cross_over_words"
   ]
  },
  {
   "cell_type": "markdown",
   "metadata": {},
   "source": [
    "Then tying it all together into one function that returns the probability of each word for that category."
   ]
  },
  {
   "cell_type": "code",
   "execution_count": 10,
   "metadata": {},
   "outputs": [],
   "source": [
    "def prob_of_words_for(emails):\n",
    "    \"\"\"\n",
    "    Takes in a list of emails (either ham or spam) and returns the probability of \n",
    "    each word given the email was spam or ham.\n",
    "    \"\"\"\n",
    "\n",
    "    words = list_of_words_from_emails(emails)\n",
    "    word_count = dict_count_words_in_emails(words, emails)\n",
    "    word_probs = prob_of_word_in_emails(word_count, emails)\n",
    "\n",
    "    return word_probs"
   ]
  },
  {
   "cell_type": "markdown",
   "metadata": {},
   "source": [
    "Finally we tie everything together we can work out the probability an email is spam given the words on the email:\n",
    "\n",
    "$$ \\mathbb{P}(S|x_1,...,x_i) \\approx \\frac{\\mathbb{P}(S)\\prod_{i=1}^{n}\\mathbb{P}(x_i|S)}{\\mathbb{P}(S)\\prod_{i=1}^{n}\\mathbb{P}(x_i|S)~+~\\mathbb{P}(H)\\prod_{i=1}^{n}\\mathbb{P}(x_i|H)} $$\n"
   ]
  },
  {
   "cell_type": "code",
   "execution_count": 24,
   "metadata": {},
   "outputs": [
    {
     "name": "stdout",
     "output_type": "stream",
     "text": [
      "{'your': 0.2, 'activity': 0.6, 'report': 0.4, 'benefits': 0.4, 'physical': 0.4, 'the': 0.4, 'importance': 0.4, 'vows': 0.4}\n",
      "{'send': 0.6666666666666666, 'us': 0.5, 'your': 0.6666666666666666, 'password': 0.5, 'review': 0.3333333333333333, 'our': 0.8333333333333334, 'website': 0.3333333333333333, 'account': 0.3333333333333333}\n",
      "P_wi_S 0.031746031746031744\n",
      "P_wi_H 0.017142857142857144\n",
      "P_wi_S 0.06349206349206349\n",
      "P_wi_H 0.006857142857142858\n",
      "P_wi_S 0.026455026455026454\n",
      "P_wi_H 0.03428571428571429\n",
      "P_wi_S 0.09523809523809523\n",
      "P_wi_H 0.003291428571428572\n"
     ]
    },
    {
     "data": {
      "text/plain": [
       "{'spam': {'renew your password': [True, 0.6493506493506493],\n",
       "  'renew your vows': [True, 0.9025270758122744]},\n",
       " 'ham': {'benefits of our account': [False, 0.4355400696864111],\n",
       "  'the importance of physical activity': [True, 0.9665944942777606]}}"
      ]
     },
     "execution_count": 24,
     "metadata": {},
     "output_type": "execute_result"
    }
   ],
   "source": [
    "def prob_of_email_being_spam(previous_spam, previous_ham, test_emails):\n",
    "\n",
    "    categories = [\"spam\", \"ham\"]\n",
    "\n",
    "    email_is_spam = {\"spam\": {}, \"ham\": {}}\n",
    "\n",
    "    # all unique words in the training data\n",
    "    training_words = set(list_of_words_from_emails(previous_ham) + list_of_words_from_emails(previous_spam))\n",
    "\n",
    "    prob_of_spam_and_ham = probability_of_spam_and_ham(previous_spam, previous_ham)\n",
    "    P_S = prob_of_spam_and_ham[\"prob_email_spam\"]\n",
    "    P_H = prob_of_spam_and_ham[\"prob_email_ham\"]\n",
    "\n",
    "    # Dictionaries of the probability of each word given the category\n",
    "    P_w_S = prob_of_words_for(previous_spam)\n",
    "    P_w_H = prob_of_words_for(previous_ham)\n",
    "\n",
    "    print(P_w_H)\n",
    "    print(P_w_S)\n",
    "\n",
    "    for cat in categories:\n",
    "        for email in test_emails[cat]:\n",
    "            words_in_email = set(list_of_words_from_email(email))\n",
    "            P_wi_S = P_S\n",
    "            P_wi_H = P_H\n",
    "            for word in words_in_email:\n",
    "                if word in training_words:\n",
    "                    try:\n",
    "                        P_wi_S *= P_w_S[word]\n",
    "                    except:\n",
    "                        pass\n",
    "                    try:\n",
    "                        P_wi_H *= P_w_H[word]\n",
    "                    except:\n",
    "                        pass\n",
    "                else:\n",
    "                    P_wi_S *= 1/(2 + len(previous_spam))\n",
    "                    P_wi_H *= 1/(2 + len(previous_ham))\n",
    "            print(\"P_wi_S\", P_wi_S)\n",
    "            print(\"P_wi_H\", P_wi_H)\n",
    "            probability_its_spam = P_wi_S/(P_wi_S + P_wi_H)\n",
    "            email_is_spam[cat][email] = [(probability_its_spam > 0.6), probability_its_spam]\n",
    "\n",
    "    return email_is_spam\n",
    "\n",
    "prob_of_email_being_spam(previous_spam, previous_ham, new_emails)"
   ]
  },
  {
   "cell_type": "code",
   "execution_count": 21,
   "metadata": {},
   "outputs": [
    {
     "name": "stdout",
     "output_type": "stream",
     "text": [
      "['Your activity report', 'benefits physical activity', 'the importance vows'] ['send us your password', 'review our website', 'send your password', 'send us your account']\n"
     ]
    }
   ],
   "source": [
    "print(previous_ham, previous_spam)"
   ]
  },
  {
   "cell_type": "markdown",
   "metadata": {},
   "source": [
    "The last printed out shows whether the spam filter categorizes it as spam or not. You will notice that the spam emails and the first ham email are predicted correctly. "
   ]
  },
  {
   "cell_type": "markdown",
   "metadata": {},
   "source": [
    "<hr style=\\\"border:2px solid gray\\\"> </hr>"
   ]
  },
  {
   "cell_type": "markdown",
   "metadata": {},
   "source": [
    "## Reflection"
   ]
  },
  {
   "cell_type": "markdown",
   "metadata": {},
   "source": []
  },
  {
   "cell_type": "markdown",
   "metadata": {},
   "source": []
  }
 ],
 "metadata": {
  "kernelspec": {
   "display_name": "Python 3",
   "language": "python",
   "name": "python3"
  },
  "language_info": {
   "codemirror_mode": {
    "name": "ipython",
    "version": 3
   },
   "file_extension": ".py",
   "mimetype": "text/x-python",
   "name": "python",
   "nbconvert_exporter": "python",
   "pygments_lexer": "ipython3",
   "version": "3.11.4"
  }
 },
 "nbformat": 4,
 "nbformat_minor": 2
}
