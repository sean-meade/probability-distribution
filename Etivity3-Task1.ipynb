{
 "cells": [
  {
   "cell_type": "markdown",
   "metadata": {},
   "source": [
    "# Notebook E-tivity 3 CE4021 Task 1"
   ]
  },
  {
   "cell_type": "markdown",
   "metadata": {},
   "source": [
    "Student name: Aurelie Montfrond"
   ]
  },
  {
   "cell_type": "markdown",
   "metadata": {},
   "source": [
    "Student ID: 22289003"
   ]
  },
  {
   "cell_type": "markdown",
   "metadata": {},
   "source": [
    "<hr style=\\\"border:2px solid gray\\\"> </hr>"
   ]
  },
  {
   "cell_type": "markdown",
   "metadata": {},
   "source": [
    "## Imports"
   ]
  },
  {
   "cell_type": "code",
   "execution_count": 3,
   "metadata": {},
   "outputs": [],
   "source": [
    "import numpy as np\n",
    "import math\n",
    "import random\n",
    "import matplotlib.pyplot as plt"
   ]
  },
  {
   "cell_type": "markdown",
   "metadata": {},
   "source": [
    " If you believe required imports are missing, please contact your moderator."
   ]
  },
  {
   "cell_type": "markdown",
   "metadata": {},
   "source": [
    "<hr style=\\\"border:2px solid gray\\\"> </hr>"
   ]
  },
  {
   "cell_type": "markdown",
   "metadata": {},
   "source": [
    "## Task 1"
   ]
  },
  {
   "cell_type": "markdown",
   "metadata": {},
   "source": [
    "You may add as many cells as you require to complete the task."
   ]
  },
  {
   "cell_type": "markdown",
   "metadata": {},
   "source": [
    "Option Dice: Rolling two 6-sided fair dice with the aim of determining the probability that the sum of the two dice is less than 3 or more than 10."
   ]
  },
  {
   "cell_type": "markdown",
   "metadata": {},
   "source": [
    "I will use a discrete random variable for the random variable and the uniform probability distribution for the probability distribution. I am choosing discrete random variable because they are countable and measurable such as a 6 sided die that has 6 sides each with a countable number 1,2,3,4,5,6 ."
   ]
  },
  {
   "cell_type": "markdown",
   "metadata": {},
   "source": [
    "Total outcomes when rolling two 6-sided dices : there are 36 single outcomes that the two dices can come up with and \n",
    "we can find this out by multiplying the total outcomes of the first die which would be 6 as there are six sides each \n",
    "numbered from 1 to 6 (1,2,3,4,5,6) with the total outcomes of the second die which would also be 6 as it's the same 6 \n",
    "sided die as the first die. \n",
    "Total outcomes = 6*6 = 36\n",
    "\n",
    "[1,1], [1,2], [1,3], [1,4], [1,5], [1,6]\n",
    "\n",
    "[2,1], [2,2], [2,3], [2,4], [2,5], [2,6]\n",
    "\n",
    "[3,1], [3,2], [3,3], [3,4], [3,5], [3,6]\n",
    "\n",
    "[4,1], [4,2], [4,3], [4,4], [4,5], [4,6]\n",
    "\n",
    "[5,1], [5,2], [5,3], [5,4], [5,5], [5,6]\n",
    "\n",
    "[6,1], [6,2], [6,3], [6,4], [6,5], [6,6]\n",
    "\n",
    "The total sum of the two dices is 12 so the probability that the sum of the two dices is more than 10 out of the 36 possible outcomes listed above is [5,6], [6,5], [6,6] . So 3/36 chances that the sum will be more than 10.\n",
    "\n",
    "And the probability that the sum of the two dices is less than 3 is [1,1] . So 1/36 chance that the sum will be less than 3.\n",
    "\n",
    "\n",
    "\n",
    "\n",
    "\n"
   ]
  },
  {
   "cell_type": "code",
   "execution_count": 15,
   "metadata": {},
   "outputs": [
    {
     "name": "stdout",
     "output_type": "stream",
     "text": [
      "5\n",
      "6\n",
      "6\n",
      "6\n",
      "1\n",
      "1\n",
      "3\n",
      "1\n",
      "2\n",
      "1\n",
      "\n",
      "1\n",
      "4\n",
      "1\n",
      "3\n",
      "4\n",
      "1\n",
      "5\n",
      "5\n",
      "1\n",
      "2\n"
     ]
    }
   ],
   "source": [
    "#using the randint() function as part of the random() function to generate a random integer \n",
    "#between 1 and 6 for all the possible outcomes of each die\n",
    "#Creating a function for each die\n",
    "\n",
    "#function for the first die , rolling the first die and generating a random number between 1 and 6\n",
    "def die1():\n",
    "    return random.randint(1,6)\n",
    "for i in range(10):\n",
    "    print(die1())\n",
    "\n",
    "print()\n",
    "\n",
    "\n",
    "#function for the second die , rolling the first die and generating a random number between 1 and 6   \n",
    "def die2():\n",
    "    return random.randint(1,6)\n",
    "for i in range(10):\n",
    "    print(die2())\n",
    "    "
   ]
  },
  {
   "cell_type": "code",
   "execution_count": 20,
   "metadata": {},
   "outputs": [
    {
     "name": "stdout",
     "output_type": "stream",
     "text": [
      "5\n",
      "6\n",
      "1\n",
      "3\n",
      "1\n",
      "2\n",
      "5\n",
      "6\n",
      "3\n",
      "5\n",
      "6\n",
      "6\n",
      "1\n",
      "5\n",
      "3\n",
      "2\n",
      "3\n",
      "1\n",
      "6\n",
      "3\n",
      "\n",
      "3\n",
      "6\n",
      "2\n",
      "5\n",
      "1\n",
      "5\n",
      "1\n",
      "6\n",
      "3\n",
      "6\n",
      "4\n",
      "2\n",
      "5\n",
      "5\n",
      "4\n",
      "1\n",
      "3\n",
      "3\n",
      "1\n",
      "6\n"
     ]
    }
   ],
   "source": [
    "#Outcomes for each die for a number of die roll using a for loop.\n",
    "\n",
    "#Creating a 1D array for all the possible outcomes of a 6 sided die \n",
    "outcomes = [ 1, 2, 3, 4, 5, 6]\n",
    "\n",
    "#function for the first die \n",
    "def die1():\n",
    "    return random.choice(outcomes)\n",
    "#looping through a range of numbers up to 20 for 20 die rolls in this case\n",
    "for i in range(20):\n",
    "    print(die1())\n",
    "\n",
    "#Adding a space between the functions\n",
    "print()\n",
    "\n",
    "#function for the first die \n",
    "def die2():\n",
    "    return random.choice(outcomes)\n",
    "#looping through a range of numbers up to 20 for 20 die rolls in this case\n",
    "for i in range(20):\n",
    "    print(die2())\n"
   ]
  },
  {
   "cell_type": "markdown",
   "metadata": {},
   "source": [
    "## Reflection"
   ]
  },
  {
   "cell_type": "markdown",
   "metadata": {},
   "source": [
    "Write you reflection in below cell."
   ]
  },
  {
   "cell_type": "markdown",
   "metadata": {},
   "source": []
  }
 ],
 "metadata": {
  "kernelspec": {
   "display_name": "Python 3 (ipykernel)",
   "language": "python",
   "name": "python3"
  },
  "language_info": {
   "codemirror_mode": {
    "name": "ipython",
    "version": 3
   },
   "file_extension": ".py",
   "mimetype": "text/x-python",
   "name": "python",
   "nbconvert_exporter": "python",
   "pygments_lexer": "ipython3",
   "version": "3.11.4"
  }
 },
 "nbformat": 4,
 "nbformat_minor": 2
}
