{
 "cells": [
  {
   "cell_type": "markdown",
   "metadata": {},
   "source": [
    "# Notebook E-tivity 3 CE4021 Task 1"
   ]
  },
  {
   "cell_type": "markdown",
   "metadata": {},
   "source": [
    "Student name: Vaclav Krol"
   ]
  },
  {
   "cell_type": "markdown",
   "metadata": {},
   "source": [
    "Student ID: 23307102"
   ]
  },
  {
   "cell_type": "markdown",
   "metadata": {},
   "source": [
    "<hr style=\\\"border:2px solid gray\\\"> </hr>"
   ]
  },
  {
   "cell_type": "markdown",
   "metadata": {},
   "source": [
    "## Imports"
   ]
  },
  {
   "cell_type": "code",
   "execution_count": 103,
   "metadata": {},
   "outputs": [],
   "source": [
    "import numpy as np\n",
    "import math\n",
    "import random\n",
    "import matplotlib.pyplot as plt"
   ]
  },
  {
   "cell_type": "markdown",
   "metadata": {},
   "source": [
    "<hr style=\\\"border:2px solid gray\\\"> </hr>"
   ]
  },
  {
   "cell_type": "markdown",
   "metadata": {},
   "source": [
    "## Task 1"
   ]
  },
  {
   "cell_type": "markdown",
   "metadata": {},
   "source": [
    "### Option 2: Height\n",
    "#### Observing the average height of customers of a theme park to establish the mean and standard deviation.\n",
    "\n",
    "The distribution of human height is characterized by the Normal (or Gaussian) probability distribution. It is the most important probability distribution in statistics because it accurately describes the distribution of values for many natural phenomena, such as human height. The distribution of heights follows the typical bell curve pattern for all normal distributions. \n",
    "\n",
    "For the values of height, I am going to use a continuous float random variable rounded to 0.1 cm.\n",
    "\n",
    "The normal distribution is a continuous probability distribution that is symmetrical around its **mean**, most of the observations cluster around the central peak, and the probabilities for values further away from the mean taper off equally in both directions.\n",
    "\n",
    "To generate a set of normally distributed random numbers representing the height of \"customers of a theme park\" we need to know two parameters:\n",
    "\n",
    "1) **Mean value μ**\n",
    "\n",
    "The mean is the central tendency of the normal distribution. It defines the location of the peak for the bell curve. Most values cluster around the mean. On a graph, changing the mean shifts the entire curve left or right on the X-axis. Statisticians denote the population mean using μ (mu).\n",
    "$${\\displaystyle μ={\\frac {1}{n}}\\sum _{i=1}^{n}a_{i}={\\frac {a_{1}+a_{2}+\\cdots +a_{n}}{n}}}$$\n",
    "\n",
    "<center>$ai$ = observation values</center>\n",
    "<center>n = number of values</center>\n",
    "\n",
    "2) **Standard deviation σ**\n",
    "\n",
    "The standard deviation is a single number that summarizes the variability in a dataset. It represents the typical distance between each data point and the mean. Smaller values indicate that the data points cluster closer to the mean - the values in the dataset are relatively consistent. Conversely, higher values signify that the values spread out further from the mean. Data values become more dissimilar, and extreme values become more likely. Statisticians denote the population standard deviation using σ (sigma).\n",
    "<br>\n",
    "<center>The formula for standard deviation is:</center>\n",
    "\n",
    "$$σ = \\sqrt{\\frac{1}{N-1} \\sum_{i=1}^N (x_i - \\overline{x})^2}$$\n",
    "\n",
    "<center>N = number of observations</center>\n",
    "<center>Xi = value of each observation</center>\n",
    "<center>x̄ = the sample mean</center>"
   ]
  },
  {
   "cell_type": "markdown",
   "metadata": {},
   "source": [
    "<hr style=\\\"border:2px solid gray\\\"> </hr>"
   ]
  },
  {
   "cell_type": "markdown",
   "metadata": {},
   "source": [
    "### Setting the Mean and Standard deviation parameters for the random generator\n",
    "The mean and standard deviation parameters are needed for the random generator to produce normally distributed data. According to various Internet sources the mean value of adult mens' height is about 178cm and for adult women it is slightly less. The standard deviation is 7cm in both cases.\n",
    "<br>\n",
    "<br>\n",
    "However, the task mentions \"customers of a theme park\" which implies a lot of children among the visitors. Heights of 10-year-old children also follow the normal distribution with the mean value of 138 centimeters and standard deviation again about 7 cm. So for the random generator I am going to choose an average of adult and children heights:\n",
    "\n",
    "Mean => ( 178cm (adults) + 138cm (children) ) / 2 = 158cm\n",
    "<br>\n",
    "Standard deviation = 7cm"
   ]
  },
  {
   "cell_type": "markdown",
   "metadata": {},
   "source": [
    "#### Description of the solution\n",
    "\n",
    "1) Generate three different sets of **normally distributed** random **float** numbers. These numbers will represent our \"observation of height of customers of a theme park\". Based on the above assumption, these are the parameters for the  random generator:<br>\n",
    "Mean = 158 (cm)<br>\n",
    "StdDev = 7 (cm)\n",
    "<br>\n",
    "<br>\n",
    "2) The number of samples for each test will differ.\n",
    "<br>\n",
    "- 1.test: 20 samples (early rainy morning in the theme park)\n",
    "<br>\n",
    "- 2.test: 100 samples (just before lunchtime)\n",
    "<br>\n",
    "- 3.test: 1000 samples (a sunny Sunday afternoon)\n",
    "\n",
    "3) We are going to plot a histogram for the generated data and compute the mean and standard deviation after each test.\n",
    "<br>\n",
    "\n",
    "4) Let's compare the results\n",
    "\n"
   ]
  },
  {
   "cell_type": "code",
   "execution_count": 104,
   "metadata": {},
   "outputs": [],
   "source": [
    "### Constants used in this notebook ###\n",
    "# Mean and Standard Deviation\n",
    "C_MEAN = 158\n",
    "C_STD_DEV = 7\n",
    "\n",
    "# How many observed people\n",
    "C_NB_SAMPLES_1 = 20\n",
    "C_NB_SAMPLES_2 = 100\n",
    "C_NB_SAMPLES_3 = 1000\n"
   ]
  },
  {
   "cell_type": "code",
   "execution_count": 105,
   "metadata": {},
   "outputs": [],
   "source": [
    "def gen_random_heights(nb_of_samples: int, mean: int, std_dev: int) -> tuple[float]:\n",
    "    '''\n",
    "    Generates a number of random samples for human height and returns them in a tuple of floats\n",
    "    Uses the Normal distribution for random numbers based on the mean and standard deviation\n",
    "    \n",
    "    ::Params\n",
    "    nb_of_samples - Number of numbers to generate\n",
    "    mean - Mean parameter for the random number generator (Normal distribution)\n",
    "    std_dev - Standard deviation parameter for the random number generator (Normal distribution)\n",
    "    \n",
    "    ::Returns\n",
    "    Tuple of float numbers randomly generated in Normal distribution   \n",
    "    '''\n",
    "    \n",
    "    heights_out = tuple(round(random.gauss(mean, std_dev), 1) for _ in range(nb_of_samples))\n",
    "    \n",
    "    return heights_out\n",
    "\n"
   ]
  },
  {
   "cell_type": "code",
   "execution_count": 106,
   "metadata": {},
   "outputs": [],
   "source": [
    "# Running the three experiments\n",
    "# It could be done in a loop but I prefer this solution for just three runs\n",
    "\n",
    "# \"Observing\" heights of customers\n",
    "heights_1 = gen_random_heights(C_NB_SAMPLES_1, C_MEAN, C_STD_DEV)\n",
    "heights_2 = gen_random_heights(C_NB_SAMPLES_2, C_MEAN, C_STD_DEV)\n",
    "heights_3 = gen_random_heights(C_NB_SAMPLES_3, C_MEAN, C_STD_DEV)\n",
    "\n",
    "# Computing the mean value\n",
    "mean_1 = np.mean(heights_1)\n",
    "mean_2 = np.mean(heights_2)\n",
    "mean_3 = np.mean(heights_3)\n",
    "\n",
    "# Computing the standard deviation value\n",
    "std_dev_1 = np.std(heights_1)\n",
    "std_dev_2 = np.std(heights_2)\n",
    "std_dev_3 = np.std(heights_3)\n",
    "\n"
   ]
  },
  {
   "cell_type": "code",
   "execution_count": 107,
   "metadata": {},
   "outputs": [
    {
     "name": "stdout",
     "output_type": "stream",
     "text": [
      "\n",
      "\n",
      "                              Number of samples                     \n",
      "\n",
      "    Number of people:            ---  20  ---          ---  100  ---          ---  1000 ---\n",
      "                              ---------------        ---------------        ---------------\n",
      "          Mean value:                 160.025                158.424                157.577\n",
      "  Standard deviation:                  6.7242                 7.8395                 7.0276\n"
     ]
    }
   ],
   "source": [
    "# Let's print important info about our data\n",
    "print('\\n')\n",
    "print('                              Number of samples                     \\n')\n",
    "heights_tab = [['Number of people: ', '---  ' + str(C_NB_SAMPLES_1) + '  ---', '---  '+str(C_NB_SAMPLES_2)+ '  ---', '---  ' + str(C_NB_SAMPLES_3) + ' ---'],\n",
    "               ['                  ', '---------------', '---------------', '---------------']]\n",
    "\n",
    "mean_tab =    [['        Mean value: ', \"{:.3f}\".format(mean_1), \"{:.3f}\".format(mean_2), \"{:.3f}\".format(mean_3)]]\n",
    "std_dev_tab = [['Standard deviation: ', \"{:.4f}\".format(std_dev_1), \"{:.4f}\".format(std_dev_2), \"{:.4f}\".format(std_dev_3)]]\n",
    "\n",
    "for row in heights_tab:\n",
    "    print(\"{: >22} {: >22} {: >22} {: >22}\".format(*row))\n",
    "\n",
    "for row in mean_tab:\n",
    "    print(\"{: >22} {: >22} {: >22} {: >22}\".format(*row))\n",
    "\n",
    "for row in std_dev_tab:\n",
    "    print(\"{: >22} {: >22} {: >22} {: >22}\".format(*row))\n",
    "\n"
   ]
  },
  {
   "cell_type": "code",
   "execution_count": 108,
   "metadata": {
    "scrolled": true
   },
   "outputs": [
    {
     "data": {
      "image/png": "[encoded data removed]",
      "text/plain": [
       "<Figure size 1500x500 with 3 Axes>"
      ]
     },
     "metadata": {},
     "output_type": "display_data"
    }
   ],
   "source": [
    "# Plotting the results\n",
    "plt.figure(figsize=(15, 5))\n",
    "\n",
    "# idx_ref = np.arange(0,2.8,0.1)\n",
    "bins_1 = 20\n",
    "plt.subplot(1, 3, 1)\n",
    "plt.hist(heights_1, color=\"blue\", bins = bins_1)\n",
    "plt.title('Graph 1 - ' + str(C_NB_SAMPLES_1) + ' people')\n",
    "\n",
    "bins_2 = 30\n",
    "plt.subplot(1, 3, 2)\n",
    "plt.hist(heights_2, color=\"green\", bins=bins_2)\n",
    "plt.title('Graph 2 - ' + str(C_NB_SAMPLES_2) + ' people')\n",
    "\n",
    "bins_3 = 70\n",
    "plt.subplot(1, 3, 3)\n",
    "plt.hist(heights_3, color=\"red\", bins = bins_3)\n",
    "plt.title('Graph 3 - ' + str(C_NB_SAMPLES_3) + ' people')\n",
    "\n",
    "#plt.tight_layout()\n",
    "plt.show()"
   ]
  },
  {
   "cell_type": "markdown",
   "metadata": {},
   "source": [
    "<hr style=\\\"border:2px solid gray\\\"> </hr>"
   ]
  },
  {
   "cell_type": "markdown",
   "metadata": {},
   "source": [
    "## Reflection"
   ]
  },
  {
   "cell_type": "markdown",
   "metadata": {},
   "source": [
    "Sample size clearly has a significant effect on data distribution. The Central Limit Theorem (CLT) states that the minimum number of samples for a normal distribution is 30. That is why I chose only 20 people for the first experiment and the chart for such a low number of samples really confirms a non-normal distribution of data. Also, the standard deviation is 6.72 which is quite far off from the expected value of 7.\n",
    "\n",
    "The second experiment for 300 people definitely holds signs of normal distribution. However, the difference between the calculated and expected value of standard deviation is even higher than in the first experiment and it is equal to 7.83.\n",
    "\n",
    "It is only the third experiment for 3000 people that is a reflection of a typical Normal distribution. The value of calculated standard deviation of 6.95 approaches the expected value of 7.02. \n",
    "\n"
   ]
  }
 ],
 "metadata": {
  "kernelspec": {
   "display_name": "Python 3 (ipykernel)",
   "language": "python",
   "name": "python3"
  },
  "language_info": {
   "codemirror_mode": {
    "name": "ipython",
    "version": 3
   },
   "file_extension": ".py",
   "mimetype": "text/x-python",
   "name": "python",
   "nbconvert_exporter": "python",
   "pygments_lexer": "ipython3",
   "version": "3.11.4"
  }
 },
 "nbformat": 4,
 "nbformat_minor": 2
}
