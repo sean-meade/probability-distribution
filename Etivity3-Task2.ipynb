{
 "cells": [
  {
   "cell_type": "markdown",
   "metadata": {},
   "source": [
    "# Notebook E-tivity 3 CE4021 Task 2"
   ]
  },
  {
   "cell_type": "markdown",
   "metadata": {},
   "source": [
    "Student name: Sean Meade"
   ]
  },
  {
   "cell_type": "markdown",
   "metadata": {},
   "source": [
    "Student ID: 10128921"
   ]
  },
  {
   "cell_type": "markdown",
   "metadata": {},
   "source": [
    "<hr style=\\\"border:2px solid gray\\\"> </hr>"
   ]
  },
  {
   "cell_type": "markdown",
   "metadata": {},
   "source": [
    "## Imports"
   ]
  },
  {
   "cell_type": "code",
   "execution_count": 1,
   "metadata": {},
   "outputs": [],
   "source": [
    "#None"
   ]
  },
  {
   "cell_type": "markdown",
   "metadata": {},
   "source": [
    "If you believe required imports are missing, please contact your moderator."
   ]
  },
  {
   "cell_type": "markdown",
   "metadata": {},
   "source": [
    "<hr style=\\\"border:2px solid gray\\\"> </hr>"
   ]
  },
  {
   "cell_type": "markdown",
   "metadata": {},
   "source": [
    "## Task 2"
   ]
  },
  {
   "cell_type": "markdown",
   "metadata": {},
   "source": [
    "Use the below information to create a Naive Bayes SPAM filter. Test your filter using the messages in new_emails. You may add as many cells as you require to complete the task."
   ]
  },
  {
   "cell_type": "code",
   "execution_count": 2,
   "metadata": {},
   "outputs": [],
   "source": [
    "previous_spam = ['send us your password', 'review our website', 'send your password', 'send us your account']\n",
    "previous_ham = ['Your activity report','benefits physical activity', 'the importance vows']\n",
    "new_emails = {'spam':['renew your password', 'renew your vows'], 'ham':['benefits of our account', 'the importance of physical activity']}"
   ]
  },
  {
   "cell_type": "markdown",
   "metadata": {},
   "source": [
    "First I created a function for making a list of the words from the string that represents an email. "
   ]
  },
  {
   "cell_type": "code",
   "execution_count": 3,
   "metadata": {},
   "outputs": [],
   "source": [
    "def list_of_words_from_email(email):\n",
    "\n",
    "    \"\"\"\n",
    "    Takes in a string email and produces the words of that email as a list of strings.\n",
    "    \"\"\"\n",
    "\n",
    "    # split the email into a list of words\n",
    "    words = email.split()\n",
    "    \n",
    "    return words"
   ]
  },
  {
   "cell_type": "markdown",
   "metadata": {},
   "source": [
    "Then a function that takes in a list of emails and counts the words in it. This is used to find the number of words in the test data for the given spam or ham emails."
   ]
  },
  {
   "cell_type": "code",
   "execution_count": 4,
   "metadata": {},
   "outputs": [],
   "source": [
    "def dict_count_words_in_emails(words, emails):\n",
    "\n",
    "    \"\"\"\n",
    "    Takes in a list or set of strings (words) and checks how many words are in the list of strings representing emails (emails).\n",
    "\n",
    "    It then returns a dictionary whose keys are the words and the values are the number of times that word appeared in the emails.\n",
    "    \"\"\"\n",
    "\n",
    "    words_count = {}\n",
    "\n",
    "    # for every word in our training data\n",
    "    for word in words:\n",
    "        # Create an entry in the dictionary\n",
    "        words_count[word.lower()] = 0\n",
    "        # Then loop through the emails\n",
    "        for email in emails:\n",
    "            # if the word is in the email\n",
    "            if word.lower() in email:\n",
    "                # add the word count to its corresponding dictionary entry\n",
    "                words_count[word.lower()] += email.count(word)\n",
    "    \n",
    "    return words_count"
   ]
  },
  {
   "cell_type": "markdown",
   "metadata": {},
   "source": [
    "Next I use the output of the last function to calculate the probability the email is in that category.\n",
    "\n",
    "$$ \\mathbb{P}(word|S) = \\frac{number~of~spam~emails~containing~the~word~+~1}{number~of~spam~emails~+~2} $$\n",
    "\n",
    "$$ \\mathbb{P}(word|H) = \\frac{number~of~ham~emails~containing~the~word~+~1}{number~of~ham~emails~+~2} $$\n",
    "\n",
    "I use Laplace smoothing to account for words in the test emails that are not in the training emails. This is done by adding 1 to the numerator and 2 to the denominator. So instead of an untrained words working out to a probability of zero it will work out at 1 over the number of emails in that category."
   ]
  },
  {
   "cell_type": "code",
   "execution_count": 5,
   "metadata": {},
   "outputs": [],
   "source": [
    "def prob_of_word_in_emails(word_count, emails):\n",
    "\n",
    "    \"\"\"\n",
    "    Takes in a dictionary whose keys are the words and the values are the number of \n",
    "    times that word appeared in the emails (word_count) and a list of strings that\n",
    "    represent emails (emails). Both have to be for the same classification (ham or spam).\n",
    "\n",
    "    It returns a dictionary whose keys are the words and the values are the probability\n",
    "    that word will be in an email given that the email is the classification.\n",
    "    \"\"\"\n",
    "\n",
    "    # a dictionary that will contain the probabilities for each word for a given category\n",
    "    word_prob = {}\n",
    "    # number of emails\n",
    "    email_count = len(emails)\n",
    "    # using the word and it's count\n",
    "    for word, count in word_count.items():\n",
    "        # calculate the probability that the word is spam or hame\n",
    "        word_prob[word] = (count + 1)/(email_count + 2)\n",
    "    \n",
    "    return word_prob"
   ]
  },
  {
   "cell_type": "markdown",
   "metadata": {},
   "source": [
    "Then work out the probability of an email being spam or ham based on the training data.\n",
    "\n",
    "$$ \\mathbb{P}(S) = \\frac{number~of~spam~emails}{total~number~of~emails} $$\n",
    "$$ \\mathbb{P}(H) = \\frac{number~of~ham~emails}{total~number~of~emails} $$"
   ]
  },
  {
   "cell_type": "code",
   "execution_count": 6,
   "metadata": {},
   "outputs": [],
   "source": [
    "def probability_of_spam_and_ham(spam_emails, ham_emails):\n",
    "    \"\"\"\n",
    "    This function takes lists of stings representing the spam (spam_emails) and ham emails (ham_emails)\n",
    "    and returns dictionary where the keys are the classification and the values are the probability that \n",
    "    an email will be ham or spam.\n",
    "    \"\"\"\n",
    "\n",
    "    # a dictionary to hold the returned probabilities\n",
    "    probs = {}\n",
    "\n",
    "    # total number of emails\n",
    "    total_email_count = len(spam_emails) + len(ham_emails)\n",
    "\n",
    "    # then work out the probabilities by the number of emails in the category divided by the total number of emails \n",
    "    probs[\"prob_email_spam\"] = len(spam_emails)/total_email_count\n",
    "    probs[\"prob_email_ham\"] = len(ham_emails)/total_email_count\n",
    "\n",
    "    return probs\n",
    "\n",
    "# Calculate and save the probability an email is spam and ham\n",
    "prob_of_spam_and_ham = probability_of_spam_and_ham(previous_spam, previous_ham)\n",
    "P_S = prob_of_spam_and_ham[\"prob_email_spam\"]\n",
    "P_H = prob_of_spam_and_ham[\"prob_email_ham\"]"
   ]
  },
  {
   "cell_type": "markdown",
   "metadata": {},
   "source": [
    "And as expected the probability of an email being spam plus the probability of an email being ham is equal to 1, because they are the only two possible outcomes."
   ]
  },
  {
   "cell_type": "code",
   "execution_count": 7,
   "metadata": {},
   "outputs": [
    {
     "data": {
      "text/plain": [
       "1.0"
      ]
     },
     "execution_count": 7,
     "metadata": {},
     "output_type": "execute_result"
    }
   ],
   "source": [
    "P_S + P_H"
   ]
  },
  {
   "cell_type": "markdown",
   "metadata": {},
   "source": [
    "This next one uses the list_of_words_from_email function on a list of emails."
   ]
  },
  {
   "cell_type": "code",
   "execution_count": 8,
   "metadata": {},
   "outputs": [],
   "source": [
    "def list_of_words_from_emails(emails):\n",
    "    \"\"\"\n",
    "    takes in a list of strings representing emails and returns a list of all the words\n",
    "    \"\"\"\n",
    "\n",
    "    # a list to contain the returned list of words\n",
    "    words_in_emails = []\n",
    "\n",
    "    # loop through emails\n",
    "    for email in emails:\n",
    "        # split the email into words and add them to returned list\n",
    "        words_in_emails += list_of_words_from_email(email)\n",
    "\n",
    "    return words_in_emails"
   ]
  },
  {
   "cell_type": "markdown",
   "metadata": {},
   "source": [
    "Then tying it all together into one function that returns the probability of each word for that category."
   ]
  },
  {
   "cell_type": "code",
   "execution_count": 9,
   "metadata": {},
   "outputs": [],
   "source": [
    "def prob_of_words_for(emails):\n",
    "    \"\"\"\n",
    "    Takes in a list of strings representing emails (either ham or spam) and returns a dictionary where the keys \n",
    "    are the words and the values are the probability of each word being in an email of the input classification \n",
    "    (either ham or spam).\n",
    "    \"\"\"\n",
    "\n",
    "    words = list_of_words_from_emails(emails)\n",
    "    word_count = dict_count_words_in_emails(words, emails)\n",
    "    word_probs = prob_of_word_in_emails(word_count, emails)\n",
    "\n",
    "    return word_probs"
   ]
  },
  {
   "cell_type": "markdown",
   "metadata": {},
   "source": [
    "Finally we tie everything together we can work out the probability an email is spam given the words on the email:\n",
    "\n",
    "$$ \\mathbb{P}(S|x_1,...,x_i) \\approx \\frac{\\mathbb{P}(S)\\prod_{i=1}^{n}\\mathbb{P}(x_i|S)}{\\mathbb{P}(S)\\prod_{i=1}^{n}\\mathbb{P}(x_i|S)~+~\\mathbb{P}(H)\\prod_{i=1}^{n}\\mathbb{P}(x_i|H)} $$\n"
   ]
  },
  {
   "cell_type": "code",
   "execution_count": 10,
   "metadata": {},
   "outputs": [
    {
     "data": {
      "text/plain": [
       "{'spam': {'renew your password': [True, 0.9174311926605504],\n",
       "  'renew your vows': [True, 0.6493506493506493]},\n",
       " 'ham': {'benefits of our account': [True, 0.7941550190597204],\n",
       "  'the importance of physical activity': [False, 0.026092764998121312]}}"
      ]
     },
     "execution_count": 10,
     "metadata": {},
     "output_type": "execute_result"
    }
   ],
   "source": [
    "def prob_of_email_being_spam(previous_spam, previous_ham, test_emails, threshold=0.6):\n",
    "\n",
    "    \"\"\"\n",
    "    A function that takes in lists of strings representing test emails for spam (previous_spam) \n",
    "    and ham (previous_ham), a dictionary that contains two keys (\"spam\" and \"ham\") whose values \n",
    "    are a list of stings that represent emails., and an optional float number for the probability \n",
    "    threshold (threshold).\n",
    "\n",
    "    Returns a dictionary whose keys represent the classification (ham or spam) and the values are \n",
    "    another dictionary whose keys are a string that is the test emails and the value is a list \n",
    "    containing a boolean that represents if the classifier sees the email as spam or not and a\n",
    "    float representing the probability the email is spam.\n",
    "    \"\"\"\n",
    "\n",
    "    # the two categories\n",
    "    categories = [\"spam\", \"ham\"]\n",
    "\n",
    "    # the output dictionary that holds the emails, the calculated probability, and the boolean of whether the function classes it as spam or not\n",
    "    email_is_spam = {\"spam\": {}, \"ham\": {}}\n",
    "\n",
    "    # all unique words in the training data\n",
    "    training_words = set(list_of_words_from_emails(previous_ham) + list_of_words_from_emails(previous_spam))\n",
    "\n",
    "    # the probability an email could be spam or ham\n",
    "    prob_of_spam_and_ham = probability_of_spam_and_ham(previous_spam, previous_ham)\n",
    "    P_S = prob_of_spam_and_ham[\"prob_email_spam\"]\n",
    "    P_H = prob_of_spam_and_ham[\"prob_email_ham\"]\n",
    "\n",
    "    # Dictionaries of the probability of each word given the category\n",
    "    P_w_S = prob_of_words_for(previous_spam)\n",
    "    P_w_H = prob_of_words_for(previous_ham)\n",
    "\n",
    "    # for each category\n",
    "    for cat in categories:\n",
    "        # and for each email in the test data for that category\n",
    "        for email in test_emails[cat]:\n",
    "            # get the unique words in the email\n",
    "            words_in_email = set(list_of_words_from_email(email))\n",
    "            # set new variables to hold the product of all the probabilities of each word given its spam or ham\n",
    "            P_wi_S = P_S\n",
    "            P_wi_H = P_H\n",
    "            # for each word in the email\n",
    "            for word in words_in_email:\n",
    "                # and if that word is in the training data\n",
    "                if word in training_words:\n",
    "                    # check to see its in the spam data\n",
    "                    try:\n",
    "                        # and multiply it in\n",
    "                        P_wi_S *= P_w_S[word]\n",
    "                    except:\n",
    "                        # otherwise use the laplace to add the probability so it doesn't multiply to zero\n",
    "                        P_wi_S *= 1/(2 + len(previous_spam))\n",
    "                    # check to see its in the ham data\n",
    "                    try:\n",
    "                        # and multiply it in\n",
    "                        P_wi_H *= P_w_H[word]\n",
    "                    except:\n",
    "                        # otherwise use the laplace to add the probability so it doesn't multiply to zero\n",
    "                        P_wi_H *= 1/(2 + len(previous_ham))\n",
    "            # work out the probability that the email is spam\n",
    "            probability_its_spam = P_wi_S/(P_wi_S + P_wi_H)\n",
    "            # add the email to the output\n",
    "            email_is_spam[cat][email] = [(probability_its_spam > threshold), probability_its_spam]\n",
    "\n",
    "    return email_is_spam\n",
    "\n",
    "# run the function with the data given\n",
    "prob_of_email_being_spam(previous_spam, previous_ham, new_emails)"
   ]
  },
  {
   "cell_type": "markdown",
   "metadata": {},
   "source": [
    "The last output shows whether the spam filter categorizes it as spam or not and the probability calculated for it. You will notice that the spam emails and the second ham email are predicted correctly. However if the filter is set to anything less 0.79 then this email will be classed as spam even though it's classed as ham."
   ]
  },
  {
   "cell_type": "code",
   "execution_count": 11,
   "metadata": {},
   "outputs": [
    {
     "data": {
      "text/plain": [
       "['send us your password',\n",
       " 'review our website',\n",
       " 'send your password',\n",
       " 'send us your account']"
      ]
     },
     "execution_count": 11,
     "metadata": {},
     "output_type": "execute_result"
    }
   ],
   "source": [
    "previous_spam"
   ]
  },
  {
   "cell_type": "markdown",
   "metadata": {},
   "source": [
    "'benefits of our account' has two words ('account' and 'our) in the spam training data. "
   ]
  },
  {
   "cell_type": "code",
   "execution_count": 12,
   "metadata": {},
   "outputs": [
    {
     "data": {
      "text/plain": [
       "['Your activity report', 'benefits physical activity', 'the importance vows']"
      ]
     },
     "execution_count": 12,
     "metadata": {},
     "output_type": "execute_result"
    }
   ],
   "source": [
    "previous_ham"
   ]
  },
  {
   "cell_type": "markdown",
   "metadata": {},
   "source": [
    "'benefits of our account' only has one word ('benefits') in the ham training data.\n",
    "\n",
    "This has thrown off the calculation. To fix this using more data would probably even things out a bit better."
   ]
  },
  {
   "cell_type": "markdown",
   "metadata": {},
   "source": [
    "Finally I create a class with the above so it can then use the new_emails to inform future predictions:"
   ]
  },
  {
   "cell_type": "code",
   "execution_count": 13,
   "metadata": {},
   "outputs": [],
   "source": [
    "class spam_filter():\n",
    "    \"\"\"\n",
    "    A class that takes in two lists of strings, test ham emails (previous_ham) and test \n",
    "    spam emails (previous_spam), when initialized.\n",
    "    \"\"\"\n",
    "\n",
    "    # Set values for test_ham and test_spam when initializing an instance of the class\n",
    "    def __init__(self, previous_ham, previous_spam):\n",
    "        \n",
    "        self.test_ham = previous_ham\n",
    "        self.test_spam = previous_spam\n",
    "\n",
    "    def add_new_emails_to_test(self, new_emails):\n",
    "        \"\"\"\n",
    "        A function that takes in a dictionary that contains two keys (\"spam\" and \"ham\") whose values\n",
    "        are a list of stings that represent emails. It checks to see if the emails are \n",
    "        new to the test data and if not adds them\n",
    "        \"\"\"\n",
    "\n",
    "        # loop through emails\n",
    "        for email in new_emails[\"ham\"]:\n",
    "            # check if they are in the test data\n",
    "            if not email in self.test_ham:\n",
    "                # add the email if they aren't\n",
    "                self.test_ham.append(email)\n",
    "        # loop through emails\n",
    "        for email in new_emails[\"spam\"]:\n",
    "            # check if they are in the test data\n",
    "            if not email in self.test_spam:\n",
    "                # add the email if they aren't\n",
    "                self.test_spam.append(email)\n",
    "\n",
    "\n",
    "    def predict_new_emails(self, new_emails):\n",
    "        \"\"\"\n",
    "        A function that takes in a dictionary that contains two keys (\"spam\" and \"ham\") whose values\n",
    "        are a list of stings that represent emails.\n",
    "        \"\"\"\n",
    "\n",
    "        # run the prediction using the test data and the new emails\n",
    "        predictions = prob_of_email_being_spam(self.test_spam, self.test_ham, new_emails)\n",
    "        \n",
    "        # check to see if there are any new emails to add to test data\n",
    "        self.add_new_emails_to_test(new_emails)\n",
    "        # return the prediction\n",
    "        return predictions\n",
    "\n",
    "# initialize a new spam filter and pass in the training data\n",
    "spam_filter_instance = spam_filter(previous_ham, previous_spam)"
   ]
  },
  {
   "cell_type": "code",
   "execution_count": 14,
   "metadata": {},
   "outputs": [
    {
     "name": "stdout",
     "output_type": "stream",
     "text": [
      "{'spam': {'renew your password': [True, 0.9174311926605504], 'renew your vows': [True, 0.6493506493506493]}, 'ham': {'benefits of our account': [True, 0.7941550190597204], 'the importance of physical activity': [False, 0.026092764998121312]}}\n"
     ]
    }
   ],
   "source": [
    "# predict the new_emails\n",
    "spam_filter_instance.predict_new_emails(new_emails)"
   ]
  },
  {
   "cell_type": "code",
   "execution_count": 15,
   "metadata": {},
   "outputs": [
    {
     "data": {
      "text/plain": [
       "['Your activity report',\n",
       " 'benefits physical activity',\n",
       " 'the importance vows',\n",
       " 'benefits of our account',\n",
       " 'the importance of physical activity']"
      ]
     },
     "execution_count": 15,
     "metadata": {},
     "output_type": "execute_result"
    }
   ],
   "source": [
    "# check to see the new_emails are added to the ham data\n",
    "spam_filter_instance.test_ham"
   ]
  },
  {
   "cell_type": "code",
   "execution_count": 16,
   "metadata": {},
   "outputs": [
    {
     "data": {
      "text/plain": [
       "['send us your password',\n",
       " 'review our website',\n",
       " 'send your password',\n",
       " 'send us your account',\n",
       " 'renew your password',\n",
       " 'renew your vows']"
      ]
     },
     "execution_count": 16,
     "metadata": {},
     "output_type": "execute_result"
    }
   ],
   "source": [
    "# check to see the new_emails are added to the spam data\n",
    "spam_filter_instance.test_spam"
   ]
  },
  {
   "cell_type": "code",
   "execution_count": 18,
   "metadata": {},
   "outputs": [
    {
     "name": "stdout",
     "output_type": "stream",
     "text": [
      "{'spam': {'renew your password': [True, 0.9830166648975692], 'your pin has expired': [True, 0.8630136986301369]}, 'ham': {'benefits of our account': [False, 0.15423935686951099], 'this weeks newsletter': [False, 0.5454545454545454]}}\n"
     ]
    }
   ],
   "source": [
    "spam_filter_instance.predict_new_emails({'spam': ['renew your password', 'your pin has expired'], 'ham': ['benefits of our account', 'this weeks newsletter']})"
   ]
  },
  {
   "cell_type": "code",
   "execution_count": 20,
   "metadata": {},
   "outputs": [
    {
     "data": {
      "text/plain": [
       "['Your activity report',\n",
       " 'benefits physical activity',\n",
       " 'the importance vows',\n",
       " 'benefits of our account',\n",
       " 'the importance of physical activity',\n",
       " 'this weeks newsletter']"
      ]
     },
     "execution_count": 20,
     "metadata": {},
     "output_type": "execute_result"
    }
   ],
   "source": [
    "# check to see that only new emails are added to the ham test data\n",
    "spam_filter_instance.test_ham"
   ]
  },
  {
   "cell_type": "code",
   "execution_count": 19,
   "metadata": {},
   "outputs": [
    {
     "data": {
      "text/plain": [
       "['send us your password',\n",
       " 'review our website',\n",
       " 'send your password',\n",
       " 'send us your account',\n",
       " 'renew your password',\n",
       " 'renew your vows',\n",
       " 'your pin has expired']"
      ]
     },
     "execution_count": 19,
     "metadata": {},
     "output_type": "execute_result"
    }
   ],
   "source": [
    "# check to see that only new emails are added to the spam test data\n",
    "spam_filter_instance.test_spam"
   ]
  },
  {
   "cell_type": "markdown",
   "metadata": {},
   "source": [
    "<hr style=\\\"border:2px solid gray\\\"> </hr>"
   ]
  },
  {
   "cell_type": "markdown",
   "metadata": {},
   "source": [
    "## Reflection"
   ]
  },
  {
   "cell_type": "markdown",
   "metadata": {},
   "source": [
    "Based on Jason Colemans comment on my forum post and going through the code a second time I realized that the remove_untrained_words function was not needed. This led to reducing my code and still functioning correctly.\n",
    "\n",
    "I will describe each function as they are introduced\n",
    "\n",
    "### list_of_words_from_email\n",
    "\n",
    "This function takes in a string (representing an email) and then outputs a list of strings representing the words of the email.\n",
    "\n",
    "### dict_count_words_in_emails\n",
    "\n",
    "This function takes in a list or set of strings (words) and checks how many words are in the list of strings representing emails (emails).\n",
    "\n",
    "It then returns a dictionary whose keys are the words and the values are the number of times that word appeared in the emails.\n",
    "\n",
    "### prob_of_word_in_emails\n",
    "\n",
    "Takes in a dictionary whose keys are the words and the values are the number of times that word appeared in the emails (word_count) and a list of strings that represent emails (emails). Both have to be for the same classification (ham or spam).\n",
    "\n",
    "It returns a dictionary whose keys are the words and the values are the probability that word will be in an email given that the email is the classification.\n",
    "\n",
    "### probability_of_spam_and_ham\n",
    "\n",
    "This function takes lists of stings representing the spam (spam_emails) and ham emails (ham_emails) and returns dictionary where the keys are the classification and the values are the probability that an email will be ham or spam.\n",
    "\n",
    "### list_of_words_from_emails\n",
    "\n",
    "This function takes in a list of strings and loops through them. Using the list_of_words_from_email function it returns a list of strings representing all the words in the emails.\n",
    "\n",
    "### prob_of_words_for\n",
    "\n",
    "Takes in a list of strings representing emails (either ham or spam) and returns a dictionary where the keys are the words and the values are the probability of each word being in an email of the input classification (either ham or spam).\n",
    "\n",
    "### prob_of_email_being_spam\n",
    "\n",
    "A function that takes in lists of strings representing test emails for spam (previous_spam) and ham (previous_ham), a dictionary that contains two keys (\"spam\" and \"ham\") whose values are a list of stings that represent emails., and an optional float number for the probability threshold (threshold).\n",
    "\n",
    "It returns a dictionary whose keys represent the classification (ham or spam) and the values are another dictionary whose keys are a string that is the test emails and the value is a list containing a boolean that represents if the classifier sees the email as spam or not and a float representing the probability the email is spam.\n",
    "\n",
    "### class spam_filter\n",
    "\n",
    "Finally a class that takes the test spam emails and test ham emails on initialization. Then for every time it predicts new emails it will add them to the test data helping to improve the classifier."
   ]
  }
 ],
 "metadata": {
  "kernelspec": {
   "display_name": "Python 3",
   "language": "python",
   "name": "python3"
  },
  "language_info": {
   "codemirror_mode": {
    "name": "ipython",
    "version": 3
   },
   "file_extension": ".py",
   "mimetype": "text/x-python",
   "name": "python",
   "nbconvert_exporter": "python",
   "pygments_lexer": "ipython3",
   "version": "3.11.4"
  }
 },
 "nbformat": 4,
 "nbformat_minor": 2
}
