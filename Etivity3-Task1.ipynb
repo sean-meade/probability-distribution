{
 "cells": [
  {
   "cell_type": "markdown",
   "metadata": {},
   "source": [
    "# Notebook E-tivity 3 CE4021 Task 1"
   ]
  },
  {
   "cell_type": "markdown",
   "metadata": {},
   "source": [
    "Student name: Sean Meade"
   ]
  },
  {
   "cell_type": "markdown",
   "metadata": {},
   "source": [
    "Student ID: 101287921"
   ]
  },
  {
   "cell_type": "markdown",
   "metadata": {},
   "source": [
    "<hr style=\\\"border:2px solid gray\\\"> </hr>"
   ]
  },
  {
   "cell_type": "markdown",
   "metadata": {},
   "source": [
    "## Imports"
   ]
  },
  {
   "cell_type": "code",
   "execution_count": 8,
   "metadata": {},
   "outputs": [],
   "source": [
    "import numpy as np\n",
    "import math\n",
    "import random\n",
    "import matplotlib.pyplot as plt"
   ]
  },
  {
   "cell_type": "markdown",
   "metadata": {},
   "source": [
    " If you believe required imports are missing, please contact your moderator."
   ]
  },
  {
   "cell_type": "markdown",
   "metadata": {},
   "source": [
    "<hr style=\\\"border:2px solid gray\\\"> </hr>"
   ]
  },
  {
   "cell_type": "markdown",
   "metadata": {},
   "source": [
    "## Task 1"
   ]
  },
  {
   "cell_type": "markdown",
   "metadata": {},
   "source": [
    "## Problem Description\n",
    "\n",
    "Write code to simulate the probabilistic experiment of observing the height of customers of a theme park to establish the mean and standard deviation.\n",
    "\n",
    "Because  then this will be a continuous random variable. Being a continuous variable I will represent it with a normal distribution.\n",
    "\n",
    "### The type of random variable and probability distribution\n",
    "\n",
    "To describe this experiment I have chosen to use a continuous variable. There are no set categories here a customer can be of any height in a given range. This random variable is also univariate, meaning that it is just height we are interested in there is nothing else.\n",
    "\n",
    "The probabilities for a continuous variable are described in intervals (e.g. probability of a person being between 120 cm and 160 cm). For this it will be described using a probability density function. More specifically it will be represented by a normal distribution which is described by two numbers. These are the mean (mu - $ \\mu $) and the standard deviation (sigma - $ \\sigma $). The formula that represents a normal distribution is the following:\n",
    "\n",
    "$$  $$\n",
    "\n",
    "### "
   ]
  },
  {
   "cell_type": "markdown",
   "metadata": {},
   "source": [
    "## expected value and standard deviation of your random variable\n",
    "\n",
    "Any stats when searching on line for average heights are for adults. Therefore I decided to take a different approach and find the average max and min heights for theme park rides and split the difference considering the rides would have been created for the average person. There are a lot of different values but most rides seem to be around 1m for the min height \n",
    "\n",
    "Universal: https://www.universalorlando.com/web/en/us/plan-your-visit/hours-information/ride-height-requirements min 1.02m\n",
    "Alton Towers: https://www.altontowers.com/plan-your-visit/resort-information/height-restrictions/ min 1.1m max 1.96m\n",
    "Pacific Park: https://pacpark.com/standard-height-requirements-for-amusement-park-rides/ min 36 in\n",
    "\n",
    "Might need to take a different approach for these numbers but the logic after this will be the same.\n",
    "\n",
    "These values only need to be representative. There would be a lot to take into account otherwise. For example there would be a very wide range of height because of adults, teenagers, and children visiting the theme park. There is very little (understandably so) data on the heights of children or the age range of entering a theme park on average. I was hoping to use the average age to judge the average height but these are not a one to one relationship either.\n",
    "\n",
    "I have just decided (for now) to treat the theme park as a kids free zone and use height data I will find online.\n",
    "\n",
    "For now I will use 150cm as the mean and 1.2 as the standard deviation."
   ]
  },
  {
   "cell_type": "markdown",
   "metadata": {},
   "source": [
    "## Experiment\n",
    "\n",
    "Write Python code to simulate the experiment. \n",
    "\n",
    "To simulate the heights of people entering the park I have decided to use a normal distribution."
   ]
  },
  {
   "cell_type": "code",
   "execution_count": 20,
   "metadata": {},
   "outputs": [],
   "source": [
    "mu, sigma = 150, 1.2\n",
    "s = np.random.normal(mu, sigma, 1000000)"
   ]
  },
  {
   "cell_type": "markdown",
   "metadata": {},
   "source": [
    "The code should run the experiment a sufficient number of times such that you can experimentally approximate the following:\n",
    "\n",
    "- The expected value (mean) of your random variable\n"
   ]
  },
  {
   "cell_type": "code",
   "execution_count": 21,
   "metadata": {},
   "outputs": [
    {
     "data": {
      "text/plain": [
       "150.00082352133606"
      ]
     },
     "execution_count": 21,
     "metadata": {},
     "output_type": "execute_result"
    }
   ],
   "source": [
    "calculated_mean = sum(s)/len(s)\n",
    "calculated_mean"
   ]
  },
  {
   "cell_type": "markdown",
   "metadata": {},
   "source": [
    "- The standard deviation of your random variable."
   ]
  },
  {
   "cell_type": "code",
   "execution_count": 22,
   "metadata": {},
   "outputs": [
    {
     "data": {
      "text/plain": [
       "1.1986673148104408"
      ]
     },
     "execution_count": 22,
     "metadata": {},
     "output_type": "execute_result"
    }
   ],
   "source": [
    "mean_s = (s - calculated_mean)\n",
    "squared_diff = mean_s**2\n",
    "variance = sum(squared_diff)/len(s)\n",
    "std = np.sqrt(variance)\n",
    "std"
   ]
  },
  {
   "cell_type": "markdown",
   "metadata": {},
   "source": [
    "\n",
    "- Plot the distribution found in your simulated experiment with an appropriate number of 'bins'"
   ]
  },
  {
   "cell_type": "markdown",
   "metadata": {},
   "source": [
    "## outputs and graphs"
   ]
  },
  {
   "cell_type": "code",
   "execution_count": 12,
   "metadata": {},
   "outputs": [
    {
     "data": {
      "image/png": "[encoded data removed]",
      "text/plain": [
       "<Figure size 640x480 with 1 Axes>"
      ]
     },
     "metadata": {},
     "output_type": "display_data"
    }
   ],
   "source": [
    "count, bins, ignored = plt.hist(s, 30, density=True)\n",
    "plt.plot(bins, 1/(sigma * np.sqrt(2 * np.pi)) *\n",
    "               np.exp( - (bins - mu)**2 / (2 * sigma**2) ),\n",
    "         linewidth=2, color='r')\n",
    "plt.show()"
   ]
  },
  {
   "cell_type": "markdown",
   "metadata": {},
   "source": [
    "## comparing calculated values to experimentally obtained values.\n",
    "\n",
    "so we need to calculate manually by the formula and then use the outcome to confirm our output from function by using numpy correct?"
   ]
  },
  {
   "cell_type": "markdown",
   "metadata": {},
   "source": [
    "<hr style=\\\"border:2px solid gray\\\"> </hr>"
   ]
  },
  {
   "cell_type": "markdown",
   "metadata": {},
   "source": [
    "## Reflection"
   ]
  },
  {
   "cell_type": "markdown",
   "metadata": {},
   "source": [
    "Declaring the range you are choosing to experiment in the problem description like in Jason Colemans\n",
    "\n",
    "Also from Jason that the expected value is actually different to the mean\n",
    "\n",
    "From Peter the use of a seed while testing (and maybe also to do my calculations?)"
   ]
  },
  {
   "cell_type": "markdown",
   "metadata": {},
   "source": []
  }
 ],
 "metadata": {
  "kernelspec": {
   "display_name": "Python 3",
   "language": "python",
   "name": "python3"
  },
  "language_info": {
   "codemirror_mode": {
    "name": "ipython",
    "version": 3
   },
   "file_extension": ".py",
   "mimetype": "text/x-python",
   "name": "python",
   "nbconvert_exporter": "python",
   "pygments_lexer": "ipython3",
   "version": "3.11.4"
  }
 },
 "nbformat": 4,
 "nbformat_minor": 2
}
