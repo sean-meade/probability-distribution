{
 "cells": [
  {
   "cell_type": "markdown",
   "metadata": {},
   "source": [
    "# Notebook E-tivity 3 CE4021 Task 1"
   ]
  },
  {
   "cell_type": "markdown",
   "metadata": {},
   "source": [
    "Student name: Pierce Currid"
   ]
  },
  {
   "cell_type": "markdown",
   "metadata": {},
   "source": [
    "Student ID: 23260092"
   ]
  },
  {
   "cell_type": "markdown",
   "metadata": {},
   "source": [
    "<hr style=\\\"border:2px solid gray\\\"> </hr>"
   ]
  },
  {
   "cell_type": "markdown",
   "metadata": {},
   "source": [
    "## Imports"
   ]
  },
  {
   "cell_type": "code",
   "execution_count": 3,
   "metadata": {},
   "outputs": [],
   "source": [
    "import numpy as np\n",
    "import math\n",
    "import random\n",
    "import matplotlib.pyplot as plt"
   ]
  },
  {
   "cell_type": "markdown",
   "metadata": {},
   "source": [
    " If you believe required imports are missing, please contact your moderator."
   ]
  },
  {
   "cell_type": "markdown",
   "metadata": {},
   "source": [
    "<hr style=\\\"border:2px solid gray\\\"> </hr>"
   ]
  },
  {
   "cell_type": "markdown",
   "metadata": {},
   "source": [
    "## Task 1"
   ]
  },
  {
   "cell_type": "markdown",
   "metadata": {},
   "source": [
    "### Option Height:\n",
    "#### <i>Observing the average height of customers of a theme park to establish the mean and standard deviation.</i>"
   ]
  },
  {
   "cell_type": "markdown",
   "metadata": {},
   "source": [
    "Numerous natural phenomena are normally distributed, including height within a population. Normal distribution is usually associated with the prototypical bell curve. It is continuous probability distribution.\n",
    "Heights aren't normally distributed, but the central limit theorem sheds some light here, and explains why.\n",
    "The example of coin flipping helps - if you flip a coin once, the distribution of the probable number of heads would not be a normal distribution (you'd have .5 probability of getting head/tail ). If you scale up to 50,100,1000,..n tosses of the coin, the probability starts to look normally distributed. So as we start to scale out, the bell curve attributes start to show themselves.\n",
    "\n",
    "The <b>central limit theorem (CLT)</b> explains this by stating: <br> \n",
    "<i>as n increases, the distribution of the sample mean or sum approaches a normal distribution.</i>\n",
    "\n",
    "\n",
    "#### Standard Deviation $\\sigma$:  \n",
    "is the spread of a group of numbers/datapoints from the mean. In other words, how far apart number/data are within a dataset. This value is calculated as the square root of the variance (which is the average of the squared differences from the mean).\n",
    "\n",
    "#### Mean $\\mu$: \n",
    "is a central value of a set of numbers/datapoints. In other words, the average.  In normal distribution terms it's the peak in the bell curve. "
   ]
  },
  {
   "cell_type": "markdown",
   "metadata": {},
   "source": [
    "### Experiments"
   ]
  },
  {
   "cell_type": "markdown",
   "metadata": {},
   "source": [
    "For this experiment, I'm going to try and keep it local and use the example of Funderland, which is an amusement park event that takes place in Dublin from Stephens Day (the day after Christmas) up until early/mid January. Now, there will of course be some inherent bias in the dataset as I'm using what I think make up the population of the event each day - mainly families and younger teenagers. These 2 cohorts will inform the heights that will build the mean and standard deviation values, that will in turn build the sample populations using the random module. \n",
    "\n",
    "The data source I'll use for mean heights for children, and standard deviations, is https://ncdrisc.org/index.html which comprises of 800 health scientists worldwide, and regularly publish work to eLife. This page shows the mean and deviation of children aged 5yrs old across the world, including Ireland:\n",
    "https://ncdrisc.org/height-mean-ranking.html\n",
    "\n",
    "This is fascinating btw https://ncdrisc.org/height-mean-distribution.html the slider shows the increase in height over the years. As is this projection of school aged kids height in 2081 https://www.thelancet.com/journals/lancet/article/PIIS0140-6736(20)31859-6/fulltext#seccestitle130\n",
    "\n",
    "female children (5yr olds) = 114cm (range 112 - 115)\n",
    "\n",
    "male children (5yr olds) = 115cm (range 113 - 117)\n",
    "\n",
    "female teenagers = //TODO \n",
    "\n",
    "male teenagers = //TODO\n",
    "\n",
    "female adults = //TODO\n",
    "\n",
    "male adults = //TODO\n",
    "\n",
    "Mean calculation = //TODO\n",
    "\n",
    "Dec 26th overall mean = //TODO\n",
    "\n",
    "Dec 29th overall mean = //TODO\n",
    "\n",
    "Dec 30th overall mean = //TODO\n",
    "\n",
    "Dec 31st overall mean = //TODO\n"
   ]
  },
  {
   "cell_type": "code",
   "execution_count": 30,
   "metadata": {},
   "outputs": [
    {
     "data": {
      "image/png": "[encoded data removed]",
      "text/plain": [
       "<Figure size 640x480 with 1 Axes>"
      ]
     },
     "metadata": {},
     "output_type": "display_data"
    }
   ],
   "source": [
    "def sample_population(size: int, mean: int, standard_dev: int):\n",
    "    \"\"\"function to build a sample population to allow us to observe avg heights within a themepark\"\"\"\n",
    "    \n",
    "    sample_pop = []\n",
    "    for i in range(size):\n",
    "        sample_pop.append(round(np.random.normal(mean, standard_dev)))\n",
    "    \n",
    "    return sample_pop\n",
    "    \n",
    "def plot_graph(sample_population: list, bins_count:int, title: str):\n",
    "    \"\"\"builds a histogram to show the population data with inputs of sample population, bin count, and title\"\"\"\n",
    "    \n",
    "    plt.title(title)\n",
    "    plt.hist(sample_population, bins_count)\n",
    "    plt.grid()\n",
    "    plt.show()\n",
    "\n",
    "def population_mean(population: list):\n",
    "    #TODO - use numpy .mean function\n",
    "    pass\n",
    "    \n",
    "def population_standard_dev(population: list):\n",
    "    #TODO  - use numpy .std function\n",
    "    pass\n",
    "\n",
    "\n",
    "def find_percent_below_height(height: int):\n",
    "    #TODO - this might be a useful visualisation, to show the probability of all heights shorter than 'height' input\n",
    "    pass\n",
    "    \n",
    "\n",
    "population = sample_population(1000,170,6)\n",
    "plot_graph(population, 70,\"Themepark population test\")\n",
    "    "
   ]
  },
  {
   "cell_type": "markdown",
   "metadata": {},
   "source": [
    "<hr style=\\\"border:2px solid gray\\\"> </hr>"
   ]
  },
  {
   "cell_type": "markdown",
   "metadata": {},
   "source": [
    "## Reflection"
   ]
  },
  {
   "cell_type": "markdown",
   "metadata": {},
   "source": [
    "Write you reflection in below cell."
   ]
  },
  {
   "cell_type": "markdown",
   "metadata": {},
   "source": []
  }
 ],
 "metadata": {
  "kernelspec": {
   "display_name": "Python 3 (ipykernel)",
   "language": "python",
   "name": "python3"
  },
  "language_info": {
   "codemirror_mode": {
    "name": "ipython",
    "version": 3
   },
   "file_extension": ".py",
   "mimetype": "text/x-python",
   "name": "python",
   "nbconvert_exporter": "python",
   "pygments_lexer": "ipython3",
   "version": "3.11.4"
  }
 },
 "nbformat": 4,
 "nbformat_minor": 2
}
