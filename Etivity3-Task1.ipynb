{
 "cells": [
  {
   "cell_type": "markdown",
   "metadata": {},
   "source": [
    "# Notebook E-tivity 3 CE4021 Task 1"
   ]
  },
  {
   "cell_type": "markdown",
   "metadata": {},
   "source": [
    "Student name: Julieta Rubis"
   ]
  },
  {
   "cell_type": "markdown",
   "metadata": {},
   "source": [
    "Student ID: 23233729"
   ]
  },
  {
   "cell_type": "markdown",
   "metadata": {},
   "source": [
    "<hr style=\\\"border:2px solid gray\\\"> </hr>"
   ]
  },
  {
   "cell_type": "markdown",
   "metadata": {},
   "source": [
    "## Imports"
   ]
  },
  {
   "cell_type": "code",
   "execution_count": 40,
   "metadata": {},
   "outputs": [],
   "source": [
    "import numpy as np\n",
    "import math\n",
    "import random\n",
    "import matplotlib.pyplot as plt"
   ]
  },
  {
   "cell_type": "markdown",
   "metadata": {},
   "source": [
    " If you believe required imports are missing, please contact your moderator."
   ]
  },
  {
   "cell_type": "markdown",
   "metadata": {},
   "source": [
    "<hr style=\\\"border:2px solid gray\\\"> </hr>"
   ]
  },
  {
   "cell_type": "markdown",
   "metadata": {},
   "source": [
    "## Task 1: Option Dice"
   ]
  },
  {
   "cell_type": "markdown",
   "metadata": {},
   "source": [
    "Rolling two 6-sided fair dice with the aim of determining the probability that the sum of the two dice is less than 3 or more than 10."
   ]
  },
  {
   "cell_type": "markdown",
   "metadata": {},
   "source": [
    "## Discrete random variable\n",
    "A random variable is a mathematical construct used to represent the outcomes of a random process. Discrete random variables take on specific, distinct values, typically integers, and have well-defined probabilities associated with each possible value."
   ]
  },
  {
   "cell_type": "markdown",
   "metadata": {},
   "source": [
    "## Uniform Distribution\n",
    "A uniform distribution is used when all possible outcomes have equal probabilities. For two fair 6-sided dice, each outcome (sum of the two dice) has an equal chance of occurring. There are 36 equally likely outcomes when rolling two dice (from 2 to 12), and each of these outcomes has a probability of 1/36."
   ]
  },
  {
   "cell_type": "markdown",
   "metadata": {},
   "source": [
    "## Why I chose a uniform distribution(dice experiment, equal probability, uniform probability distribution)\n",
    "Because when rolling two dice, each die has six sides with numbers from 1 to 6. The sum of the numbers on the two dice can be any integer between 2 (the minimum possible sum) and 12 (the maximum possible sum).\n",
    "Since each die is fair and unbiased, the probability of each side coming up is equal (1/6). When you roll two dice independently, you are essentially calculating the sum of two independent random variables, each following a uniform distribution. The sum of two independent uniform random variables is also distributed uniformly.\n",
    "In this case, the uniform distribution ensures that all possible sums (from 2 to 12) are equally likely to occur. So, we use a uniform distribution to model this experiment.\n"
   ]
  },
  {
   "cell_type": "code",
   "execution_count": 48,
   "metadata": {},
   "outputs": [
    {
     "data": {
      "image/png": "[encoded data removed]",
      "text/plain": [
       "<Figure size 432x288 with 1 Axes>"
      ]
     },
     "metadata": {
      "needs_background": "light"
     },
     "output_type": "display_data"
    },
    {
     "name": "stdout",
     "output_type": "stream",
     "text": [
      "Theoretical Expected Value: 2.138888888888889\n",
      "Experimental Expected Value: 6.9432\n",
      "Theoretical Standard Deviation: 3.1622776601683795\n",
      "Experimental Standard Deviation: 2.4367957977639407\n"
     ]
    }
   ],
   "source": [
    "# Using a discrete random variable because the sum of two dice is discrete.\n",
    "# The probability distribution is uniform since each sum has an equal chance of occurring.\n",
    "\n",
    "import math\n",
    "\n",
    "\"\"\"\n",
    "    This section defines a function roll_two_dice() that simulates rolling two dice and returning their sum. \n",
    "    It also specifies the number of simulations (num_simulations) you want to run, in this case, 10,000 times. \n",
    "    The results list will store the sum of two dice rolls for each simulation.\n",
    "\n",
    "\"\"\"\n",
    "def roll_two_dice():\n",
    "    die1 = random.randint(1, 6)\n",
    "    die2 = random.randint(1, 6)\n",
    "    return die1 + die2\n",
    "\n",
    "number_of_simulations = 10000\n",
    "results = [roll_two_dice() for i in range(number_of_simulations)]\n",
    "\n",
    "# Calculate experimental expected value and standard deviation\n",
    "experimental_mean = np.mean(results)\n",
    "experimental_stddev = np.std(results)\n",
    "\n",
    "\"\"\"\n",
    "   The plot distribution create a histogram plot of the results using the matplotlib library (plt). \n",
    "   It visualizes the distribution of the sum of two dice rolls by plotting the frequency of each possible sum. \n",
    "   The code specifies various attributes of the plot, such as the title, labels, and grid. \n",
    "\"\"\"\n",
    "plt.hist(results, bins=range(2, 14), edgecolor='k', alpha=0.7)\n",
    "plt.title('Distribution of the Sum of Two Dice Rolls')\n",
    "plt.xlabel('Sum of Two Dice')\n",
    "plt.ylabel('Frequency')\n",
    "plt.xticks(range(2, 13))\n",
    "plt.grid(axis='y', linestyle='--', alpha=0.7)\n",
    "plt.show()\n",
    "\n",
    "\"\"\"\n",
    "    calculates the theoretical mean (expected value) of the sum of two dice rolls based on \n",
    "    the probabilities of getting each possible sum.\n",
    "\"\"\"\n",
    "# Theoretical Expected Value:\n",
    "# E(X) = (1/36) * Σ(x * P(x)), where x is the sum of two dice and P(x) is the probability of getting x\n",
    "# E(X) = (1/36) * (2 + 3 + 4 + 5 + 6 + 7 + 8 + 9 + 10 + 11 + 12)\n",
    "theoretical_mean = (1/36) * sum(range(2, 13))\n",
    "\n",
    "# Theoretical Standard Deviation:\n",
    "# Var(X) = E(X^2) - [E(X)]^2\n",
    "# Var(X) = (1/36) * Σ(x^2 * P(x)) - [(1/36) * Σ(x * P(x))]^2\n",
    "# Standard Deviation = sqrt(Var(X))\n",
    "# Corrected calculation of theoretical standard deviation\n",
    "a = 2  # Minimum sum of two dice\n",
    "b = 12  # Maximum sum of two dice\n",
    "theoretical_stddev = math.sqrt(((b - a + 1) ** 2 - 1) / 12)\n",
    "\n",
    "# Compare theoretical and experimental values\n",
    "print(f\"Theoretical Expected Value: {theoretical_mean}\")\n",
    "print(f\"Experimental Expected Value: {experimental_mean}\")\n",
    "print(f\"Theoretical Standard Deviation: {theoretical_stddev}\")\n",
    "print(f\"Experimental Standard Deviation: {experimental_stddev}\")"
   ]
  },
  {
   "cell_type": "markdown",
   "metadata": {},
   "source": [
    "<hr style=\\\"border:2px solid gray\\\"> </hr>"
   ]
  },
  {
   "cell_type": "markdown",
   "metadata": {},
   "source": [
    "## Reflection"
   ]
  },
  {
   "cell_type": "markdown",
   "metadata": {},
   "source": [
    "## Discrete Random Variable and Uniform Probability Distribution\n",
    "The code begins with a comment explaining that a discrete random variable is used because the sum of two dice is discrete. In probability theory, a discrete random variable represents distinct and separate outcomes, such as the sum of two dice rolls. Additionally, it mentions that the probability distribution is uniform, meaning that each possible sum has an equal chance of occurring. This uniform distribution is typical for fair six-sided dice."
   ]
  },
  {
   "cell_type": "markdown",
   "metadata": {},
   "source": [
    "## Dice Rolling Simulation \n",
    "The function called roll_two_dice() that simulates rolling two dice and returning their sum. The function generates random numbers between 1 and 6 for each die and then returns the sum of the two rolls. The number of simulations (number_of_simulations) is set to 10,000, and the results of these simulations are stored in a list called results.\n",
    "Using randomness and repetition to mimic the real-world process of rolling two dice multiple times."
   ]
  },
  {
   "cell_type": "markdown",
   "metadata": {},
   "source": [
    "## Experimental Mean and Standard Deviation\n",
    "After simulating the dice rolls, the calculates experimental mean (average) and standard deviation of the results using the np.mean() and np.std() functions. "
   ]
  },
  {
   "cell_type": "markdown",
   "metadata": {},
   "source": [
    "## Visualization with Histogram \n",
    "Creates a histogram plot of the simulation results using the matplotlib library (plt). This histogram visualizes the distribution of the sum of two dice rolls by showing the frequency of each possible sum. The plot includes a title, labels for the axes, and a grid for clarity."
   ]
  },
  {
   "cell_type": "markdown",
   "metadata": {},
   "source": [
    "## Theoretical Mean and Standard Deviation \n",
    "Calculates the theoretical mean (expected value) and standard deviation of the sum of two dice rolls based on probability theory. The theoretical mean represents the expected average sum, while the theoretical standard deviation measures the spread or variability of the outcomes."
   ]
  },
  {
   "cell_type": "markdown",
   "metadata": {},
   "source": [
    "## Comparison of Theoretical and Experimental Values\n",
    "Compared the theoretical and experimental values for the mean and standard deviation. It prints these values to the console, allowing for a quantitative assessment of how closely the simulation results align with the theoretical expectations."
   ]
  },
  {
   "cell_type": "markdown",
   "metadata": {},
   "source": [
    "## Reference "
   ]
  },
  {
   "cell_type": "markdown",
   "metadata": {},
   "source": [
    "- “Python Random Number Generator: The Random Module || Python Tutorial || Learn Python Programming.” Www.youtube.com, www.youtube.com/watch?v=zWL3z7NMqAs&embeds_referring_euri=https%3A%2F%2Flearn.ul.ie%2F&feature=emb_logo. Accessed 17 Oct. 2023.\n",
    "- zedstatistics. “Probability Distribution Functions (PMF, PDF, CDF).” YouTube, 2 Mar. 2020, www.youtube.com/watch?v=YXLVjCKVP7U.\n",
    "- “Mastering Probability and Statistics in Python - Part 1.” Www.youtube.com, www.youtube.com/watch?v=KEhWSpdMCVk&list=PLVgEzPHodXi1wT9OK8B_W6Hs8Xc-gaG6N&index=2. Accessed 17 Oct. 2023.\n",
    "- “Probability.” Mathsisfun.com, 2017, www.mathsisfun.com/data/probability.html."
   ]
  }
 ],
 "metadata": {
  "kernelspec": {
   "display_name": "Python 3 (ipykernel)",
   "language": "python",
   "name": "python3"
  },
  "language_info": {
   "codemirror_mode": {
    "name": "ipython",
    "version": 3
   },
   "file_extension": ".py",
   "mimetype": "text/x-python",
   "name": "python",
   "nbconvert_exporter": "python",
   "pygments_lexer": "ipython3",
   "version": "3.9.12"
  }
 },
 "nbformat": 4,
 "nbformat_minor": 2
}
