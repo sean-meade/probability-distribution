{
 "cells": [
  {
   "cell_type": "markdown",
   "metadata": {},
   "source": [
    "# Notebook E-tivity 3 CE4021 Task 1"
   ]
  },
  {
   "cell_type": "markdown",
   "metadata": {},
   "source": [
    "**Student name:** Jason Coleman"
   ]
  },
  {
   "cell_type": "markdown",
   "metadata": {},
   "source": [
    "**Student ID:** 9539719"
   ]
  },
  {
   "cell_type": "markdown",
   "metadata": {},
   "source": [
    "## Imports"
   ]
  },
  {
   "cell_type": "code",
   "execution_count": null,
   "metadata": {},
   "outputs": [],
   "source": [
    "import numpy as np\n",
    "import math\n",
    "import random\n",
    "import matplotlib.pyplot as plt"
   ]
  },
  {
   "cell_type": "markdown",
   "metadata": {},
   "source": [
    " If you believe required imports are missing, please contact your moderator."
   ]
  },
  {
   "cell_type": "markdown",
   "metadata": {},
   "source": [
    "# Task 1: Option Dice"
   ]
  },
  {
   "cell_type": "markdown",
   "metadata": {},
   "source": [
    "Rolling two 6-sided fair dice with the aim of determining the probability that the sum of the two dice is less than 3 or more than 10.\n",
    "\n",
    "* Briefly explain the type of random variable and probability distribution you will use. The choice of a continuous or a discrete random variable, and the probability distribution (normal, uniform, binomial, ..) should be informed by the type of experiment.\n",
    "\n",
    "* Write Python code to simulate the experiment. The code should run the experiment a sufficient number of times such that you can experimentally approximate the following:\n",
    "\n",
    "* The expected value of your random variable.\n",
    "\n",
    "* The standard deviation of your random variable.\n",
    "\n",
    "* Plot the distribution found in your simulated experiment with an appropriate number of 'bins'\n",
    "\n",
    "**N.B.:**\n",
    "\n",
    "* Structure your notebook as follows:\n",
    "    1. Markdown cell with problem description\n",
    "    2. Markdown cells with expected value and standard deviation of your random variable\n",
    "    3. Cell(s) with experiment\n",
    "    4. Cell(s) with outputs and graphs\n",
    "    5. Commentary comparing calculated values to experimentally obtained values.\n",
    "\n",
    "* You may only use the following modules:\n",
    "    * Random\n",
    "    * Numpy\n",
    "    * A visualisation module such as Matplotlib\n",
    "    * Math\n",
    "\n",
    "* You are not required to perform exception handling.\n",
    "* You are not required to provide tests for your code."
   ]
  },
  {
   "cell_type": "markdown",
   "metadata": {},
   "source": [
    "# Solution"
   ]
  },
  {
   "cell_type": "markdown",
   "metadata": {},
   "source": [
    "I will start by outlining the problem. Roll two 6-sided fair dice and determine the probability that the sum of the two dice is less than 3 or more than 10.\n",
    "\n",
    "| Dice Roll       | Description      | Probability   | Probability |\n",
    "|-----------------|-----------------|---------------|-------------|\n",
    "| <span style=\"font-size:24px;\">&#9856;</span> <span style=\"font-size:24px;\">&#9856;</span> | Snake eyes (&#x4DFE;) | 1/36 | 0.0278      |\n",
    "| <span style=\"font-size:24px;\">&#9860;</span> <span style=\"font-size:24px;\">&#9861;</span> | Yo/Yo-leven      | 1/36 | 0.0278      |\n",
    "| <span style=\"font-size:24px;\">&#9861;</span> <span style=\"font-size:24px;\">&#9860;</span> | Six five, no Jive | 1/36 | 0.0278      |\n",
    "| <span style=\"font-size:24px;\">&#9861;</span> <span style=\"font-size:24px;\">&#9861;</span> | Boxcars/Midnight | 1/36 | 0.0278      |\n",
    "\n",
    "\n",
    "## Structure\n",
    "The structure of the assignement is as follows:\n",
    "\n",
    "* I will calculate the various required elements: probabilities, Expected value of the random variable and std-dev of the Random variable. \n",
    "* Then I will implement python code to roll dice, describe the experiments, summarise the outcomes with tables and plots. \n",
    "* Run the experiments\n",
    "* Reflect on the observations\n",
    "* The Appendix will hold things like mathematical derivations and miscellaneus experiments (outside the scope)"
   ]
  },
  {
   "cell_type": "markdown",
   "metadata": {},
   "source": [
    "## Calculating P(X), E[X] and std-dev for the Random variable"
   ]
  },
  {
   "cell_type": "markdown",
   "metadata": {},
   "source": [
    "When rolling 2d6, each die has 6 possible outcomes: {1, 2, 3, 4, 5, 6}. The sample space for rolling two such dice is the set of all possible ordered pairs of outcomes, one from the first die and one from the second die.\n",
    "\n",
    "There are a total of $6 \\times 6 = 36$ possible ordered pairs in the total sample space.\n",
    "\n",
    "$$\n",
    "S = \\{ (1, 1), (1, 2), (1, 3), (1, 4), (1, 5), (1, 6), \\\\\n",
    "    (2, 1), (2, 2), (2, 3), (2, 4), (2, 5), (2, 6), \\\\\n",
    "    (3, 1), (3, 2), (3, 3), (3, 4), (3, 5), (3, 6), \\\\\n",
    "    (4, 1), (4, 2), (4, 3), (4, 4), (4, 5), (4, 6), \\\\\n",
    "    (5, 1), (5, 2), (5, 3), (5, 4), (5, 5), (5, 6), \\\\\n",
    "    (6, 1), (6, 2), (6, 3), (6, 4), (6, 5), (6, 6) \\}\n",
    "$$\n",
    "\n",
    "But we will only we working with a subset due to the filtering (i.e. $X \\lt 3$ or $X \\gt 10$).\n",
    "\n",
    "**Goal:** Determining the probability that the sum of the two dice is less than 3 or more than 10\n",
    "$$\n",
    "P(X \\lt 3 | X \\gt 10)\n",
    "$$"
   ]
  },
  {
   "cell_type": "markdown",
   "metadata": {},
   "source": [
    "### Probability\n",
    "The subset of ordered pairs, known as the possible outcomes, that sum to $> 10$ or $< 3$ are:\n",
    "\n",
    "$$\n",
    "S' = \\{ (1, 1), (5, 6), (6, 5), (6, 6) \\}\n",
    "$$\n",
    "\n",
    "\n",
    "To find the probability of rolling an ordered pair that belongs to the subset $S'$, we divide the number of desired outcomes by the total number of possible outcomes when rolling two six-sided dice. \n",
    "\n",
    "The probability of rolling one of the desired outcomes, $P(S')$ is:\n",
    "\n",
    "$$\n",
    "P(S') = \\frac{\\text{No. of desired outcomes}}{\\text{Total Number of Outcomes}}\n",
    "$$\n",
    "\n",
    "$$\n",
    "P(S') = \\frac{4}{36} = \\frac{1}{9} \\approx \\boxed{0.11}\n",
    "$$\n",
    "\n",
    " Another way to look at this is:\n",
    "\n",
    "* Rolling less than 3, rolling a (1,1):\n",
    "\n",
    "\n",
    "$$\n",
    "\\frac{1}{6} \\times \\frac{1}{6} = \\frac{1}{36} = \\boxed{0.0278}\n",
    "$$\n",
    "\n",
    "\n",
    "* Rolling greater than 10: rolling (5,6), (6,5), (6,6)\n",
    "\n",
    "\n",
    "$$\n",
    "(\\frac{1}{6} \\times \\frac{1}{6}) = \\frac{1}{36}\n",
    "$$\n",
    "\n",
    "$$\n",
    "(\\frac{1}{6} \\times \\frac{1}{6}) + (\\frac{1}{6} \\times \\frac{1}{6}) = \\frac{1}{18}\n",
    "$$\n",
    "\n",
    "$$\n",
    "=> \\frac{1}{36} + \\frac{1}{18} = \\frac{1}{12} = \\boxed{0.0834}\n",
    "$$\n",
    "\n",
    "* Probability of rolling a desired outcome is:\n",
    "\n",
    "$$\n",
    "0.0278 + 0.0834 \\approx  \\boxed{0.1112}\n",
    "$$"
   ]
  },
  {
   "cell_type": "markdown",
   "metadata": {},
   "source": [
    "### Expected Value\n",
    "\n",
    "The expected value (often denoted as $E[X]$ for a random variable is a measure of the \"center\" of a probability distribution (like the mean). It gives us the average or mean value of the outcomes, weighted by their probability. \n",
    "\n",
    "For discrete random variables, like our dice roll, the expected value is calculated as:\n",
    "\n",
    "$$\n",
    "E[X] = \\sum_{i=1}^{n} p(x_i) x_i\n",
    "$$\n",
    "\n",
    "Where\n",
    "\n",
    "* $n$ is the total number of possible outcomes (11)\n",
    "* $p(x_i)$ is the probability of the each (i) outcome\n",
    "* $x_i$ is the actual ith outcome\n",
    "\n"
   ]
  },
  {
   "cell_type": "markdown",
   "metadata": {},
   "source": [
    "### Standard Deviation\n",
    "The std deviation can be derived from the Expected value calculation.\n",
    "\n",
    "$$\n",
    "\\text{Var}(X) = E[X^2] - (E[X])^2\n",
    "$$"
   ]
  },
  {
   "cell_type": "markdown",
   "metadata": {},
   "source": [
    "Assembling the outcomes and intermediate values in a table and using the above formula we get $E[X]$ and $\\sigma$."
   ]
  },
  {
   "cell_type": "markdown",
   "metadata": {},
   "source": [
    "| Outcome, Sum ($x_i$) | Probability, $p(x_i)$ | $p(x_i) \\cdot x_i $| $  p(x_i). x_i^2$ |\n",
    "|--------------:|-------------------------:|----------------------:|------------------------:|\n",
    "|             2 |                      1/36 |                 2/36  |               4/36     |\n",
    "|             3 |                      2/36 |                 6/36  |              18/36     |\n",
    "|             4 |                      3/36 |                12/36  |              48/36     |\n",
    "|             5 |                      4/36 |                20/36  |             100/36     |\n",
    "|             6 |                      5/36 |                30/36  |             180/36     |\n",
    "|             7 |                      6/36 |                42/36  |             294/36     |\n",
    "|             8 |                      5/36 |                40/36  |             320/36     |\n",
    "|             9 |                      4/36 |                36/36  |             324/36     |\n",
    "|            10 |                      3/36 |                30/36  |             300/36     |\n",
    "|            11 |                      2/36 |                22/36  |             242/36     |\n",
    "|            12 |                      1/36 |                12/36  |             144/36     |\n",
    "| $E[X]$      |                           |                    **7**  |                        |\n",
    "|$\\sigma$     |                           |                          |              **2.47**   |\n",
    "\n"
   ]
  },
  {
   "cell_type": "markdown",
   "metadata": {},
   "source": [
    "### Mathematical Summary\n",
    "The following table shows the calculations: \n",
    "\n",
    "* At face value, the distribution of 2d6, filtering out X<2 or X>10 is non-uniform. The distribution for an unfiltered 2d6 is not normal but tends towards triangular.\n",
    "* Random Variables, $X$ are numerical values that are assigned to an outcome of an event. We can calculate the probability of the random variable having a particular value ($P(x)$).\n",
    "* Our random variables are discrete (countable and finite).\n",
    "* The possible outcomes are, $\\boxed{S' = \\{ 2, 11, 11, 12 \\}}$ out of a total of 36 possible dice throws.\n",
    "* The `probability` of rolling one of the desired outcomes is $\\boxed{0.1112}$\n",
    "* The `Expected Value` is: $\\boxed{E[X] = 7}$\n",
    "* The `standard deviation`, $\\boxed{\\sigma\\ \\approx 2.47}$\n",
    "* Depending on how we phrase this, this \"game\" could be termed a `Bernoulli Trial` since we are measuring success (sum < 3 or > 10) or failure so, then the  distribution is `Binomial`. See the Appendix for more details, the game section."
   ]
  },
  {
   "cell_type": "markdown",
   "metadata": {},
   "source": [
    "## Python Implementation\n",
    "The approach I'll take will rely on rolling lots of 2d6 and measuring when the sums of the dice match our conditions. I will want to see if the number of trials I do, impacts how well I match the previous paper-based calculations (see [Law of Large Numbers](https://en.wikipedia.org/wiki/Law_of_large_numbers)). \n",
    "\n",
    "When I write this code, I'm not really thinking about the type of distributions; I just want to run the experiments to see the shapes I get. I can then match it to the theory above."
   ]
  },
  {
   "cell_type": "code",
   "execution_count": null,
   "metadata": {},
   "outputs": [],
   "source": [
    "def roll_2d6() -> int:\n",
    "    \"\"\"\n",
    "    Simple function to roll 2d6 and return the sum of the two dice.\n",
    "\n",
    "    :return: A sum of random variables representing the event, rolling \n",
    "             a dice (Sum of a single 2d6 dice roll).\n",
    "    \"\"\"\n",
    "\n",
    "    return random.randint(1,6) + random.randint(1,6)"
   ]
  },
  {
   "cell_type": "markdown",
   "metadata": {},
   "source": [
    "It seems like the approach we take depends on how we phrase the problem. You could say that this task relates to a very simple dice game where:\n",
    "\n",
    "* The player has two six-sided dice\n",
    "* You `win` the round if you roll one of the combinations below.\n",
    "* Else, you `lose`.\n",
    "\n",
    "| Dice Roll       | Description      | \n",
    "|-----------------|-----------------|\n",
    "| <span style=\"font-size:24px;\">&#9856;</span> <span style=\"font-size:24px;\">&#9856;</span> | Snake eyes (&#x4DFE;) | \n",
    "| <span style=\"font-size:24px;\">&#9860;</span> <span style=\"font-size:24px;\">&#9861;</span> | Yo/Yo-leven      |\n",
    "| <span style=\"font-size:24px;\">&#9861;</span> <span style=\"font-size:24px;\">&#9860;</span> | Six five, no Jive | \n",
    "| <span style=\"font-size:24px;\">&#9861;</span> <span style=\"font-size:24px;\">&#9861;</span> | Boxcars/Midnight | \n",
    "\n",
    "So, what is the probability of winning the game? \n",
    "\n",
    "There are two outcomes: success or failure. In this case, the distribution for the sum of two die rolls is `non-uniform`. We could consider this a `Bernoulli Trial` since we are measuring success (where sum < 3 or > 10) or failure. "
   ]
  },
  {
   "cell_type": "code",
   "execution_count": null,
   "metadata": {},
   "outputs": [],
   "source": [
    "def calculate_statistics(sums: list) -> None:\n",
    "    \"\"\"\n",
    "    Calculate summary stats.\n",
    "\n",
    "    :param sums: A list of sums of 2d6 dice rolls.\n",
    "    :return: None \n",
    "    \"\"\"\n",
    "    # Expected value\n",
    "    print(f\"Expected value: {np.mean(sums)}\")\n",
    "    # Variance\n",
    "    print(f\"Variance: {np.var(sums)}\")\n",
    "    # Standard deviation\n",
    "    print(f\"Standard deviation: {np.std(sums)}\")\n",
    "\n",
    "def plot_distributions(sums: list, num_trials: int) -> None:\n",
    "    \"\"\"\n",
    "    Plot PMF and CDF of the sum of 2d6. Highlight the mean and 1 and 2 standard deviations.\n",
    "    use lines styles and colours to differentiate.\n",
    "\n",
    "    :param sums: A list of sums of 2d6 dice rolls.\n",
    "    :param num_trials: The number of trials to run (used on chart for info).\n",
    "    \"\"\"\n",
    "    std_dev = np.std(sums)\n",
    "    two_std_dev = 2 * std_dev\n",
    "\n",
    "    # Plot PMF\n",
    "    plt.hist(sums, bins=11, density=True, label=\"PMF\", color='green')\n",
    "    plt.axvline(np.mean(sums), color='b', linestyle='solid', linewidth=1, label=\"$E[X]$\")\n",
    "    plt.axvline(np.mean(sums) + std_dev, color='r', linestyle='dotted', linewidth=1, label=\"+1 $\\sigma$\")\n",
    "    plt.axvline(np.mean(sums) - std_dev, color='r', linestyle='dotted', linewidth=1, label=\"-1 $\\sigma$\")\n",
    "    plt.axvline(np.mean(sums) + two_std_dev, color='r', linestyle='dashed', linewidth=1, label=\"+2 $\\sigma$\")\n",
    "    plt.axvline(np.mean(sums) - two_std_dev, color='r', linestyle='dashed', linewidth=1, label=\"-2 $\\sigma$\")\n",
    "\n",
    "  \n",
    "    plt.title(f\"PMF of the Sum of 2d6 ({num_trials} trials)\")\n",
    "    plt.xlabel(\"Sum of 2d6\")\n",
    "    plt.ylabel(\"Probability\")\n",
    "    plt.legend()\n",
    "    plt.show()\n",
    "    \n",
    "    # Plot CDF\n",
    "    plt.hist(sums, bins=11, density=True, cumulative=True, label=\"CDF\", color='green')\n",
    "    plt.axvline(np.mean(sums), color='b', linestyle='solid', linewidth=1, label=\"$E[X]$\")\n",
    "    plt.axvline(np.mean(sums) + std_dev, color='r', linestyle='dotted', linewidth=1, label=\"+1 $\\sigma$\")\n",
    "    plt.axvline(np.mean(sums) - std_dev, color='r', linestyle='dotted', linewidth=1, label=\"-1 $\\sigma$\")\n",
    "    plt.axvline(np.mean(sums) + two_std_dev, color='r', linestyle='dashed', linewidth=1, label=\"+2 $\\sigma$\")\n",
    "    plt.axvline(np.mean(sums) - two_std_dev, color='r', linestyle='dashed', linewidth=1, label=\"-2 $\\sigma$\")\n",
    "    plt.title(f\"CDF of the Sum of 2d6 ({num_trials} trials)\")\n",
    "    plt.xlabel(\"Sum of 2d6\")\n",
    "    plt.ylabel(\"Probability\")\n",
    "    plt.show()"
   ]
  },
  {
   "cell_type": "markdown",
   "metadata": {},
   "source": [
    "### Roll 10 dice.\n",
    "And note the distribution."
   ]
  },
  {
   "cell_type": "code",
   "execution_count": null,
   "metadata": {},
   "outputs": [],
   "source": [
    "num_trials = 10\n",
    "sums = [roll_2d6() for i in range(num_trials)]\n",
    "\n",
    "\n",
    "calculate_statistics(sums)\n",
    "plot_distributions(sums, num_trials)"
   ]
  },
  {
   "cell_type": "markdown",
   "metadata": {},
   "source": [
    "### Roll 100,000 Dice\n",
    "Now increase the sample size, highlighting the law of large numbers. And note the distribution."
   ]
  },
  {
   "cell_type": "code",
   "execution_count": null,
   "metadata": {},
   "outputs": [],
   "source": [
    "num_trials = 100_000\n",
    "sums = [roll_2d6() for i in range(num_trials)]\n",
    "\n",
    "\n",
    "calculate_statistics(sums)\n",
    "plot_distributions(sums, num_trials)"
   ]
  },
  {
   "cell_type": "markdown",
   "metadata": {},
   "source": [
    "Give a much better triangular distribution."
   ]
  },
  {
   "cell_type": "markdown",
   "metadata": {},
   "source": [
    "## Reflection"
   ]
  },
  {
   "cell_type": "markdown",
   "metadata": {},
   "source": [
    "**Probability of Specific Outcomes:** The initial question asked for the probability that the sum of the two dice rolls is less than 3 or more than 10. I have shown that this probability is $\\approx 11.11$%.\n",
    "\n",
    "**Expected Value:** \n",
    "We determined that the average sum of two dice rolls is 7. This means that, over a large number of rolls, we would expect the average sum to be close to 7 (demonstrated in the plots).\n",
    "\n",
    "**Standard Deviation:** We found the standard deviation to be approximately 2.4152. This quantifies the average deviation of the sums from the expected value of 7. It provides insight into just how spread out the possible sums are.\n",
    "\n",
    "**How does this all relate?**\n",
    "\n",
    "Given the expected value and standard deviation, we can get a sense of how \"rare\" an event is. For example, a sum less than 3 or greater than 10 is relatively, quite far away from the expected value of 7.\n",
    "\n",
    "To put it in perspective:\n",
    "\n",
    "* A sum of 2 is almost 2 standard deviations below the expected value. \n",
    "* A sum of 11 or 12 is over standard deviations above the expected value. \n",
    "* Events that lie beyond two standard deviations from the mean casn be considered more unlikely. \n",
    "* The distribution of 1d6 is uniform. Each outcome is equally likely.\n",
    "* The distribution of 2d6 dice sums is not uniform (unequal probability of outcomes) or normal (it's more triangular), the concept gives us an intuitive sense of rarity: the farther an event is from the expected value in terms of standard deviations, the rarer it might be. (demonstrated in the plots).\n",
    "\n",
    "Our initial calculation confirmed this intuition, showing that the combined probability of getting a sum less than 3 or greater than 10 is only 11.11%, making it a relatively infrequent occurrence when rolling two dice."
   ]
  },
  {
   "cell_type": "markdown",
   "metadata": {},
   "source": [
    "## References:\n",
    "* https://www.youtube.com/watch?v=YXLVjCKVP7U&ab_channel=zedstatistics - PMF, CDF\n",
    "* https://youtu.be/YXLVjCKVP7U?t=397 Probaility vs. Outcome\n",
    "* [mbmlbook](https://mbmlbook.com/MurderMystery.html#concept_def_random_variable)\n",
    "* [Brilliant Random Variable course](https://brilliant.org/courses/probability_ii/introduction-110/random-variables)\n",
    "* [Dice, Mathworld](https://mathworld.wolfram.com/Dice.html)\n",
    "* [Playing Craps](https://mathworld.wolfram.com/Craps.html)\n",
    "* [Law of Large Numbers](https://en.wikipedia.org/wiki/Law_of_large_numbers)\n",
    "* [Random Variables](https://online.stat.psu.edu/stat500/lesson/3/3.1)\n",
    "* [Expected Value and Variance of Discrete Random Variables](https://online.stat.psu.edu/stat500/lesson/3/3.2/3.2.1)"
   ]
  },
  {
   "cell_type": "markdown",
   "metadata": {},
   "source": [
    "## Appendix"
   ]
  },
  {
   "cell_type": "markdown",
   "metadata": {},
   "source": [
    "### Definitions\n",
    "\n",
    "**Random Variable, X**\n",
    "*\"A random variable, $X$ assigns a numerical value to each outcome of a chance event. Random variables are not the same as the event they quantify\"* (see [Brilliant](https://brilliant.org/courses/probability_ii/introduction-110/random-variables)). In our case, each dice roll result is a Random Variable and the sum of the dice rolls is also a Random variable (a compound one).\n",
    "\n",
    "\n",
    "**Sample Space, S**\n",
    "This is the set of all possible outcomes for an event.\n",
    "\n",
    "**Type of Random Variable:**\n",
    "The sum of the two dice represents a single  `discrete random` variable as the dice roll can only lead to positive integers in the range 2-12. \n",
    "\n",
    "**Probability Distribution:**\n",
    "The probability distribution shows the likelihood for each possible value. In some ways, the question determines the distribution.\n",
    "\n",
    "*Notes:* I will use $nd6$ to represent the sum of n d6-sided dice (e.g. 1d6, 2d6).\n",
    "\n",
    "* **Rolling 1d6** - The distribution for a perfectly balanced, single dice roll is `uniform`. Each result is equally likely (i.e. $\\frac{1}{6}$ chance). For this assignment, we are not interested in just 1d6.\n",
    "* **Rolling 2d6** - while the distribution of a fair 1d6 is uniform, the distribution for the sum of two die rolls is `non-uniform` (since there are different chances assigned to getting each sum)."
   ]
  }
 ],
 "metadata": {
  "kernelspec": {
   "display_name": "Python 3",
   "language": "python",
   "name": "python3"
  },
  "language_info": {
   "codemirror_mode": {
    "name": "ipython",
    "version": 3
   },
   "file_extension": ".py",
   "mimetype": "text/x-python",
   "name": "python",
   "nbconvert_exporter": "python",
   "pygments_lexer": "ipython3",
   "version": "3.10.9"
  }
 },
 "nbformat": 4,
 "nbformat_minor": 2
}
