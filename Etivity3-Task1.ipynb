{
 "cells": [
  {
   "cell_type": "markdown",
   "metadata": {},
   "source": [
    "# Notebook E-tivity 3 CE4021 Task 1"
   ]
  },
  {
   "cell_type": "markdown",
   "metadata": {},
   "source": [
    "Student name:Philip Clarke"
   ]
  },
  {
   "cell_type": "markdown",
   "metadata": {},
   "source": [
    "Student ID:23291567"
   ]
  },
  {
   "cell_type": "markdown",
   "metadata": {},
   "source": [
    "<hr style=\\\"border:2px solid gray\\\"> </hr>"
   ]
  },
  {
   "cell_type": "markdown",
   "metadata": {},
   "source": [
    "## Imports"
   ]
  },
  {
   "cell_type": "code",
   "execution_count": 2,
   "metadata": {},
   "outputs": [],
   "source": [
    "import numpy as np\n",
    "import math\n",
    "import random\n",
    "import matplotlib.pyplot as plt"
   ]
  },
  {
   "cell_type": "markdown",
   "metadata": {},
   "source": [
    " If you believe required imports are missing, please contact your moderator."
   ]
  },
  {
   "cell_type": "markdown",
   "metadata": {},
   "source": [
    "<hr style=\\\"border:2px solid gray\\\"> </hr>"
   ]
  },
  {
   "cell_type": "markdown",
   "metadata": {},
   "source": [
    "## Task 1"
   ]
  },
  {
   "cell_type": "markdown",
   "metadata": {},
   "source": [
    "You may add as many cells as you require to complete the task."
   ]
  },
  {
   "cell_type": "code",
   "execution_count": 3,
   "metadata": {},
   "outputs": [
    {
     "name": "stdout",
     "output_type": "stream",
     "text": [
      "Normalized and Sorted Frequency Distribution of Sumrolls:\n",
      "2: 0.03\n",
      "3: 0.06\n",
      "4: 0.08\n",
      "5: 0.11\n",
      "6: 0.14\n",
      "7: 0.17\n",
      "8: 0.14\n",
      "9: 0.11\n",
      "10: 0.08\n",
      "11: 0.05\n",
      "12: 0.03\n"
     ]
    },
    {
     "data": {
      "image/png": "[encoded data removed]",
      "text/plain": [
       "<Figure size 640x480 with 1 Axes>"
      ]
     },
     "metadata": {},
     "output_type": "display_data"
    }
   ],
   "source": [
    "import random\n",
    "\n",
    "# Initialize an empty list to store the results\n",
    "My_dice_rolls1 = []\n",
    "\n",
    "# Simulate rolling a six-sided dice 20 times\n",
    "for _ in range(200000):\n",
    "    roll1 = random.randint(1, 6)\n",
    "    My_dice_rolls1.append(roll1)\n",
    "\n",
    "# Print the results\n",
    "#print(\"Results of rolling a six-sided dice 20 times:\")\n",
    "#print(My_dice_rolls1)\n",
    "\n",
    "# Initialize an empty list to store the results\n",
    "My_dice_rolls2 = []\n",
    "\n",
    "# Simulate rolling a six-sided dice 20 times\n",
    "for _ in range(200000):\n",
    "    roll2 = random.randint(1, 6)\n",
    "    My_dice_rolls2.append(roll2)\n",
    "\n",
    "# Print the results\n",
    "#print(\"Results of rolling a six-sided dice 20 times:\")\n",
    "#print(My_dice_rolls2)\n",
    "\n",
    "# Create a 2x20 array using nested lists\n",
    "array_2x20 = [My_dice_rolls1, My_dice_rolls2]\n",
    "\n",
    "# Print the array\n",
    "#for row in array_2x20:\n",
    "  #  print(row)\n",
    "    \n",
    "    # Create a third list that contains the sum of values from list1 and list2\n",
    "Sumrolls = [a + b for a, b in zip(My_dice_rolls1, My_dice_rolls2)]\n",
    "\n",
    "# Create a 3x20 array using nested lists\n",
    "array_3x20 = [My_dice_rolls1, My_dice_rolls2, Sumrolls]\n",
    "\n",
    "# Print the array\n",
    "#for row in array_3x20:\n",
    "#    print(row)\n",
    "    \n",
    "from collections import Counter\n",
    "import matplotlib.pyplot as plt\n",
    "\n",
    "\n",
    "# Calculate the frequency distribution\n",
    "frequency_distribution = Counter(Sumrolls)\n",
    "\n",
    "# Calculate the total number of items in the list\n",
    "total_items = len(Sumrolls)\n",
    "\n",
    "# Normalize the frequency distribution by dividing counts by the total\n",
    "normalized_distribution = {value: count / total_items for value, count in frequency_distribution.items()}\n",
    "\n",
    "# Sort the normalized distribution by value\n",
    "sorted_distribution = dict(sorted(normalized_distribution.items()))\n",
    "\n",
    "# Extract values and normalized counts\n",
    "values = list(sorted_distribution.keys())\n",
    "normalized_counts = list(sorted_distribution.values())\n",
    "\n",
    "# Display the sorted, normalized distribution\n",
    "print(\"Normalized and Sorted Frequency Distribution of Sumrolls:\")\n",
    "for value, normalized_count in sorted_distribution.items():\n",
    "    print(f\"{value}: {normalized_count:.2f}\")\n",
    "    \n",
    "    # Create a bar chart\n",
    "plt.bar(values, normalized_counts)\n",
    "plt.xlabel('Value')\n",
    "plt.ylabel('Normalized Frequency')\n",
    "plt.title('Frequency Distribution of Sumrolls')\n",
    "plt.show()"
   ]
  },
  {
   "cell_type": "markdown",
   "metadata": {},
   "source": [
    "<hr style=\\\"border:2px solid gray\\\"> </hr>"
   ]
  },
  {
   "cell_type": "markdown",
   "metadata": {},
   "source": [
    "## Reflection"
   ]
  },
  {
   "cell_type": "markdown",
   "metadata": {},
   "source": [
    "Write you reflection in below cell."
   ]
  },
  {
   "cell_type": "markdown",
   "metadata": {},
   "source": []
  }
 ],
 "metadata": {
  "kernelspec": {
   "display_name": "Python 3 (ipykernel)",
   "language": "python",
   "name": "python3"
  },
  "language_info": {
   "codemirror_mode": {
    "name": "ipython",
    "version": 3
   },
   "file_extension": ".py",
   "mimetype": "text/x-python",
   "name": "python",
   "nbconvert_exporter": "python",
   "pygments_lexer": "ipython3",
   "version": "3.10.9"
  }
 },
 "nbformat": 4,
 "nbformat_minor": 2
}
