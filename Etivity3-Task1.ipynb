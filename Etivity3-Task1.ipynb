{
 "cells": [
  {
   "cell_type": "markdown",
   "metadata": {},
   "source": [
    "# Notebook E-tivity 3 CE4021 Task 1"
   ]
  },
  {
   "attachments": {},
   "cell_type": "markdown",
   "metadata": {},
   "source": [
    "Student name: Ranganathan Deventhiran"
   ]
  },
  {
   "attachments": {},
   "cell_type": "markdown",
   "metadata": {},
   "source": [
    "Student ID: 23315695"
   ]
  },
  {
   "cell_type": "markdown",
   "metadata": {},
   "source": [
    "<hr style=\\\"border:2px solid gray\\\"> </hr>"
   ]
  },
  {
   "cell_type": "markdown",
   "metadata": {},
   "source": [
    "## Imports"
   ]
  },
  {
   "cell_type": "code",
   "execution_count": 225,
   "metadata": {},
   "outputs": [],
   "source": [
    "import numpy as np\n",
    "import math\n",
    "import random\n",
    "import matplotlib.pyplot as plt"
   ]
  },
  {
   "cell_type": "markdown",
   "metadata": {},
   "source": [
    " If you believe required imports are missing, please contact your moderator."
   ]
  },
  {
   "cell_type": "markdown",
   "metadata": {},
   "source": [
    "<hr style=\\\"border:2px solid gray\\\"> </hr>"
   ]
  },
  {
   "attachments": {},
   "cell_type": "markdown",
   "metadata": {},
   "source": [
    "## Task 1\n",
    "Rolling two 6-sided fair dice with the aim of determining the probability that the sum of the two dice is less than 3 or more than 10"
   ]
  },
  {
   "attachments": {},
   "cell_type": "markdown",
   "metadata": {},
   "source": [
    "<h3>Introduction</h3>\n",
    "    \n",
    "\n",
    "<h4> Discrete random variable</h4>\n",
    "In probability theory, \"discrete\" refers to a type of random variable or probability distribution that can only take on a countable set of distinct values. Discrete random variables have outcomes that are distinct and separate, with no intermediate values between them.\n",
    "\n",
    "The probability distribution of a discrete random variable is called a discrete probability distribution. It assigns a probability to each possible outcome of the random variable, specifying the likelihood of each outcome occurring.\n",
    "\n",
    "The probabilities in a discrete probability distribution satisfy two properties: they are non-negative (greater than or equal to zero) and sum up to 1. Each outcome has a corresponding probability associated with it, which represents the likelihood of that particular outcome \n",
    "occurring.\n",
    "\n",
    "<h4> Problem Description and Solution</h4>\n",
    "calculate the mean and standard deviation of the sum of two dice rolls over 1000 experiments, we first need to determine the probability distribution for the sum of two dice rolls.\n",
    "\n",
    "In a single dice roll, the possible outcomes range from 1 to 6, each with a probability of 1/6. When we roll two dice, the sum can range from 2 to 12. To calculate the probability distribution for the sum of two dices, There are 36 possibilities and below table list the sum and it s possible probability \n",
    "\n",
    "\n",
    "| Sum  | Probability   |\n",
    "|------|---------------|\n",
    "|   2  | 1/36          |\n",
    "|   3  | 2/36          |\n",
    "|   4  | 3/36          |\n",
    "|   5  | 4/36          |\n",
    "|   6  | 5/36          |\n",
    "|   7  | 6/36          |\n",
    "|   8  | 5/36          |\n",
    "|   9  | 4/36          |\n",
    "|   10 | 3/36          |\n",
    "|   11 | 2/36          |\n",
    "|   12 | 1/36          |\n",
    "\n",
    "Now that we have the probability distribution, we can calculate the mean and standard deviation.\n",
    "\n",
    "<h3> Mean (μ): </h3>\n",
    "The mean is calculated by summing the products of each outcome and its corresponding probability.\n",
    "\n",
    "μ = (2 * 1/36) + (3 * 2/36) + (4 * 3/36) + (5 * 4/36) + (6 * 5/36) + (7 * 6/36) + (8 * 5/36) + (9 * 4/36) + (10 * 3/36) + (11 * 2/36) + (12 * 1/36)\n",
    "\n",
    "μ= 6.999999999999999\n",
    "\n",
    "\n",
    "<h3>Standard Deviation (σ):</h3>\n",
    "The standard deviation is a measure of the dispersion of the probability distribution. It is calculated by taking the square root of the sum of the squared differences between each outcome and the mean, weighted by their probabilities.\n",
    "\n",
    "here μ= 7 (rouded up from above calculation)\n",
    "\n",
    "σ = sqrt( [ (2 - μ)^2 * 1/36 ] + [ (3 - μ)^2 * 2/36 ] + [ (4 - μ)^2 * 3/36 ] + [ (5 - μ)^2 * 4/36 ] + [ (6 - μ)^2 * 5/36 ] + [ (7 - μ)^2 * 6/36 ] + [ (8 - μ)^2 * 5/36 ] + [ (9 - μ)^2 * 4/36 ] + [ (10 - μ)^2 * 3/36 ] + [ (11 - μ)^2 * 2/36 ] + [ (12 - μ)^2 * 1/36 ] )\n",
    "\n",
    "σ = sqrt( [ (2 - 7)^2 * 1/36 ] + [ (3 - 7)^2 * 2/36 ] + [ (4 - 7)^2 * 3/36 ] + [ (5 - 7)^2 * 4/36 ] + [ (6 - 7)^2 * 5/36 ] + [ (7 - 7)^2 * 6/36 ] + [ (8 - 7)^2 * 5/36 ] + [ (9 - 7)^2 * 4/36 ] + [ (10 - 7)^2 * 3/36 ] + [ (11 - 7)^2 * 2/36 ] + [ (12 - 7)^2 * 1/36 ] )\n",
    "\n",
    "σ = sqrt( [ (-5)^2 * 1/36 ] + [ (-4)^2 * 2/36 ] + [ (-3)^2 * 3/36 ] + [ (-2)^2 * 4/36 ] + [ (-1)^2 * 5/36 ] + [ (0)^2 * 6/36 ] + [ (1)^2 * 5/36 ] + [ (2)^2 * 4/36 ] + [ (3)^2 * 3/36 ] + [ (4)^2 * 2/36 ] + [ (5)^2 * 1/36 ] )\n",
    "\n",
    "σ = sqrt(5.833333333333334)\n",
    "\n",
    "σ = 2.41522945769824\n",
    "\n",
    "\n",
    "\n",
    "<h4>lets caculate the mean and SD with larger experiments using python and plot them in the graph.<h4>\n"
   ]
  },
  {
   "cell_type": "markdown",
   "metadata": {},
   "source": [
    "<hr style=\\\"border:2px solid gray\\\"> </hr>"
   ]
  },
  {
   "cell_type": "code",
   "execution_count": 226,
   "metadata": {},
   "outputs": [],
   "source": [
    "class Probabiltiy_Exp:\n",
    "\n",
    "    def __init__(self,no_of_exp):\n",
    "\n",
    "        \"\"\"\n",
    "            Range between 1 and 7(excluding 7) ,no_of_exp is total number of expereiemnts\n",
    "            and number of dice\n",
    "            produces the samples like [[6 5] [6 2] [1 1] ... [3 3] [6 3] [6 2]]\n",
    "            here [6 5] - first index 6 is outcome of dice1 , last index 5 is outcome of dice 2\n",
    "            \n",
    "        \"\"\"\n",
    "        self.sum_of_dices={}\n",
    "        self.prob_dist={}\n",
    "        self.dice_rolls = np.random.randint(1,7,(no_of_exp,2)) # Range between 1 and 6 ,no_of_exp is total number of expereiemnts\n",
    "        for i in range(2,13):\n",
    "            self.sum_of_dices[i] = np.sum(self.dice_rolls[:,0]+ self.dice_rolls[:,1] == i)\n",
    "            self.prob_dist[i] = self.sum_of_dices[i]/no_of_exp\n",
    "        \n",
    "    def mean(self):  \n",
    "        \"\"\" \n",
    "        Mean (μ):\n",
    "        The mean is calculated by summing the products of each outcome and its corresponding probability\n",
    "        \"\"\"\n",
    "        return sum( sum_of_dices * prob  for sum_of_dices, prob in self.prob_dist.items())\n",
    "\n",
    "    def std_dev(self,mean):\n",
    "        \"\"\"\n",
    "        Standard Deviation (σ):\n",
    "        The standard deviation is a measure of the dispersion of the probability distribution. \n",
    "        It is calculated by taking the square root of the sum of\n",
    "        the squared differences between each outcome and the mean, weighted by their probabilities\n",
    "        \"\"\" \n",
    "\n",
    "        varience = sum( prob *(sum_of_dice - mean) ** 2  for sum_of_dice, prob in self.prob_dist.items())\n",
    "        return math.sqrt(varience)\n",
    "    \n",
    "    def mean_and_std_dev_using_numpy(self):\n",
    "        \"\"\" \n",
    "           Calculate mean and standard deviation using numpy\n",
    "        \"\"\"\n",
    "        sum_of_rolls = np.sum(self.dice_rolls, axis=1)\n",
    "        print('Mean and standard deviation using numpy')\n",
    "        mean_np = np.mean(sum_of_rolls)\n",
    "        print('Mean value :',mean_np)\n",
    "        std_dev_np = np.std(sum_of_rolls)\n",
    "        print('Standard Deviation :',std_dev_np)\n",
    "    \n",
    "    def plot_dist(self): \n",
    "        \"\"\"\n",
    "        plot the sum of dices in X axis and\n",
    "        probability in Y axis\n",
    "        \"\"\"\n",
    "        # Create the plot\n",
    "        plt.bar(self.prob_dist.keys(), self.prob_dist.values(), align='center')\n",
    "        plt.xlabel('Sum of Two Dice')\n",
    "        plt.ylabel('Probability ')\n",
    "        plt.title('Discrete probability Distribution')\n",
    "        plt.xticks(range(2,13))     \n",
    "        plt.show()\n",
    "\n",
    "    \n",
    "    def sum_less_than_3_or_more_than_10_probability(self):\n",
    "\n",
    "        \"\"\"\n",
    "        Rolling two 6-sided fair dice with the aim of determining the probability \n",
    "        that the sum of the two dice is less than 3 or more than 10\n",
    "        All possibles cases are(p(X=k))=> P(X=2),P(X=11) and P(X=12) \n",
    "        so adding all those prob will give us result\n",
    "        \"\"\"\n",
    "        probability = self.prob_dist[2] + self.prob_dist[11] + self.prob_dist[12]\n",
    "       \n",
    "        return probability\n",
    "\n"
   ]
  },
  {
   "cell_type": "code",
   "execution_count": 227,
   "metadata": {},
   "outputs": [
    {
     "name": "stdout",
     "output_type": "stream",
     "text": [
      "Mean and standard deviation using Custom functions\n",
      "Mean value : 7.0016\n",
      "Standard Deviation : 2.4047447764783687 \n",
      "\n",
      "Mean and standard deviation using numpy\n",
      "Mean value : 7.0016\n",
      "Standard Deviation : 2.4047447764783687\n",
      "\n",
      "sum_less_than_3_or_more_than_10_probability :  0.10940000000000001\n"
     ]
    },
    {
     "data": {
      "image/png": "[encoded data removed]",
      "text/plain": [
       "<Figure size 640x480 with 1 Axes>"
      ]
     },
     "metadata": {},
     "output_type": "display_data"
    }
   ],
   "source": [
    "prob_exp=Probabiltiy_Exp(10000)\n",
    "mean =prob_exp.mean()\n",
    "\n",
    "# Calculate mean and standard deviation using custom function\n",
    "print('Mean and standard deviation using Custom functions')\n",
    "print('Mean value :',mean)\n",
    "std_dev =prob_exp.std_dev(mean)\n",
    "print('Standard Deviation :',std_dev,'\\n')\n",
    "\n",
    "# Calculate mean and standard deviation using numpy\n",
    "prob_exp.mean_and_std_dev_using_numpy()\n",
    "\n",
    "# Calculate probability of sum of dice is less than 3 or more than 10\n",
    "print(\"\\nsum_less_than_3_or_more_than_10_probability : \",prob_exp.sum_less_than_3_or_more_than_10_probability())\n",
    "\n",
    "prob_exp.plot_dist()"
   ]
  },
  {
   "cell_type": "markdown",
   "metadata": {},
   "source": [
    "## Reflection"
   ]
  },
  {
   "cell_type": "markdown",
   "metadata": {},
   "source": [
    "Write you reflection in below cell."
   ]
  },
  {
   "attachments": {},
   "cell_type": "markdown",
   "metadata": {},
   "source": [
    "TBU\n"
   ]
  }
 ],
 "metadata": {
  "kernelspec": {
   "display_name": "Python 3",
   "language": "python",
   "name": "python3"
  },
  "language_info": {
   "codemirror_mode": {
    "name": "ipython",
    "version": 3
   },
   "file_extension": ".py",
   "mimetype": "text/x-python",
   "name": "python",
   "nbconvert_exporter": "python",
   "pygments_lexer": "ipython3",
   "version": "3.9.12"
  },
  "vscode": {
   "interpreter": {
    "hash": "11938c6bc6919ae2720b4d5011047913343b08a43b18698fd82dedb0d4417594"
   }
  }
 },
 "nbformat": 4,
 "nbformat_minor": 2
}
