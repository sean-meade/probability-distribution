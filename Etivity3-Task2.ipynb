{
 "cells": [
  {
   "cell_type": "markdown",
   "metadata": {},
   "source": [
    "# Notebook E-tivity 3 CE4021 Task 2"
   ]
  },
  {
   "cell_type": "markdown",
   "metadata": {},
   "source": [
    "Student name: Mitchell de Bruyn"
   ]
  },
  {
   "cell_type": "markdown",
   "metadata": {},
   "source": [
    "Student ID: 23296828"
   ]
  },
  {
   "cell_type": "markdown",
   "metadata": {},
   "source": [
    "<hr style=\\\"border:2px solid gray\\\"> </hr>"
   ]
  },
  {
   "cell_type": "markdown",
   "metadata": {},
   "source": [
    "## Imports"
   ]
  },
  {
   "cell_type": "code",
   "execution_count": 1,
   "metadata": {},
   "outputs": [],
   "source": [
    "#None"
   ]
  },
  {
   "cell_type": "markdown",
   "metadata": {},
   "source": [
    "If you believe required imports are missing, please contact your moderator."
   ]
  },
  {
   "cell_type": "markdown",
   "metadata": {},
   "source": [
    "<hr style=\\\"border:2px solid gray\\\"> </hr>"
   ]
  },
  {
   "cell_type": "markdown",
   "metadata": {},
   "source": [
    "## Task 2"
   ]
  },
  {
   "cell_type": "markdown",
   "metadata": {},
   "source": [
    "Use the below information to create a Naive Bayes SPAM filter. Test your filter using the messages in new_emails. You may add as many cells as you require to complete the task."
   ]
  },
  {
   "cell_type": "code",
   "execution_count": 2,
   "metadata": {},
   "outputs": [],
   "source": [
    "previous_spam = ['send us your password', 'review our website', 'send your password', 'send us your account']\n",
    "previous_ham = ['Your activity report','benefits physical activity', 'the importance vows']\n",
    "new_emails = {'spam':['renew your password', 'renew your vows'], 'ham':['benefits of our account', 'the importance of physical activity']}"
   ]
  },
  {
   "cell_type": "markdown",
   "metadata": {},
   "source": [
    "# Bayes' Theorem\n",
    "\n",
    "\n",
    "$$\n",
    "P(S|W) = \\frac{P(W|S) \\times P(S)} {P(W)}\n",
    "$$\n",
    "\n",
    "Where:\n",
    "\n",
    "- P(S) - **<u>prior</u>** the probability that an email is spam\n",
    "- P(W) - the probability that an email contains the word. Total probability: $ P(W) = P(W|S)P(S) + P(W|H)P(H) $\n",
    "- P(W|S) - **<u>likelihood</u>** - the probability of an email containing a specific the word given that an email is spam\n",
    "- P(S|W) - **<u>posterior</u>** - (the answer) the probability an email is spam given that it contains a specific word.\n",
    "\n",
    "\n",
    "# Naive Bayes' formula\n",
    "\n",
    "This formula uses the naive assumption that the probabilities of the occurrences of specific words are independent, allowing us to multiply the probabilities of each word being present.\n",
    "\n",
    "$$\n",
    "P(S | w_1, \\ldots, w_n) = \\frac{P(S) \\prod_{i=1}^{n} P(w_i | S)}{P(S) \\prod_{i=1}^{n} P(w_i | S) + P(H) \\prod_{i=1}^{n} P(w_i | H)}\n",
    "$$\n",
    "\n",
    "\n",
    "# Laplace smoothing\n",
    "\n",
    "To prevent 0 probabilities from destroying our result when multiplying all the different probabilities, we need to think about using Laplace smoothing.\n",
    "\n",
    "$$\n",
    "P(w | S) = \\frac{| \\text{spam emails containing } w|+1}{|\\text{spam emails}|+2}\n",
    "$$\n",
    "\n",
    "# Final approximations\n",
    "\n",
    "We want to find the probability where:\n",
    "\n",
    "$$\n",
    "P(S | x_1, \\ldots , x_n) > 0.5\n",
    "$$\n",
    "\n",
    "But using the naive assumption of independence between the features, this can be simplified to:\n",
    "\n",
    "$$\n",
    "P(S) \\prod_{i=1}^{n} P(x_i | S) > P(H) \\prod_{i=1}^{n} P(x_i | H)\n",
    "$$\n",
    "\n",
    "To prevent numerical underflow when dealing with small probabilities, we use the logarithm trick, giving:\n",
    "\n",
    "$$\n",
    "\\log(P(S)) + \\sum_{i=1}^{n} \\log(P(x_i | S)) > \\log(P(H)) + \\sum_{i=1}^{n} \\log(P(x_i | H))\n",
    "$$\n",
    "\n"
   ]
  },
  {
   "cell_type": "markdown",
   "metadata": {},
   "source": [
    "# Naive Bayes Spam Classification Algorithm\n",
    "\n",
    "## 1. Feature Gathering:\n",
    "- Gather all distinct words from the training data to create a training word set. This set should include words from both spam (`S`) and ham (`H`) emails.\n",
    "\n",
    "## 2. Calculate Probability of Word Given Spam (`P(w|S)`):\n",
    "- For each word in the set, calculate its probability of being in a spam email:\n",
    "    - Count the number of spam emails containing that word.\n",
    "    - Use Laplace smoothing to calculate the probability of the word being in a spam email:\n",
    "    $$ P(\\text{word given spam}) = \\frac{\\text{Number of spam emails containing the word} + 1}{\\text{Total number of spam emails} + 2} $$\n",
    "- Save the results in a dictionary, `p_word_given_spam`.\n",
    "\n",
    "## 3. Calculate Probability of Word Given Ham (`P(w|H)`):\n",
    "- Use the method above to calculate and save the results in a dictionary, `p_word_given_ham`.\n",
    "\n",
    "## 4. Calculate Prior Probabilities:\n",
    "- Calculate the overall probability of an email being spam based on the training data:\n",
    "  $$ P(S) = \\frac{\\text{Number of emails in the spam set}}{\\text{Total number of emails in the training set}} $$\n",
    "  \n",
    "## 5. Classify Emails in the Test Set:\n",
    "For each email in the unlabelled test set:\n",
    "\n",
    "  i. Create a set of distinct words from the email, ignoring words not present in the training word set.\n",
    "\n",
    "  ii. Compute the spam and ham scores using:\n",
    "  $$ P(S | w_1, \\ldots, w_n) = \\frac{P(S) \\prod_{i=1}^{n} P(w_i | S)}{P(S) \\prod_{i=1}^{n} P(w_i | S) + P(H) \\prod_{i=1}^{n} P(w_i | H)} $$\n",
    "\n",
    "  iii. If the spam score is greater than the ham score, print spam else print ham.\n"
   ]
  },
  {
   "cell_type": "code",
   "execution_count": 3,
   "metadata": {},
   "outputs": [
    {
     "name": "stdout",
     "output_type": "stream",
     "text": [
      "=============================================================\n",
      "Email: 'renew your password'\n",
      "-------------------------------------------------------------\n",
      "label: spam\tprediction: spam\n",
      "=============================================================\n",
      "Email: 'renew your vows'\n",
      "-------------------------------------------------------------\n",
      "label: spam\tprediction: spam\n",
      "=============================================================\n",
      "Email: 'benefits of our account'\n",
      "-------------------------------------------------------------\n",
      "label: ham\tprediction: spam\n",
      "=============================================================\n",
      "Email: 'the importance of physical activity'\n",
      "-------------------------------------------------------------\n",
      "label: ham\tprediction: ham\n"
     ]
    }
   ],
   "source": [
    "# Training data\n",
    "previous_spam = ['send us your password', 'review our website', 'send your password', 'send us your account']\n",
    "previous_ham = ['Your activity report','benefits physical activity', 'the importance vows']\n",
    "\n",
    "# Tokenize emails and create training word set\n",
    "training_words = set()\n",
    "for email in previous_spam + previous_ham:\n",
    "    training_words.update(email.split())\n",
    "\n",
    "# 2. Calculate P(w|S) and P(w|H)\n",
    "p_word_given_spam = {}\n",
    "p_word_given_ham = {}\n",
    "\n",
    "for word in training_words:\n",
    "    p_word_given_spam[word] = (sum(word in email.split() for email in previous_spam) + 1) / (len(previous_spam) + 2)\n",
    "    p_word_given_ham[word] = (sum(word in email.split() for email in previous_ham) + 1) / (len(previous_ham) + 2)\n",
    "\n",
    "# 4. Calculate P(S) and P(H)\n",
    "p_s = len(previous_spam) / (len(previous_spam) + len(previous_ham))\n",
    "p_h = 1 - p_s\n",
    "\n",
    "# 5. Classify new emails\n",
    "new_emails = {'spam':['renew your password', 'renew your vows'], \n",
    "              'ham':['benefits of our account', 'the importance of physical activity']}\n",
    "\n",
    "def prod(numbers):\n",
    "    \"\"\"\n",
    "    I wanted to use math.prod(), but had to write my own...\n",
    "    Calculates the product of a list of numbers.\n",
    "\n",
    "    Args:\n",
    "        numbers: A list of numbers.\n",
    "\n",
    "    Returns:\n",
    "        The product of the numbers.\n",
    "    \"\"\"\n",
    "    result = 1\n",
    "    for num in numbers:\n",
    "        result *= num\n",
    "    return result\n",
    "\n",
    "\n",
    "for label, emails in new_emails.items():\n",
    "    for email in emails:\n",
    "        # list of words in email found in trainting set\n",
    "        words = [word for word in email.split() if word in training_words]\n",
    "        \n",
    "        # Calculate P(S | w_1, ..., w_n) using the given formula\n",
    "        numerator_spam = p_s * prod(p_word_given_spam[word] for word in words)\n",
    "        denominator = numerator_spam + p_h * prod(p_word_given_ham[word] for word in words)\n",
    "        \n",
    "        p_spam_given_email = numerator_spam / denominator\n",
    "\n",
    "        print(\"=============================================================\")\n",
    "        print(f\"Email: '{email}'\")\n",
    "        print('-------------------------------------------------------------')\n",
    "        print(\"label:\", label, end='')\n",
    "        print(\"\\tprediction:\", \"spam\" if p_spam_given_email > 0.5 else \"ham\")\n",
    "        "
   ]
  },
  {
   "cell_type": "markdown",
   "metadata": {},
   "source": [
    "<hr style=\\\"border:2px solid gray\\\"> </hr>"
   ]
  },
  {
   "cell_type": "markdown",
   "metadata": {},
   "source": [
    "## Reflection"
   ]
  },
  {
   "cell_type": "markdown",
   "metadata": {},
   "source": [
    "Write you reflection in below cell."
   ]
  },
  {
   "cell_type": "markdown",
   "metadata": {},
   "source": []
  }
 ],
 "metadata": {
  "kernelspec": {
   "display_name": "Python 3 (ipykernel)",
   "language": "python",
   "name": "python3"
  },
  "language_info": {
   "codemirror_mode": {
    "name": "ipython",
    "version": 3
   },
   "file_extension": ".py",
   "mimetype": "text/x-python",
   "name": "python",
   "nbconvert_exporter": "python",
   "pygments_lexer": "ipython3",
   "version": "3.11.2"
  }
 },
 "nbformat": 4,
 "nbformat_minor": 4
}
