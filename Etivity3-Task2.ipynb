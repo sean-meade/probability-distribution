{
 "cells": [
  {
   "cell_type": "markdown",
   "metadata": {},
   "source": [
    "# Notebook E-tivity 3 CE4021 Task 2"
   ]
  },
  {
   "cell_type": "markdown",
   "metadata": {},
   "source": [
    "Student name: Sean Meade"
   ]
  },
  {
   "cell_type": "markdown",
   "metadata": {},
   "source": [
    "Student ID: 10128921"
   ]
  },
  {
   "cell_type": "markdown",
   "metadata": {},
   "source": [
    "<hr style=\\\"border:2px solid gray\\\"> </hr>"
   ]
  },
  {
   "cell_type": "markdown",
   "metadata": {},
   "source": [
    "## Imports"
   ]
  },
  {
   "cell_type": "code",
   "execution_count": 2,
   "metadata": {},
   "outputs": [],
   "source": [
    "#None"
   ]
  },
  {
   "cell_type": "markdown",
   "metadata": {},
   "source": [
    "If you believe required imports are missing, please contact your moderator."
   ]
  },
  {
   "cell_type": "markdown",
   "metadata": {},
   "source": [
    "<hr style=\\\"border:2px solid gray\\\"> </hr>"
   ]
  },
  {
   "cell_type": "markdown",
   "metadata": {},
   "source": [
    "## Task 2"
   ]
  },
  {
   "cell_type": "markdown",
   "metadata": {},
   "source": [
    "Use the below information to create a Naive Bayes SPAM filter. Test your filter using the messages in new_emails. You may add as many cells as you require to complete the task."
   ]
  },
  {
   "cell_type": "code",
   "execution_count": 3,
   "metadata": {},
   "outputs": [],
   "source": [
    "previous_spam = ['send us your password', 'review our website', 'send your password', 'send us your account']\n",
    "previous_ham = ['Your activity report','benefits physical activity', 'the importance vows']\n",
    "new_emails = {'spam':['renew your password', 'renew your vows'], 'ham':['benefits of our account', 'the importance of physical activity']}"
   ]
  },
  {
   "cell_type": "code",
   "execution_count": 4,
   "metadata": {},
   "outputs": [],
   "source": [
    "# Iterate over the labelled spam emails\n",
    "\n",
    "def set_of_words_from_emails(emails):\n",
    "    email_words = []\n",
    "\n",
    "    for email in emails:\n",
    "        words = email.split()\n",
    "        for word in words:\n",
    "            email_words.append(word)\n",
    "\n",
    "    return set(email_words)\n"
   ]
  },
  {
   "cell_type": "code",
   "execution_count": 5,
   "metadata": {},
   "outputs": [],
   "source": [
    "# for each word w in the entire training set, count how many of the spam emails contain w\n",
    "def dict_count_words_in_emails(words, emails):\n",
    "\n",
    "    # words is set of words\n",
    "    # emails is a list of emails as strings\n",
    "\n",
    "    words_count = {}\n",
    "    for word in words:\n",
    "        words_count[word] = 0\n",
    "        for email in emails:\n",
    "            if word in email:\n",
    "                words_count[word] += 1\n",
    "    \n",
    "    return words_count"
   ]
  },
  {
   "cell_type": "code",
   "execution_count": 6,
   "metadata": {},
   "outputs": [],
   "source": [
    "def prob_of_word_in_emails(word_count, emails):\n",
    "\n",
    "    word_prob = {}\n",
    "    email_count = len(emails)\n",
    "    for word, count in word_count.items():\n",
    "        word_prob[word] = (count + 1)/(email_count + 2)\n",
    "    \n",
    "    return word_prob"
   ]
  },
  {
   "cell_type": "code",
   "execution_count": 7,
   "metadata": {},
   "outputs": [],
   "source": [
    "def prob_of_words_for(emails):\n",
    "    words = set_of_words_from_emails(emails)\n",
    "    word_count = dict_count_words_in_emails(words, emails)\n",
    "    word_probs = prob_of_word_in_emails(word_count, emails)\n",
    "\n",
    "    return word_probs"
   ]
  },
  {
   "cell_type": "code",
   "execution_count": 8,
   "metadata": {},
   "outputs": [],
   "source": [
    "P_w_S = prob_of_words_for(previous_spam)"
   ]
  },
  {
   "cell_type": "code",
   "execution_count": 9,
   "metadata": {},
   "outputs": [],
   "source": [
    "P_w_H = prob_of_words_for(previous_ham)"
   ]
  },
  {
   "cell_type": "code",
   "execution_count": 10,
   "metadata": {},
   "outputs": [],
   "source": [
    "def probability_of_spam_and_ham(spam_emails, ham_emails):\n",
    "    probs = {}\n",
    "\n",
    "    total_email_count = len(spam_emails) + len(ham_emails)\n",
    "\n",
    "    probs[\"prob_email_spam\"] = len(spam_emails)/total_email_count\n",
    "    probs[\"prob_email_ham\"] = len(ham_emails)/total_email_count\n",
    "\n",
    "    return probs\n",
    "\n",
    "prob_of_spam_and_ham = probability_of_spam_and_ham(previous_spam, previous_ham)\n",
    "prob_of_spam_and_ham\n",
    "P_S = prob_of_spam_and_ham[\"prob_email_spam\"]\n",
    "P_H = prob_of_spam_and_ham[\"prob_email_ham\"]"
   ]
  },
  {
   "cell_type": "code",
   "execution_count": 11,
   "metadata": {},
   "outputs": [],
   "source": [
    "def list_of_words_from_emails(emails):\n",
    "    email_words = []\n",
    "\n",
    "    for email in emails:\n",
    "        words = email.split()\n",
    "        for word in words:\n",
    "            email_words.append(word)\n",
    "\n",
    "    return email_words"
   ]
  },
  {
   "cell_type": "code",
   "execution_count": 12,
   "metadata": {},
   "outputs": [],
   "source": [
    "def remove_untrained_words(test_emails, type):\n",
    "    trained_words = list_of_words_from_emails(previous_spam) + list_of_words_from_emails(previous_ham)\n",
    "    set_of_email_words = set_of_words_from_emails([test_emails[type][0]])\n",
    "\n",
    "    cross_over_words = []\n",
    "\n",
    "    for word in set_of_email_words:\n",
    "        if word in trained_words:\n",
    "            cross_over_words.append(word)\n",
    "\n",
    "    return cross_over_words\n",
    "\n",
    "test_email_words = remove_untrained_words(new_emails, \"spam\")"
   ]
  },
  {
   "cell_type": "code",
   "execution_count": 13,
   "metadata": {},
   "outputs": [
    {
     "data": {
      "text/plain": [
       "1.0"
      ]
     },
     "execution_count": 13,
     "metadata": {},
     "output_type": "execute_result"
    }
   ],
   "source": [
    "h_words = set_of_words_from_emails(previous_ham)\n",
    "h_word_count = dict_count_words_in_emails(h_words, previous_ham)\n",
    "h_word_probs = prob_of_word_in_emails(h_word_count, previous_ham)\n",
    "s_words = set_of_words_from_emails(previous_spam)\n",
    "s_word_count = dict_count_words_in_emails(s_words, previous_spam)\n",
    "s_word_probs = prob_of_word_in_emails(s_word_count, previous_spam)\n",
    "P_w_H = prob_of_words_for(previous_ham)\n",
    "P_w_S = prob_of_words_for(previous_spam)\n",
    "\n",
    "P_S + P_H"
   ]
  },
  {
   "cell_type": "markdown",
   "metadata": {},
   "source": [
    "<hr style=\\\"border:2px solid gray\\\"> </hr>"
   ]
  },
  {
   "cell_type": "markdown",
   "metadata": {},
   "source": [
    "## Reflection"
   ]
  },
  {
   "cell_type": "markdown",
   "metadata": {},
   "source": [
    "Declaring the range you are choosing to experiment in the problem description like in Jason Colemans\n",
    "Also from Jason that the expected value is actually different to the mean"
   ]
  },
  {
   "cell_type": "markdown",
   "metadata": {},
   "source": []
  }
 ],
 "metadata": {
  "kernelspec": {
   "display_name": "Python 3",
   "language": "python",
   "name": "python3"
  },
  "language_info": {
   "codemirror_mode": {
    "name": "ipython",
    "version": 3
   },
   "file_extension": ".py",
   "mimetype": "text/x-python",
   "name": "python",
   "nbconvert_exporter": "python",
   "pygments_lexer": "ipython3",
   "version": "3.11.4"
  }
 },
 "nbformat": 4,
 "nbformat_minor": 2
}
