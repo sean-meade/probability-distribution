{
 "cells": [
  {
   "cell_type": "markdown",
   "metadata": {},
   "source": [
    "# Notebook E-tivity 3 CE4021 Task 2"
   ]
  },
  {
   "cell_type": "markdown",
   "metadata": {},
   "source": [
    "Student name: Julieta Rubis"
   ]
  },
  {
   "cell_type": "markdown",
   "metadata": {},
   "source": [
    "Student ID: 23233729"
   ]
  },
  {
   "cell_type": "markdown",
   "metadata": {},
   "source": [
    "<hr style=\\\"border:2px solid gray\\\"> </hr>"
   ]
  },
  {
   "cell_type": "markdown",
   "metadata": {},
   "source": [
    "## Imports"
   ]
  },
  {
   "cell_type": "code",
   "execution_count": null,
   "metadata": {},
   "outputs": [],
   "source": [
    "#None"
   ]
  },
  {
   "cell_type": "markdown",
   "metadata": {},
   "source": [
    "If you believe required imports are missing, please contact your moderator."
   ]
  },
  {
   "cell_type": "markdown",
   "metadata": {},
   "source": [
    "<hr style=\\\"border:2px solid gray\\\"> </hr>"
   ]
  },
  {
   "cell_type": "markdown",
   "metadata": {},
   "source": [
    "## Task 2"
   ]
  },
  {
   "cell_type": "markdown",
   "metadata": {},
   "source": [
    "Use the below information to create a Naive Bayes SPAM filter. Test your filter using the messages in new_emails. You may add as many cells as you require to complete the task."
   ]
  },
  {
   "cell_type": "code",
   "execution_count": 7,
   "metadata": {},
   "outputs": [],
   "source": [
    "previous_spam = ['send us your password', 'review our website', 'send your password', 'send us your account']\n",
    "previous_ham = ['Your activity report','benefits physical activity', 'the importance vows']\n",
    "new_emails = {'spam':['renew your password', 'renew your vows'], 'ham':['benefits of our account', 'the importance of physical activity']}"
   ]
  },
  {
   "cell_type": "code",
   "execution_count": 8,
   "metadata": {},
   "outputs": [
    {
     "name": "stdout",
     "output_type": "stream",
     "text": [
      "Email: 'renew your password' is classified as 'spam'\n",
      "Email: 'renew your vows' is classified as 'ham'\n",
      "Email: 'benefits of our account' is classified as 'ham'\n",
      "Email: 'the importance of physical activity' is classified as 'ham'\n"
     ]
    }
   ],
   "source": [
    "def tokenize(email):\n",
    "    # Tokenize an email into words\n",
    "    return email.split()\n",
    "\n",
    "def build_vocabulary(ham_emails, spam_emails):\n",
    "    # Build a vocabulary of unique words from ham and spam emails\n",
    "    vocabulary = set()\n",
    "    for email in ham_emails:\n",
    "        vocabulary.update(tokenize(email))\n",
    "    for email in spam_emails:\n",
    "        vocabulary.update(tokenize(email))\n",
    "    return vocabulary\n",
    "\n",
    "def calculate_prior_probabilities(ham_emails, spam_emails):\n",
    "    # Calculate prior probabilities P(ham) and P(spam)\n",
    "    total_emails = len(ham_emails) + len(spam_emails)\n",
    "    prior_ham = len(ham_emails) / total_emails\n",
    "    prior_spam = len(spam_emails) / total_emails\n",
    "    return prior_ham, prior_spam\n",
    "\n",
    "def calculate_conditional_probabilities(ham_emails, spam_emails, vocabulary):\n",
    "    # Calculate conditional probabilities P(word|ham) and P(word|spam)\n",
    "    word_counts_ham = {word: 0 for word in vocabulary}\n",
    "    word_counts_spam = {word: 0 for word in vocabulary}\n",
    "    \n",
    "    total_words_ham = 0\n",
    "    total_words_spam = 0\n",
    "    \n",
    "    for email in ham_emails:\n",
    "        words = tokenize(email)\n",
    "        total_words_ham += len(words)\n",
    "        for word in words:\n",
    "            word_counts_ham[word] += 1\n",
    "    \n",
    "    for email in spam_emails:\n",
    "        words = tokenize(email)\n",
    "        total_words_spam += len(words)\n",
    "        for word in words:\n",
    "            word_counts_spam[word] += 1\n",
    "    \n",
    "    # Calculate conditional probabilities\n",
    "    conditional_probabilities_ham = {word: count / total_words_ham for word, count in word_counts_ham.items()}\n",
    "    conditional_probabilities_spam = {word: count / total_words_spam for word, count in word_counts_spam.items()}\n",
    "    \n",
    "    return conditional_probabilities_ham, conditional_probabilities_spam\n",
    "\n",
    "def classify_email(email, prior_ham, prior_spam, conditional_probabilities_ham, conditional_probabilities_spam):\n",
    "    # Classify an email as ham or spam using Bayes' Rule\n",
    "    words = tokenize(email)\n",
    "    \n",
    "    # Initialize probabilities\n",
    "    prob_ham = prior_ham\n",
    "    prob_spam = prior_spam\n",
    "    \n",
    "    # Calculate conditional probabilities for each word and update the probabilities\n",
    "    for word in words:\n",
    "        if word in conditional_probabilities_ham:\n",
    "            prob_ham *= conditional_probabilities_ham[word]\n",
    "        if word in conditional_probabilities_spam:\n",
    "            prob_spam *= conditional_probabilities_spam[word]\n",
    "    \n",
    "    # Compare probabilities and classify\n",
    "    if prob_spam > prob_ham:\n",
    "        return 'spam'\n",
    "    else:\n",
    "        return 'ham'\n",
    "\n",
    "# Build the model\n",
    "vocabulary = build_vocabulary(previous_ham, previous_spam)\n",
    "prior_ham, prior_spam = calculate_prior_probabilities(previous_ham, previous_spam)\n",
    "conditional_probabilities_ham, conditional_probabilities_spam = calculate_conditional_probabilities(previous_ham, previous_spam, vocabulary)\n",
    "\n",
    "# Classify new emails\n",
    "for label, emails in new_emails.items():\n",
    "    for email in emails:\n",
    "        classification = classify_email(email, prior_ham, prior_spam, conditional_probabilities_ham, conditional_probabilities_spam)\n",
    "        print(f\"Email: '{email}' is classified as '{classification}'\")\n"
   ]
  },
  {
   "cell_type": "markdown",
   "metadata": {},
   "source": [
    "<hr style=\\\"border:2px solid gray\\\"> </hr>"
   ]
  },
  {
   "cell_type": "markdown",
   "metadata": {},
   "source": [
    "## Reflection"
   ]
  },
  {
   "cell_type": "markdown",
   "metadata": {},
   "source": [
    "## High-Level Description of the Solution:\n",
    "The Naive Bayes Classifier for spam email detection is based on Bayes' Rule, which helps us make inferences about whether a given email is spam or not. Here's how the approach works:"
   ]
  },
  {
   "cell_type": "markdown",
   "metadata": {},
   "source": [
    "- Tokenization, the emails are first tokenized into individual words to create a list of words in each email. This allows us to work with the words as features.\n",
    "- Vocabulary Building, build a vocabulary by collecting all unique words from both the previous ham and spam emails. This vocabulary represents all possible features (words) that can be used for classification.\n",
    "- Prior Probabilities, calculate the prior probabilities of an email being ham or spam. This involves counting the number of ham and spam emails and calculating the ratios.\n",
    "- Conditional Probabilities, for each word in the vocabulary, calculate conditional probabilities P(word|ham) and P(word|spam). This is done by counting the occurrences of each word in both ham and spam emails and normalizing them.\n",
    "- Classification, to classify new emails, calculate the probability of an email being ham or spam using Bayes' Rule. For each word in the new email, update the probabilities based on the conditional probabilities of the words. Then compare these probabilities and classify the email as either ham or spam based on which probability is higher."
   ]
  },
  {
   "cell_type": "markdown",
   "metadata": {},
   "source": [
    "## Calculation of Spamicity for a Message\n",
    "Calculate the spamicity of a specific message from the new_emails set.\n",
    "To calculate the spamicity of the message: 'renew your password'"
   ]
  },
  {
   "cell_type": "markdown",
   "metadata": {},
   "source": [
    "- Tokenize the message into words: ['renew', 'your', 'password']\n",
    "- Classification\n",
    "        Initialize prob_ham and prob_spam with the prior probabilities: prob_ham = prior_ham and prob_spam = prior_spam.\n",
    "    For each word, update the probabilities using conditional probabilities:\n",
    "        For 'renew', if it's in the vocabulary, update prob_ham and prob_spam using the conditional probabilities.\n",
    "        For 'your', update probabilities again.\n",
    "        For 'password', update once more.\n",
    "    Finally, compare prob_ham and prob_spam to classify the message. If prob_spam is higher, the message is classified as 'spam'; otherwise, it's 'ham'."
   ]
  },
  {
   "cell_type": "code",
   "execution_count": null,
   "metadata": {},
   "outputs": [],
   "source": []
  }
 ],
 "metadata": {
  "kernelspec": {
   "display_name": "Python 3 (ipykernel)",
   "language": "python",
   "name": "python3"
  },
  "language_info": {
   "codemirror_mode": {
    "name": "ipython",
    "version": 3
   },
   "file_extension": ".py",
   "mimetype": "text/x-python",
   "name": "python",
   "nbconvert_exporter": "python",
   "pygments_lexer": "ipython3",
   "version": "3.9.12"
  }
 },
 "nbformat": 4,
 "nbformat_minor": 2
}
