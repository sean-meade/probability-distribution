{
 "cells": [
  {
   "cell_type": "markdown",
   "metadata": {},
   "source": [
    "# Notebook E-tivity 3 CE4021 Task 1"
   ]
  },
  {
   "cell_type": "markdown",
   "metadata": {},
   "source": [
    "Student name: Sean Meade"
   ]
  },
  {
   "cell_type": "markdown",
   "metadata": {},
   "source": [
    "Student ID: 101287921"
   ]
  },
  {
   "cell_type": "markdown",
   "metadata": {},
   "source": [
    "<hr style=\\\"border:2px solid gray\\\"> </hr>"
   ]
  },
  {
   "cell_type": "markdown",
   "metadata": {},
   "source": [
    "## Imports"
   ]
  },
  {
   "cell_type": "code",
   "execution_count": 70,
   "metadata": {},
   "outputs": [],
   "source": [
    "import numpy as np\n",
    "import math\n",
    "import random\n",
    "import matplotlib.pyplot as plt"
   ]
  },
  {
   "cell_type": "markdown",
   "metadata": {},
   "source": [
    " If you believe required imports are missing, please contact your moderator."
   ]
  },
  {
   "cell_type": "markdown",
   "metadata": {},
   "source": [
    "<hr style=\\\"border:2px solid gray\\\"> </hr>"
   ]
  },
  {
   "cell_type": "markdown",
   "metadata": {},
   "source": [
    "## Task 1"
   ]
  },
  {
   "cell_type": "markdown",
   "metadata": {},
   "source": [
    "## Problem Description\n",
    "\n",
    "Write code to simulate the probabilistic experiment of observing the height of customers of a theme park to establish the mean and standard deviation.\n",
    "\n",
    "### The type of random variable and probability distribution\n",
    "\n",
    "To describe this experiment I have chosen to use a continuous variable. There are no set categories here a customer can be of any height in a given range. This random variable is also univariate, meaning that it is just height we are interested in there is nothing else. Being a continuous variable and a natural occurrence I will represent it with a normal distribution.\n",
    "\n",
    "The probabilities for a continuous variable are described in intervals (e.g. probability of a person being between 120 cm and 160 cm). For this it will be described using a probability density function. More specifically it will be represented by a normal distribution which is described by two numbers. These are the mean (mu - $ \\mu $) and the standard deviation (sigma - $ \\sigma $). The formula that represents a normal distribution is the following:\n",
    "\n",
    "$$ f(x) = \\frac{1}{\\sigma \\sqrt{2\\pi}} e^{-\\frac{1}{2}\\left(\\frac{x - \\mu}{\\sigma}\\right)^2} $$\n",
    "\n",
    "### "
   ]
  },
  {
   "cell_type": "markdown",
   "metadata": {},
   "source": [
    "## expected value and standard deviation of your random variable\n",
    "\n",
    "Any stats when searching online for average heights are for adults and its all country specific. There are so many different rides the min and max height vary a lot. So I decided to make my theme park for adults in Ireland\n",
    "\n",
    "These values only need to be representative. There would be a lot to take into account otherwise. For example there would be a very wide range of height because of adults, teenagers, and children visiting the theme park. There is very little (understandably so) data on the heights of children or heights for that age range of entering a theme park on average. I was hoping to use the average age to judge the average height but these are not a one to one relationship either.\n",
    "\n",
    "[www.dryukselyurttas.com](https://www.dryukselyurttas.com/post/average-height-men-and-women#:~:text=Iceland%3A%20Men%20%2D%205%20feet%2011.7,feet%203.4%20inches%20(161%20cm)):\n",
    "Ireland: Men - 179 cm; Women - 164 cm\n",
    "\n",
    "[en.wikipedia.org](https://en.wikipedia.org/wiki/Average_human_height_by_country):\n",
    "Ireland: Men - 177 cm; Women - 163 cm\n"
   ]
  },
  {
   "cell_type": "code",
   "execution_count": 71,
   "metadata": {},
   "outputs": [
    {
     "data": {
      "text/plain": [
       "170.75"
      ]
     },
     "execution_count": 71,
     "metadata": {},
     "output_type": "execute_result"
    }
   ],
   "source": [
    "# Taking the average of these means:\n",
    "mean = (((179 + 177)/2) + ((164 + 163)/2))/2\n",
    "mean"
   ]
  },
  {
   "cell_type": "markdown",
   "metadata": {},
   "source": [
    "[Height, Weight, and Body Mass of the British Population Since 1820 by Roderick Floud](https://www.nber.org/system/files/working_papers/h0108/h0108.pdf)\n",
    "Adult male height is normally distributed with a standard deviation of about 2.5 inches (6.35 cm) while female height is normally distributed with a standard deviation of about 2.2 inches (5.59 cm)."
   ]
  },
  {
   "cell_type": "code",
   "execution_count": 72,
   "metadata": {},
   "outputs": [
    {
     "data": {
      "text/plain": [
       "5.97"
      ]
     },
     "execution_count": 72,
     "metadata": {},
     "output_type": "execute_result"
    }
   ],
   "source": [
    "# calculate the average of the standard deviation\n",
    "standard_deviation = (6.35 + 5.59)/2\n",
    "standard_deviation"
   ]
  },
  {
   "cell_type": "markdown",
   "metadata": {},
   "source": [
    "## Experiment & comparing the calculated \n",
    "\n",
    "Write Python code to simulate the heights of people entering the park I have decided to use a normal distribution."
   ]
  },
  {
   "cell_type": "code",
   "execution_count": 73,
   "metadata": {},
   "outputs": [],
   "source": [
    "# Create data to represent the normal distribution of the heights of people entering the theme park\n",
    "s = np.random.normal(mean, standard_deviation, 10000000)"
   ]
  },
  {
   "cell_type": "markdown",
   "metadata": {},
   "source": [
    "The code should run the experiment a sufficient number of times such that you can experimentally approximate the following:\n",
    "\n",
    "- The expected value (mean) of your random variable\n",
    "\n",
    "$$ \\mu = \\frac{\\sum_{i=1}^{N}x_i}{N} $$\n",
    "\n",
    "Note that the higher the size of s the closer the experimentally obtained mean will be to the calculated mean above."
   ]
  },
  {
   "cell_type": "code",
   "execution_count": 74,
   "metadata": {},
   "outputs": [
    {
     "data": {
      "text/plain": [
       "170.752440880719"
      ]
     },
     "execution_count": 74,
     "metadata": {},
     "output_type": "execute_result"
    }
   ],
   "source": [
    "# calculate the mean by summing the data points and dividing by the number\n",
    "calculated_mean = sum(s)/len(s)\n",
    "calculated_mean"
   ]
  },
  {
   "cell_type": "markdown",
   "metadata": {},
   "source": [
    "- The standard deviation of your random variable.\n",
    "\n",
    "$$ \\sigma = \\sqrt{\\frac{\\sum_{i=1}^{N}(x_i - \\mu)^2}{N}}$$\n",
    "\n",
    "Like the mean the higher the size of s the closer the experimentally obtained standard deviation will be to the calculated standard deviation above."
   ]
  },
  {
   "cell_type": "code",
   "execution_count": 75,
   "metadata": {},
   "outputs": [
    {
     "data": {
      "text/plain": [
       "5.968109280999327"
      ]
     },
     "execution_count": 75,
     "metadata": {},
     "output_type": "execute_result"
    }
   ],
   "source": [
    "# subtract the mean from each value in that data\n",
    "mean_s = (s - calculated_mean)\n",
    "# square each of these\n",
    "squared_diff = mean_s**2\n",
    "# calculate the variance by summing all the squared differences and dividing by the number of data points\n",
    "variance = sum(squared_diff)/len(s)\n",
    "# Calculate the standard deviation by getting the square root of the variance\n",
    "std = np.sqrt(variance)\n",
    "std"
   ]
  },
  {
   "cell_type": "markdown",
   "metadata": {},
   "source": [
    "## outputs and graphs"
   ]
  },
  {
   "cell_type": "markdown",
   "metadata": {},
   "source": [
    "The number of bins was decided from testing different amounts looking at the white space under the curve. After 90 there does not seem to be a much of a benefit from adding more bins."
   ]
  },
  {
   "cell_type": "code",
   "execution_count": 79,
   "metadata": {},
   "outputs": [
    {
     "data": {
      "image/png": "[encoded data removed]",
      "text/plain": [
       "<Figure size 640x480 with 1 Axes>"
      ]
     },
     "metadata": {},
     "output_type": "display_data"
    }
   ],
   "source": [
    "# Create the bins to plot\n",
    "count, bins, ignored = plt.hist(s, 90, density=True, color='m')\n",
    "\n",
    "# Plot the bins and the normal distribution\n",
    "plt.scatter(s, 1/(standard_deviation * np.sqrt(2 * np.pi)) *\n",
    "            np.exp( - (s - mean)**2 / (2 * standard_deviation**2)),\n",
    "            s=0.3, color='b')\n",
    "\n",
    "# plot mean and standard deviation\n",
    "plt.axvline(x = mean, color = 'r', alpha = 0.5)\n",
    "plt.axvline(x = mean - standard_deviation, color = 'g', alpha = 0.5)\n",
    "plt.axvline(x = mean + standard_deviation, color = 'g', alpha = 0.5)\n",
    "\n",
    "# Label the axes\n",
    "plt.xlabel('Height (cm)')\n",
    "plt.ylabel('Probability Density')\n",
    "plt.show()"
   ]
  },
  {
   "cell_type": "markdown",
   "metadata": {},
   "source": [
    "<hr style=\\\"border:2px solid gray\\\"> </hr>"
   ]
  },
  {
   "cell_type": "markdown",
   "metadata": {},
   "source": [
    "## Reflection"
   ]
  },
  {
   "cell_type": "markdown",
   "metadata": {},
   "source": [
    "I increased the samples when creating my sample data (s) as suggested by Deventhiran Ranganathan on my forum post. This led to a more accurate result in the experimental values.\n",
    "\n",
    "### Description of code:\n",
    "\n",
    "I started off by using data found online to calculate my mean and standard deviation for the experiment.\n",
    "\n",
    "Using the NumPy random.normal function and the calculated mean and standard deviation I create data to represent the normal distribution of the heights of people entering the theme park.\n",
    "\n",
    "The I calculated the mean by summing the data points and dividing by the number. I also calculated the standard_deviation of the simulated data. First the mean was subtracted from each value in that data. Then each of these differences were squared. Then I calculate the variance by summing all the squared differences and dividing by the number of data points. Finally I calculate the standard deviation by getting the square root of the variance.\n",
    "\n",
    "Then I create the 'bins' for plotting. This function basically takes the spread and divides it into a number of equal ranges (or 'bins) then it will use the average of the data points that fall in that range and use that as the height of the bar.\n",
    "\n",
    "Then using the formula for the normal distribution I plot each point of the data. It takes longer to plot then using the bins as points and drawing a line but I like that it shows the bell curve even when you just plot the points. I also add in a line to show the mean and two either side of that to show the standard deviation (sorry for the color choices).\n",
    "\n"
   ]
  }
 ],
 "metadata": {
  "kernelspec": {
   "display_name": "Python 3",
   "language": "python",
   "name": "python3"
  },
  "language_info": {
   "codemirror_mode": {
    "name": "ipython",
    "version": 3
   },
   "file_extension": ".py",
   "mimetype": "text/x-python",
   "name": "python",
   "nbconvert_exporter": "python",
   "pygments_lexer": "ipython3",
   "version": "3.11.4"
  }
 },
 "nbformat": 4,
 "nbformat_minor": 2
}
