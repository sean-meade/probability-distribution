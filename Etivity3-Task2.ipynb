{
 "cells": [
  {
   "cell_type": "markdown",
   "metadata": {},
   "source": [
    "# Notebook E-tivity 3 CE4021 Task 2"
   ]
  },
  {
   "cell_type": "markdown",
   "metadata": {},
   "source": [
    "Student name: Bartlomiej Mlynarkiewicz"
   ]
  },
  {
   "cell_type": "markdown",
   "metadata": {},
   "source": [
    "Student ID: 17241782"
   ]
  },
  {
   "cell_type": "markdown",
   "metadata": {},
   "source": [
    "<hr style=\\\"border:2px solid gray\\\"> </hr>"
   ]
  },
  {
   "cell_type": "markdown",
   "metadata": {},
   "source": [
    "## Imports"
   ]
  },
  {
   "cell_type": "markdown",
   "metadata": {},
   "source": [
    "If you believe required imports are missing, please contact your moderator."
   ]
  },
  {
   "cell_type": "markdown",
   "metadata": {},
   "source": [
    "<hr style=\\\"border:2px solid gray\\\"> </hr>"
   ]
  },
  {
   "cell_type": "markdown",
   "metadata": {},
   "source": [
    "## Task 2"
   ]
  },
  {
   "cell_type": "markdown",
   "metadata": {},
   "source": [
    "Using Etivity3-Task2.ipynb from the Gitlab repository and the dataset contained therein, create a Naive Bayes Classifier to filter incoming mail for SPAM.\n",
    "\n",
    "The notebook provides a small dataset of previous 'emails' (please note the absence of punctuation which simplifies the coding challenge somewhat). Previous wanted emails are contained in previous_ham. Previous unwanted emails are contained in previous_spam. \n",
    "\n",
    "Write code using Bayes' Rule to determine whether the messages contained in new_emails are HAM or SPAM. Compare the decisions your classifier takes with the label associated with the messages (indicated by the key under which they are stored in the new_emails dictionary. \n",
    "\n",
    "If time permits, add the code required to allow your classifier to learn from the email messages contained in new_emails. Note that this functionality is required to be graded in the Exemplary category. \n",
    "\n",
    "HINTS:\n",
    "\n",
    "1. Use functions to divide up the task in smaller components. It is useful to work through the problem by hand to get a handle on what functions would be useful.\n",
    "2. Choose a suitable threshold of 'spamicity' (or 'spaminess') to distinguish between spam and ham messages in this dataset. "
   ]
  },
  {
   "cell_type": "markdown",
   "metadata": {},
   "source": [
    "Use the below information to create a Naive Bayes SPAM filter. Test your filter using the messages in new_emails. You may add as many cells as you require to complete the task."
   ]
  },
  {
   "cell_type": "markdown",
   "metadata": {},
   "source": [
    "### Background"
   ]
  },
  {
   "cell_type": "markdown",
   "metadata": {},
   "source": [
    "A Naive Bayes classifier is a probabilistic machine learning model that’s used for classification task. The crux of the classifier is based on the Bayes theorem.\n",
    "\n",
    "\n",
    "$$\n",
    "P(A|B) = \\frac{P(A|B)P(A)}{P(B)}\n",
    "$$\n",
    "\n",
    "Using Bayes theorem, we can find the probability of A happening, given that B has occurred. Here, B is the evidence and A is the hypothesis. The assumption made here is that the features are independent. That is presence of one particular feature does not affect the other. Hence it is called naive."
   ]
  },
  {
   "cell_type": "markdown",
   "metadata": {},
   "source": [
    "### Data"
   ]
  },
  {
   "cell_type": "code",
   "execution_count": 5,
   "metadata": {},
   "outputs": [],
   "source": [
    "previous_spam = ['send us your password', 'review our website', 'send your password', 'send us your account']\n",
    "previous_ham = ['Your activity report','benefits physical activity', 'the importance vows']\n",
    "new_emails = {'spam':['renew your password', 'renew your vows'], 'ham':['benefits of our account', 'the importance of physical activity']}"
   ]
  },
  {
   "cell_type": "markdown",
   "metadata": {},
   "source": [
    "### Implementation"
   ]
  },
  {
   "cell_type": "markdown",
   "metadata": {},
   "source": [
    "Below is a `defaultdict` implementation, similar to `defaultdict` provided by the collections library. The standard dictionary includes the method setdefault() for retrieving a value and establishing a default if the value does not exist. By contrast, defaultdict lets the caller specify the default(value to be returned) up front when the container is initialized. This is to avoid `KeyError` being thrown if a key doesn't exist within the `dict`."
   ]
  },
  {
   "cell_type": "code",
   "execution_count": 110,
   "metadata": {},
   "outputs": [],
   "source": [
    "def defaultdict(default_type):\n",
    "    class DefaultDict(dict):\n",
    "        def __getitem__(self, key):\n",
    "            if key not in self:\n",
    "                dict.__setitem__(self, key, default_type())\n",
    "            return dict.__getitem__(self, key)\n",
    "    return DefaultDict()"
   ]
  },
  {
   "cell_type": "markdown",
   "metadata": {},
   "source": [
    "Tokenize all words within an text and convert to lowercase for comparison purposes."
   ]
  },
  {
   "cell_type": "code",
   "execution_count": 111,
   "metadata": {},
   "outputs": [],
   "source": [
    "def to_lower_tokens(text):\n",
    "    return [word.lower() for word in text.split()]"
   ]
  },
  {
   "cell_type": "markdown",
   "metadata": {},
   "source": [
    "Train the Naive Bayes Classifier"
   ]
  },
  {
   "cell_type": "code",
   "execution_count": 177,
   "metadata": {},
   "outputs": [],
   "source": [
    "def train_naive_bayes(previous_ham, previous_spam):\n",
    "    spam_word_counts = defaultdict(int)\n",
    "    ham_word_counts = defaultdict(int)\n",
    "    \n",
    "    # Count the number of previous spam and ham email\n",
    "    total_spam_messages = len(previous_spam)\n",
    "    total_ham_messages = len(previous_ham)\n",
    "\n",
    "    # Count the number of words in previous spam and ham emails\n",
    "    total_words_in_spam = sum(len(email.split()) for email in previous_spam)\n",
    "    total_words_in_ham = sum(len(email.split()) for email in previous_ham)\n",
    "    \n",
    "    # Count the frequency of each word in previous spam emails\n",
    "    for email in previous_spam:\n",
    "        words = to_lower_tokens(email)\n",
    "        for word in words:\n",
    "            spam_word_counts[word] += 1\n",
    "\n",
    "    # Count the frequency of each word in previous ham emails\n",
    "    for email in previous_ham:\n",
    "        words = to_lower_tokens(email)\n",
    "        for word in words:\n",
    "            ham_word_counts[word] += 1\n",
    "    \n",
    "    return spam_word_counts, ham_word_counts, total_spam_messages, total_ham_messages, total_words_in_spam, total_words_in_ham"
   ]
  },
  {
   "cell_type": "markdown",
   "metadata": {},
   "source": [
    "Use Naive Bayes to predict whether an email is SPAM or HAM"
   ]
  },
  {
   "cell_type": "code",
   "execution_count": 209,
   "metadata": {},
   "outputs": [],
   "source": [
    "def predict_naive_bayes(email, spam_word_counts, ham_word_counts, total_spam_messages, total_ham_messages, total_words_in_spam, total_words_in_ham):\n",
    "    words = to_lower_tokens(email)\n",
    "    \n",
    "    # Laplace smoothing\n",
    "    alpha = 1\n",
    "\n",
    "    # Calculate P(S)\n",
    "    spam_score = total_spam_messages / (total_spam_messages + total_ham_messages)\n",
    "    # Calculate P(¬S)\n",
    "    ham_score = total_ham_messages / (total_spam_messages + total_ham_messages)\n",
    "    \n",
    "    uniqe_words = set().union(spam_word_counts.keys(), ham_word_counts.keys())\n",
    "\n",
    "    for word in words:\n",
    "        # Calculate the conditional probabilities\n",
    "        prob_word_given_spam = (spam_word_counts[word] + alpha) / (total_words_in_spam + len(uniqe_words))\n",
    "        prob_word_given_ham = (ham_word_counts[word] + alpha) / (total_words_in_ham + len(uniqe_words))\n",
    "        \n",
    "        spam_score *= prob_word_given_spam\n",
    "        ham_score *= prob_word_given_ham\n",
    "    \n",
    "    # Use Bayes' theorem to calculate P(spam | words) and P(ham | words)\n",
    "\n",
    "    spamminess_score = spam_score / ham_score\n",
    "    prediction = 'spam' if spam_score > ham_score else 'ham' \n",
    "    \n",
    "    return prediction, spamminess_score"
   ]
  },
  {
   "cell_type": "markdown",
   "metadata": {},
   "source": [
    "Train the Naive Bayes Classifier"
   ]
  },
  {
   "cell_type": "code",
   "execution_count": 210,
   "metadata": {},
   "outputs": [],
   "source": [
    "spam_word_counts, ham_word_counts, total_spam_messages, total_ham_messages, total_words_in_spam, total_words_in_ham = train_naive_bayes(previous_ham, previous_spam)"
   ]
  },
  {
   "cell_type": "markdown",
   "metadata": {},
   "source": [
    "Use the classifier to predict whether new emails are SPAM or HAM"
   ]
  },
  {
   "cell_type": "code",
   "execution_count": 212,
   "metadata": {},
   "outputs": [],
   "source": [
    "classified_emails = {'spam': [], 'ham': []}\n",
    "spamminess_scores = {'spam': [], 'ham': []}\n",
    "\n",
    "for label, emails in new_emails.items():\n",
    "    for email in emails:\n",
    "        prediction, spamminess_score = predict_naive_bayes(email, spam_word_counts, ham_word_counts, total_spam_messages, total_ham_messages, total_words_in_spam, total_words_in_ham)\n",
    "        classified_emails[prediction].append(email)\n",
    "        spamminess_scores[prediction].append(spamminess_score)"
   ]
  },
  {
   "cell_type": "code",
   "execution_count": 213,
   "metadata": {},
   "outputs": [
    {
     "name": "stdout",
     "output_type": "stream",
     "text": [
      "Classified SPAM: ['renew your password', 'benefits of our account']\n",
      "Classified HAM: ['renew your vows', 'the importance of physical activity']\n",
      "Actual Labels - SPAM: ['renew your password', 'renew your vows']\n",
      "Actual Labels - HAM: ['benefits of our account', 'the importance of physical activity']\n",
      "Spamminess Scores - SPAM: [4.534503259666243, 1.2860082304526745]\n",
      "Spamminess Scores - HAM: [0.7716049382716047, 0.02305609567131223]\n"
     ]
    }
   ],
   "source": [
    "print(\"Classified SPAM:\", classified_emails['spam'])\n",
    "print(\"Classified HAM:\", classified_emails['ham'])\n",
    "print(\"Actual Labels - SPAM:\", new_emails['spam'])\n",
    "print(\"Actual Labels - HAM:\", new_emails['ham'])\n",
    "\n",
    "print(\"Spamminess Scores - SPAM:\", spamminess_scores['spam'])\n",
    "print(\"Spamminess Scores - HAM:\", spamminess_scores['ham'])"
   ]
  },
  {
   "cell_type": "code",
   "execution_count": 214,
   "metadata": {},
   "outputs": [
    {
     "name": "stdout",
     "output_type": "stream",
     "text": [
      "Correct: 2\n",
      "Incorrect: 2\n",
      "Accuracy: 0.5\n"
     ]
    }
   ],
   "source": [
    "correct = 0\n",
    "total = sum(len(new_emails[key]) for key in list(new_emails.keys()))\n",
    "\n",
    "for key in list(classified_emails.keys()):\n",
    "    for row in classified_emails[key]:\n",
    "        if row in new_emails[key]:\n",
    "            correct = correct + 1\n",
    "\n",
    "print('Correct:', correct)\n",
    "print('Incorrect:', total - correct)\n",
    "print('Accuracy:', correct/total)"
   ]
  },
  {
   "cell_type": "markdown",
   "metadata": {},
   "source": [
    "<hr style=\\\"border:2px solid gray\\\"> </hr>"
   ]
  },
  {
   "cell_type": "markdown",
   "metadata": {},
   "source": [
    "## Reflection"
   ]
  }
 ],
 "metadata": {
  "kernelspec": {
   "display_name": "Python 3 (ipykernel)",
   "language": "python",
   "name": "python3"
  },
  "language_info": {
   "codemirror_mode": {
    "name": "ipython",
    "version": 3
   },
   "file_extension": ".py",
   "mimetype": "text/x-python",
   "name": "python",
   "nbconvert_exporter": "python",
   "pygments_lexer": "ipython3",
   "version": "3.11.4"
  }
 },
 "nbformat": 4,
 "nbformat_minor": 2
}
